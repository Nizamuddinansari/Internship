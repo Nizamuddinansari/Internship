{
 "cells": [
  {
   "cell_type": "code",
   "execution_count": 15,
   "id": "14e0593e",
   "metadata": {},
   "outputs": [],
   "source": [
    "import pandas as pd\n",
    "import numpy as np"
   ]
  },
  {
   "cell_type": "markdown",
   "id": "45ca3721",
   "metadata": {},
   "source": [
    "#### 11.Write a python program to find the factorial of a number."
   ]
  },
  {
   "cell_type": "code",
   "execution_count": 29,
   "id": "b37760bc",
   "metadata": {},
   "outputs": [
    {
     "name": "stdout",
     "output_type": "stream",
     "text": [
      "Enter a number :0\n",
      "Factorial of 0 is 1\n"
     ]
    }
   ],
   "source": [
    "# Taking input form the user\n",
    "x=int(input('Enter a number :'))\n",
    "\n",
    "y=1\n",
    "\n",
    "# Using loop to iterate.\n",
    "for a in range(1,x+1):\n",
    "    y*=a\n",
    "print(\"Factorial of\", x, \"is\", y)"
   ]
  },
  {
   "cell_type": "markdown",
   "id": "2181b85e",
   "metadata": {},
   "source": [
    "#### 12.Write a python program to find whether a number is prime or composite."
   ]
  },
  {
   "cell_type": "code",
   "execution_count": 66,
   "id": "2ae3ce78",
   "metadata": {},
   "outputs": [
    {
     "name": "stdout",
     "output_type": "stream",
     "text": [
      "Enter a number :1\n",
      "The number 1 is neither prime nor composite\n"
     ]
    }
   ],
   "source": [
    "# Taking input form the user\n",
    "x=int(input('Enter a number :'))\n",
    "\n",
    "# Using the conditional operaters.\n",
    "if x==1:\n",
    "    print('The number',x,'is neither prime nor composite')\n",
    "else:\n",
    "    for a in range(2, int(x/2)+1):\n",
    "        if x%a == 0:\n",
    "            print('The number',x,'is composite number')\n",
    "            break\n",
    "    else:\n",
    "        print('The number',x,'is prime number')"
   ]
  },
  {
   "cell_type": "markdown",
   "id": "a089f194",
   "metadata": {},
   "source": [
    "#### 13.Write a python program to check whether a given string is palindrome or not."
   ]
  },
  {
   "cell_type": "code",
   "execution_count": 84,
   "id": "431c8d9b",
   "metadata": {},
   "outputs": [
    {
     "name": "stdout",
     "output_type": "stream",
     "text": [
      "Enter the string :abcd\n",
      "String is not palindrome\n"
     ]
    }
   ],
   "source": [
    "# Taking input form the user\n",
    "x=input('Enter the string :')\n",
    "\n",
    "# Checking original input and reverse input are same or not.\n",
    "if x==x[::-1]:\n",
    "    print('String is palindrome')\n",
    "else:\n",
    "    print('String is not palindrome')"
   ]
  },
  {
   "cell_type": "markdown",
   "id": "15c7f6c1",
   "metadata": {},
   "source": [
    "#### 14.Write a Python program to get the third side of right-angled triangle from two given sides."
   ]
  },
  {
   "cell_type": "code",
   "execution_count": 94,
   "id": "bfbe0a61",
   "metadata": {},
   "outputs": [
    {
     "name": "stdout",
     "output_type": "stream",
     "text": [
      "Enter both sides of triangle with space between both values :5 6\n",
      "Third side of tringle is 7.810249675906654\n"
     ]
    }
   ],
   "source": [
    "# Taking input form the user and stroing in 2 variables\n",
    "x,y=map(int,input('Enter both sides of triangle with space between both values :').split())\n",
    "\n",
    "# Calculating third side of triangle using Pathagoras Theorem\n",
    "z=np.sqrt((x**2)+(y**2))\n",
    "\n",
    "# Printing the calculated result\n",
    "print('Third side of tringle is',z)"
   ]
  },
  {
   "cell_type": "markdown",
   "id": "904301a2",
   "metadata": {},
   "source": [
    "#### 15.Write a python program to print the frequency of each of the characters present in a given string."
   ]
  },
  {
   "cell_type": "code",
   "execution_count": 98,
   "id": "f610f752",
   "metadata": {},
   "outputs": [
    {
     "name": "stdout",
     "output_type": "stream",
     "text": [
      "Enter the string :abcdasabcfd\n",
      "char frequency\n",
      "a frequency is 3\n",
      "b frequency is 2\n",
      "c frequency is 2\n",
      "d frequency is 2\n",
      "s frequency is 1\n",
      "f frequency is 1\n"
     ]
    }
   ],
   "source": [
    "# Taking input form the user\n",
    "strng=input('Enter the string :')\n",
    "\n",
    "# Creatung an empty dictonary\n",
    "freq={}\n",
    "\n",
    "for char in strng:\n",
    "    if char in freq:\n",
    "        freq[char]+=1\n",
    "    else:\n",
    "        freq[char]=1\n",
    "        \n",
    "print('char frequency')\n",
    "for char,value in freq.items():\n",
    "    print(char,'frequency is',value)"
   ]
  },
  {
   "cell_type": "code",
   "execution_count": null,
   "id": "62f8d2ad",
   "metadata": {},
   "outputs": [],
   "source": []
  }
 ],
 "metadata": {
  "kernelspec": {
   "display_name": "Python 3 (ipykernel)",
   "language": "python",
   "name": "python3"
  },
  "language_info": {
   "codemirror_mode": {
    "name": "ipython",
    "version": 3
   },
   "file_extension": ".py",
   "mimetype": "text/x-python",
   "name": "python",
   "nbconvert_exporter": "python",
   "pygments_lexer": "ipython3",
   "version": "3.9.12"
  },
  "toc": {
   "base_numbering": 1,
   "nav_menu": {},
   "number_sections": true,
   "sideBar": true,
   "skip_h1_title": false,
   "title_cell": "Table of Contents",
   "title_sidebar": "Contents",
   "toc_cell": false,
   "toc_position": {},
   "toc_section_display": true,
   "toc_window_display": false
  }
 },
 "nbformat": 4,
 "nbformat_minor": 5
}
