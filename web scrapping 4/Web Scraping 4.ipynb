{
 "cells": [
  {
   "cell_type": "code",
   "execution_count": 33,
   "id": "76d412c2",
   "metadata": {},
   "outputs": [],
   "source": [
    "import selenium\n",
    "import pandas as pd\n",
    "from selenium import webdriver\n",
    "import warnings\n",
    "warnings.filterwarnings('ignore')\n",
    "from selenium.common.exceptions import StaleElementReferenceException,NoSuchElementException\n",
    "from selenium.webdriver.common.by import By\n",
    "import time\n",
    "from selenium.webdriver.support.ui import WebDriverWait\n",
    "from selenium.webdriver.support import expected_conditions as EC"
   ]
  },
  {
   "cell_type": "markdown",
   "id": "28cbdac9",
   "metadata": {
    "heading_collapsed": true
   },
   "source": [
    "## 1. Scrape the details of most viewed videos on YouTube from Wikipedia.\n",
    "\n",
    "### Url = https://en.wikipedia.org/wiki/List_of_most-viewed_YouTube_videos\n",
    "\n",
    "**You need to find following details:**\n",
    "\n",
    "**A) Rank**\n",
    "\n",
    "**B) Name**\n",
    "\n",
    "**C) Artist**\n",
    "\n",
    "**D) Upload date**\n",
    "\n",
    "**E) Views**"
   ]
  },
  {
   "cell_type": "code",
   "execution_count": 2,
   "id": "fbf89228",
   "metadata": {
    "hidden": true
   },
   "outputs": [],
   "source": [
    "# connecting to the crome\n",
    "driver=webdriver.Chrome(r\"chromedriver.exe\")"
   ]
  },
  {
   "cell_type": "code",
   "execution_count": 3,
   "id": "89693218",
   "metadata": {
    "hidden": true
   },
   "outputs": [],
   "source": [
    "# searching the website\n",
    "driver.get(\"https://en.wikipedia.org/wiki/List_of_most-viewed_YouTube_videos\")"
   ]
  },
  {
   "cell_type": "code",
   "execution_count": 30,
   "id": "6d77cbc5",
   "metadata": {
    "hidden": true
   },
   "outputs": [],
   "source": [
    "rank=[]\n",
    "name=[]\n",
    "artist=[]\n",
    "upload_date=[]\n",
    "views=[]"
   ]
  },
  {
   "cell_type": "code",
   "execution_count": 31,
   "id": "c93e695c",
   "metadata": {
    "hidden": true
   },
   "outputs": [],
   "source": [
    "ra=driver.find_elements(By.XPATH,'//table[@class=\"wikitable sortable jquery-tablesorter\"][1]//tbody/tr/td[1]')\n",
    "for i in ra:\n",
    "    rank.append(i.text.split('.')[0])\n",
    "    \n",
    "na=driver.find_elements(By.XPATH,'//table[@class=\"wikitable sortable jquery-tablesorter\"][1]//tbody/tr/td[2]')\n",
    "for i in na:\n",
    "    name.append(i.text.split('\"')[1])\n",
    "    \n",
    "ar=driver.find_elements(By.XPATH,'//table[@class=\"wikitable sortable jquery-tablesorter\"][1]//tbody/tr/td[3]')\n",
    "for i in ar:\n",
    "    artist.append(i.text)\n",
    "    \n",
    "up=driver.find_elements(By.XPATH,'//table[@class=\"wikitable sortable jquery-tablesorter\"][1]//tbody/tr/td[5]')\n",
    "for i in up:\n",
    "    upload_date.append(i.text)\n",
    "    \n",
    "vi=driver.find_elements(By.XPATH,'//table[@class=\"wikitable sortable jquery-tablesorter\"][1]//tbody/tr/td[4]')\n",
    "for i in vi:\n",
    "    views.append(i.text)"
   ]
  },
  {
   "cell_type": "code",
   "execution_count": 32,
   "id": "b8530c0b",
   "metadata": {
    "hidden": true
   },
   "outputs": [
    {
     "name": "stdout",
     "output_type": "stream",
     "text": [
      "30 30 30 30 30\n"
     ]
    }
   ],
   "source": [
    "print(len(rank),len(name),len(artist),len(upload_date),len(views))"
   ]
  },
  {
   "cell_type": "code",
   "execution_count": 33,
   "id": "009bee5c",
   "metadata": {
    "hidden": true
   },
   "outputs": [
    {
     "data": {
      "text/html": [
       "<div>\n",
       "<style scoped>\n",
       "    .dataframe tbody tr th:only-of-type {\n",
       "        vertical-align: middle;\n",
       "    }\n",
       "\n",
       "    .dataframe tbody tr th {\n",
       "        vertical-align: top;\n",
       "    }\n",
       "\n",
       "    .dataframe thead th {\n",
       "        text-align: right;\n",
       "    }\n",
       "</style>\n",
       "<table border=\"1\" class=\"dataframe\">\n",
       "  <thead>\n",
       "    <tr style=\"text-align: right;\">\n",
       "      <th></th>\n",
       "      <th>Rank</th>\n",
       "      <th>Video Name</th>\n",
       "      <th>Artist name</th>\n",
       "      <th>Date of upload</th>\n",
       "      <th>Views in Billion</th>\n",
       "    </tr>\n",
       "  </thead>\n",
       "  <tbody>\n",
       "    <tr>\n",
       "      <th>0</th>\n",
       "      <td>1</td>\n",
       "      <td>Baby Shark Dance</td>\n",
       "      <td>Pinkfong Baby Shark - Kids' Songs &amp; Stories</td>\n",
       "      <td>June 17, 2016</td>\n",
       "      <td>12.85</td>\n",
       "    </tr>\n",
       "    <tr>\n",
       "      <th>1</th>\n",
       "      <td>2</td>\n",
       "      <td>Despacito</td>\n",
       "      <td>Luis Fonsi</td>\n",
       "      <td>January 12, 2017</td>\n",
       "      <td>8.16</td>\n",
       "    </tr>\n",
       "    <tr>\n",
       "      <th>2</th>\n",
       "      <td>3</td>\n",
       "      <td>Johny Johny Yes Papa</td>\n",
       "      <td>LooLoo Kids</td>\n",
       "      <td>October 8, 2016</td>\n",
       "      <td>6.70</td>\n",
       "    </tr>\n",
       "    <tr>\n",
       "      <th>3</th>\n",
       "      <td>4</td>\n",
       "      <td>Bath Song</td>\n",
       "      <td>Cocomelon – Nursery Rhymes</td>\n",
       "      <td>May 2, 2018</td>\n",
       "      <td>6.20</td>\n",
       "    </tr>\n",
       "    <tr>\n",
       "      <th>4</th>\n",
       "      <td>5</td>\n",
       "      <td>Shape of You</td>\n",
       "      <td>Ed Sheeran</td>\n",
       "      <td>January 30, 2017</td>\n",
       "      <td>6.00</td>\n",
       "    </tr>\n",
       "    <tr>\n",
       "      <th>5</th>\n",
       "      <td>6</td>\n",
       "      <td>See You Again</td>\n",
       "      <td>Wiz Khalifa</td>\n",
       "      <td>April 6, 2015</td>\n",
       "      <td>5.89</td>\n",
       "    </tr>\n",
       "    <tr>\n",
       "      <th>6</th>\n",
       "      <td>7</td>\n",
       "      <td>Phonics Song with Two Words</td>\n",
       "      <td>ChuChu TV</td>\n",
       "      <td>March 6, 2014</td>\n",
       "      <td>5.30</td>\n",
       "    </tr>\n",
       "    <tr>\n",
       "      <th>7</th>\n",
       "      <td>8</td>\n",
       "      <td>Wheels on the Bus</td>\n",
       "      <td>Cocomelon – Nursery Rhymes</td>\n",
       "      <td>May 24, 2018</td>\n",
       "      <td>5.24</td>\n",
       "    </tr>\n",
       "    <tr>\n",
       "      <th>8</th>\n",
       "      <td>9</td>\n",
       "      <td>Uptown Funk</td>\n",
       "      <td>Mark Ronson</td>\n",
       "      <td>November 19, 2014</td>\n",
       "      <td>4.92</td>\n",
       "    </tr>\n",
       "    <tr>\n",
       "      <th>9</th>\n",
       "      <td>10</td>\n",
       "      <td>Learning Colors – Colorful Eggs on a Farm</td>\n",
       "      <td>Miroshka TV</td>\n",
       "      <td>February 27, 2018</td>\n",
       "      <td>4.89</td>\n",
       "    </tr>\n",
       "    <tr>\n",
       "      <th>10</th>\n",
       "      <td>11</td>\n",
       "      <td>Gangnam Style</td>\n",
       "      <td>Psy</td>\n",
       "      <td>July 15, 2012</td>\n",
       "      <td>4.80</td>\n",
       "    </tr>\n",
       "    <tr>\n",
       "      <th>11</th>\n",
       "      <td>12</td>\n",
       "      <td>Masha and the Bear – Recipe for Disaster</td>\n",
       "      <td>Get Movies</td>\n",
       "      <td>January 31, 2012</td>\n",
       "      <td>4.55</td>\n",
       "    </tr>\n",
       "    <tr>\n",
       "      <th>12</th>\n",
       "      <td>13</td>\n",
       "      <td>Dame Tu Cosita</td>\n",
       "      <td>El Chombo</td>\n",
       "      <td>April 5, 2018</td>\n",
       "      <td>4.35</td>\n",
       "    </tr>\n",
       "    <tr>\n",
       "      <th>13</th>\n",
       "      <td>14</td>\n",
       "      <td>Axel F</td>\n",
       "      <td>Crazy Frog</td>\n",
       "      <td>June 16, 2009</td>\n",
       "      <td>3.91</td>\n",
       "    </tr>\n",
       "    <tr>\n",
       "      <th>14</th>\n",
       "      <td>15</td>\n",
       "      <td>Sugar</td>\n",
       "      <td>Maroon 5</td>\n",
       "      <td>January 14, 2015</td>\n",
       "      <td>3.87</td>\n",
       "    </tr>\n",
       "    <tr>\n",
       "      <th>15</th>\n",
       "      <td>16</td>\n",
       "      <td>Roar</td>\n",
       "      <td>Katy Perry</td>\n",
       "      <td>September 5, 2013</td>\n",
       "      <td>3.80</td>\n",
       "    </tr>\n",
       "    <tr>\n",
       "      <th>16</th>\n",
       "      <td>17</td>\n",
       "      <td>Counting Stars</td>\n",
       "      <td>OneRepublic</td>\n",
       "      <td>May 31, 2013</td>\n",
       "      <td>3.79</td>\n",
       "    </tr>\n",
       "    <tr>\n",
       "      <th>17</th>\n",
       "      <td>18</td>\n",
       "      <td>Sorry</td>\n",
       "      <td>Justin Bieber</td>\n",
       "      <td>October 22, 2015</td>\n",
       "      <td>3.66</td>\n",
       "    </tr>\n",
       "    <tr>\n",
       "      <th>18</th>\n",
       "      <td>19</td>\n",
       "      <td>Baa Baa Black Sheep</td>\n",
       "      <td>Cocomelon – Nursery Rhymes</td>\n",
       "      <td>June 25, 2018</td>\n",
       "      <td>3.64</td>\n",
       "    </tr>\n",
       "    <tr>\n",
       "      <th>19</th>\n",
       "      <td>20</td>\n",
       "      <td>Thinking Out Loud</td>\n",
       "      <td>Ed Sheeran</td>\n",
       "      <td>October 7, 2014</td>\n",
       "      <td>3.60</td>\n",
       "    </tr>\n",
       "    <tr>\n",
       "      <th>20</th>\n",
       "      <td>21</td>\n",
       "      <td>Waka Waka (This Time for Africa)</td>\n",
       "      <td>Shakira</td>\n",
       "      <td>June 4, 2010</td>\n",
       "      <td>3.59</td>\n",
       "    </tr>\n",
       "    <tr>\n",
       "      <th>21</th>\n",
       "      <td>22</td>\n",
       "      <td>Dark Horse</td>\n",
       "      <td>Katy Perry</td>\n",
       "      <td>February 20, 2014</td>\n",
       "      <td>3.52</td>\n",
       "    </tr>\n",
       "    <tr>\n",
       "      <th>22</th>\n",
       "      <td>23</td>\n",
       "      <td>Lakdi Ki Kathi</td>\n",
       "      <td>Jingle Toons</td>\n",
       "      <td>June 14, 2018</td>\n",
       "      <td>3.48</td>\n",
       "    </tr>\n",
       "    <tr>\n",
       "      <th>23</th>\n",
       "      <td>24</td>\n",
       "      <td>Faded</td>\n",
       "      <td>Alan Walker</td>\n",
       "      <td>December 3, 2015</td>\n",
       "      <td>3.45</td>\n",
       "    </tr>\n",
       "    <tr>\n",
       "      <th>24</th>\n",
       "      <td>25</td>\n",
       "      <td>Perfect</td>\n",
       "      <td>Ed Sheeran</td>\n",
       "      <td>November 9, 2017</td>\n",
       "      <td>3.45</td>\n",
       "    </tr>\n",
       "    <tr>\n",
       "      <th>25</th>\n",
       "      <td>26</td>\n",
       "      <td>Let Her Go</td>\n",
       "      <td>Passenger</td>\n",
       "      <td>July 25, 2012</td>\n",
       "      <td>3.44</td>\n",
       "    </tr>\n",
       "    <tr>\n",
       "      <th>26</th>\n",
       "      <td>27</td>\n",
       "      <td>Girls Like You</td>\n",
       "      <td>Maroon 5</td>\n",
       "      <td>May 31, 2018</td>\n",
       "      <td>3.42</td>\n",
       "    </tr>\n",
       "    <tr>\n",
       "      <th>27</th>\n",
       "      <td>28</td>\n",
       "      <td>Humpty the train on a fruits ride</td>\n",
       "      <td>Kiddiestv Hindi – Nursery Rhymes &amp; Kids Songs</td>\n",
       "      <td>January 26, 2018</td>\n",
       "      <td>3.41</td>\n",
       "    </tr>\n",
       "    <tr>\n",
       "      <th>28</th>\n",
       "      <td>29</td>\n",
       "      <td>Lean On</td>\n",
       "      <td>Major Lazer</td>\n",
       "      <td>March 22, 2015</td>\n",
       "      <td>3.38</td>\n",
       "    </tr>\n",
       "    <tr>\n",
       "      <th>29</th>\n",
       "      <td>30</td>\n",
       "      <td>Bailando</td>\n",
       "      <td>Enrique Iglesias</td>\n",
       "      <td>April 11, 2014</td>\n",
       "      <td>3.38</td>\n",
       "    </tr>\n",
       "  </tbody>\n",
       "</table>\n",
       "</div>"
      ],
      "text/plain": [
       "   Rank                                 Video Name  \\\n",
       "0     1                           Baby Shark Dance   \n",
       "1     2                                  Despacito   \n",
       "2     3                       Johny Johny Yes Papa   \n",
       "3     4                                  Bath Song   \n",
       "4     5                               Shape of You   \n",
       "5     6                              See You Again   \n",
       "6     7                Phonics Song with Two Words   \n",
       "7     8                          Wheels on the Bus   \n",
       "8     9                                Uptown Funk   \n",
       "9    10  Learning Colors – Colorful Eggs on a Farm   \n",
       "10   11                              Gangnam Style   \n",
       "11   12   Masha and the Bear – Recipe for Disaster   \n",
       "12   13                             Dame Tu Cosita   \n",
       "13   14                                     Axel F   \n",
       "14   15                                      Sugar   \n",
       "15   16                                       Roar   \n",
       "16   17                             Counting Stars   \n",
       "17   18                                      Sorry   \n",
       "18   19                        Baa Baa Black Sheep   \n",
       "19   20                          Thinking Out Loud   \n",
       "20   21           Waka Waka (This Time for Africa)   \n",
       "21   22                                 Dark Horse   \n",
       "22   23                             Lakdi Ki Kathi   \n",
       "23   24                                      Faded   \n",
       "24   25                                    Perfect   \n",
       "25   26                                 Let Her Go   \n",
       "26   27                             Girls Like You   \n",
       "27   28          Humpty the train on a fruits ride   \n",
       "28   29                                    Lean On   \n",
       "29   30                                   Bailando   \n",
       "\n",
       "                                      Artist name     Date of upload  \\\n",
       "0     Pinkfong Baby Shark - Kids' Songs & Stories      June 17, 2016   \n",
       "1                                      Luis Fonsi   January 12, 2017   \n",
       "2                                     LooLoo Kids    October 8, 2016   \n",
       "3                      Cocomelon – Nursery Rhymes        May 2, 2018   \n",
       "4                                      Ed Sheeran   January 30, 2017   \n",
       "5                                     Wiz Khalifa      April 6, 2015   \n",
       "6                                       ChuChu TV      March 6, 2014   \n",
       "7                      Cocomelon – Nursery Rhymes       May 24, 2018   \n",
       "8                                     Mark Ronson  November 19, 2014   \n",
       "9                                     Miroshka TV  February 27, 2018   \n",
       "10                                            Psy      July 15, 2012   \n",
       "11                                     Get Movies   January 31, 2012   \n",
       "12                                      El Chombo      April 5, 2018   \n",
       "13                                     Crazy Frog      June 16, 2009   \n",
       "14                                       Maroon 5   January 14, 2015   \n",
       "15                                     Katy Perry  September 5, 2013   \n",
       "16                                    OneRepublic       May 31, 2013   \n",
       "17                                  Justin Bieber   October 22, 2015   \n",
       "18                     Cocomelon – Nursery Rhymes      June 25, 2018   \n",
       "19                                     Ed Sheeran    October 7, 2014   \n",
       "20                                        Shakira       June 4, 2010   \n",
       "21                                     Katy Perry  February 20, 2014   \n",
       "22                                   Jingle Toons      June 14, 2018   \n",
       "23                                    Alan Walker   December 3, 2015   \n",
       "24                                     Ed Sheeran   November 9, 2017   \n",
       "25                                      Passenger      July 25, 2012   \n",
       "26                                       Maroon 5       May 31, 2018   \n",
       "27  Kiddiestv Hindi – Nursery Rhymes & Kids Songs   January 26, 2018   \n",
       "28                                    Major Lazer     March 22, 2015   \n",
       "29                               Enrique Iglesias     April 11, 2014   \n",
       "\n",
       "   Views in Billion  \n",
       "0             12.85  \n",
       "1              8.16  \n",
       "2              6.70  \n",
       "3              6.20  \n",
       "4              6.00  \n",
       "5              5.89  \n",
       "6              5.30  \n",
       "7              5.24  \n",
       "8              4.92  \n",
       "9              4.89  \n",
       "10             4.80  \n",
       "11             4.55  \n",
       "12             4.35  \n",
       "13             3.91  \n",
       "14             3.87  \n",
       "15             3.80  \n",
       "16             3.79  \n",
       "17             3.66  \n",
       "18             3.64  \n",
       "19             3.60  \n",
       "20             3.59  \n",
       "21             3.52  \n",
       "22             3.48  \n",
       "23             3.45  \n",
       "24             3.45  \n",
       "25             3.44  \n",
       "26             3.42  \n",
       "27             3.41  \n",
       "28             3.38  \n",
       "29             3.38  "
      ]
     },
     "execution_count": 33,
     "metadata": {},
     "output_type": "execute_result"
    }
   ],
   "source": [
    "df=pd.DataFrame({'Rank':rank,'Video Name': name,'Artist name':artist,'Date of upload':upload_date,'Views in Billion':views})\n",
    "df"
   ]
  },
  {
   "cell_type": "code",
   "execution_count": 34,
   "id": "8e0348c6",
   "metadata": {
    "hidden": true
   },
   "outputs": [],
   "source": [
    "driver.close()"
   ]
  },
  {
   "cell_type": "markdown",
   "id": "fcc66775",
   "metadata": {
    "heading_collapsed": true
   },
   "source": [
    "## 2. Scrape the details team India’s international fixtures from bcci.tv.\n",
    "### Url = https://www.bcci.tv/.\n",
    "**You need to find following details:**\n",
    "\n",
    "**A) Match title (I.e. 1stODI)**\n",
    "\n",
    "**B) Series**\n",
    "\n",
    "**C) Place**\n",
    "\n",
    "**D) Date**\n",
    "\n",
    "**E) Time**\n",
    "\n",
    "**Note: - From bcci.tv home page you have reach to the international fixture page through code**"
   ]
  },
  {
   "cell_type": "code",
   "execution_count": 35,
   "id": "ef5353e6",
   "metadata": {
    "hidden": true
   },
   "outputs": [],
   "source": [
    "# Connecting to crome\n",
    "driver=webdriver.Chrome(r\"chromedriver.exe\")"
   ]
  },
  {
   "cell_type": "code",
   "execution_count": 36,
   "id": "3641d35e",
   "metadata": {
    "hidden": true
   },
   "outputs": [],
   "source": [
    "# opening the website\n",
    "driver.get('https://www.bcci.tv/')"
   ]
  },
  {
   "cell_type": "code",
   "execution_count": 37,
   "id": "5a97a842",
   "metadata": {
    "hidden": true
   },
   "outputs": [],
   "source": [
    "# Click on menu \n",
    "menu=driver.find_element(By.XPATH,'/html/body/nav/div[1]/button').click()"
   ]
  },
  {
   "cell_type": "code",
   "execution_count": 38,
   "id": "fdfc1f33",
   "metadata": {
    "hidden": true
   },
   "outputs": [],
   "source": [
    "# Click on internation\n",
    "int=driver.find_element(By.XPATH,'/html/body/nav/div[1]/div[2]/ul[1]/li[2]/a').click()"
   ]
  },
  {
   "cell_type": "code",
   "execution_count": 45,
   "id": "64e55204",
   "metadata": {
    "hidden": true
   },
   "outputs": [],
   "source": [
    "time.sleep(5)"
   ]
  },
  {
   "cell_type": "code",
   "execution_count": 46,
   "id": "453da34f",
   "metadata": {
    "hidden": true
   },
   "outputs": [],
   "source": [
    "match=[]\n",
    "series=[]\n",
    "place=[]\n",
    "date=[]\n",
    "time=[]"
   ]
  },
  {
   "cell_type": "code",
   "execution_count": 47,
   "id": "b7face72",
   "metadata": {
    "hidden": true
   },
   "outputs": [],
   "source": [
    "matc=driver.find_elements(By.XPATH,'//span[@class=\"matchOrderText ng-binding ng-scope\"]')\n",
    "for i in matc:\n",
    "    match.append(i.text)\n",
    "    \n",
    "ser=driver.find_elements(By.XPATH,'//h5[@class=\"match-tournament-name ng-binding\"]')\n",
    "for i in ser:\n",
    "    series.append(i.text)\n",
    "    \n",
    "pl=driver.find_elements(By.XPATH,'//div[@class=\"match-place ng-scope\"]')\n",
    "for i in pl:\n",
    "    place.append(i.text.split('-')[1])\n",
    "    \n",
    "da=driver.find_elements(By.XPATH,'//div[@class=\"match-dates ng-binding\"]')\n",
    "for i in da:\n",
    "    date.append(i.text)\n",
    "    \n",
    "ti=driver.find_elements(By.XPATH,'//div[@class=\"match-time no-margin ng-binding\"]')\n",
    "for i in ti:\n",
    "    time.append(i.text)\n",
    "    "
   ]
  },
  {
   "cell_type": "code",
   "execution_count": 48,
   "id": "b81ec1bb",
   "metadata": {
    "hidden": true
   },
   "outputs": [
    {
     "name": "stdout",
     "output_type": "stream",
     "text": [
      "1 1 1 1 1\n"
     ]
    }
   ],
   "source": [
    "print(len(match),len(series),len(place),len(date),len(time))"
   ]
  },
  {
   "cell_type": "code",
   "execution_count": 49,
   "id": "68a49161",
   "metadata": {
    "hidden": true
   },
   "outputs": [
    {
     "data": {
      "text/html": [
       "<div>\n",
       "<style scoped>\n",
       "    .dataframe tbody tr th:only-of-type {\n",
       "        vertical-align: middle;\n",
       "    }\n",
       "\n",
       "    .dataframe tbody tr th {\n",
       "        vertical-align: top;\n",
       "    }\n",
       "\n",
       "    .dataframe thead th {\n",
       "        text-align: right;\n",
       "    }\n",
       "</style>\n",
       "<table border=\"1\" class=\"dataframe\">\n",
       "  <thead>\n",
       "    <tr style=\"text-align: right;\">\n",
       "      <th></th>\n",
       "      <th>Match Title</th>\n",
       "      <th>Series</th>\n",
       "      <th>Venue</th>\n",
       "      <th>Date</th>\n",
       "      <th>Time</th>\n",
       "    </tr>\n",
       "  </thead>\n",
       "  <tbody>\n",
       "    <tr>\n",
       "      <th>0</th>\n",
       "      <td>Final -</td>\n",
       "      <td>ICC WORLD TEST CHAMPIONSHIP FINAL 2023</td>\n",
       "      <td>Kennington Oval, London</td>\n",
       "      <td>7 JUN 2023</td>\n",
       "      <td>3:30 PM IST</td>\n",
       "    </tr>\n",
       "  </tbody>\n",
       "</table>\n",
       "</div>"
      ],
      "text/plain": [
       "  Match Title                                  Series  \\\n",
       "0     Final -  ICC WORLD TEST CHAMPIONSHIP FINAL 2023   \n",
       "\n",
       "                      Venue        Date         Time  \n",
       "0   Kennington Oval, London  7 JUN 2023  3:30 PM IST  "
      ]
     },
     "execution_count": 49,
     "metadata": {},
     "output_type": "execute_result"
    }
   ],
   "source": [
    "df=pd.DataFrame({'Match Title':match,'Series':series,'Venue':place,'Date':date,'Time':time})\n",
    "df"
   ]
  },
  {
   "cell_type": "code",
   "execution_count": 50,
   "id": "0889c3ea",
   "metadata": {
    "hidden": true
   },
   "outputs": [],
   "source": [
    "driver.close()"
   ]
  },
  {
   "cell_type": "markdown",
   "id": "6dd5e0c6",
   "metadata": {
    "heading_collapsed": true
   },
   "source": [
    "## 3. Scrape the details of State-wise GDP of India from statisticstime.com.\n",
    "### Url = http://statisticstimes.com/\n",
    "**You have to find following details:**\n",
    "\n",
    "**A) Rank**\n",
    "\n",
    "**B) State**\n",
    "\n",
    "**C) GSDP(18-19)- at current prices**\n",
    "\n",
    "**D) GSDP(19-20)- at current prices**\n",
    "\n",
    "**E) Share(18-19)**\n",
    "\n",
    "**F) GDP($ billion)**\n",
    "\n",
    "**Note: - From statistics times home page you have to reach to economy page through code.**"
   ]
  },
  {
   "cell_type": "code",
   "execution_count": 15,
   "id": "92de13a6",
   "metadata": {
    "hidden": true
   },
   "outputs": [],
   "source": [
    "# Connecting to crome\n",
    "driver=webdriver.Chrome(r\"chromedriver.exe\")"
   ]
  },
  {
   "cell_type": "code",
   "execution_count": 16,
   "id": "10871f68",
   "metadata": {
    "hidden": true
   },
   "outputs": [],
   "source": [
    "# opening the website\n",
    "driver.get('http://statisticstimes.com/')"
   ]
  },
  {
   "cell_type": "code",
   "execution_count": 17,
   "id": "fc779a20",
   "metadata": {
    "hidden": true
   },
   "outputs": [],
   "source": [
    "# click economy\n",
    "eco=driver.find_element(By.XPATH,'//div[2][@class=\"dropdown\"]//button').click()"
   ]
  },
  {
   "cell_type": "code",
   "execution_count": 18,
   "id": "c1f9985c",
   "metadata": {
    "hidden": true
   },
   "outputs": [],
   "source": [
    "#  click india\n",
    "ind=driver.find_element(By.XPATH,'//div[2][@class=\"dropdown\"]//div//a[3]').click()"
   ]
  },
  {
   "cell_type": "code",
   "execution_count": 20,
   "id": "3ab573b7",
   "metadata": {
    "hidden": true
   },
   "outputs": [],
   "source": [
    "# click GDP of indian state\n",
    "st=driver.find_element(By.XPATH,'/html/body/div[2]/div[2]/div[2]/ul/li[1]/a').click()"
   ]
  },
  {
   "cell_type": "code",
   "execution_count": 24,
   "id": "491ba9c8",
   "metadata": {
    "hidden": true
   },
   "outputs": [],
   "source": [
    "rank=[]\n",
    "state=[]\n",
    "gsdp19=[]\n",
    "gsdp20=[]\n",
    "share=[]\n",
    "gdp=[]"
   ]
  },
  {
   "cell_type": "code",
   "execution_count": 25,
   "id": "b92b2952",
   "metadata": {
    "hidden": true
   },
   "outputs": [],
   "source": [
    "# scrape rank\n",
    "ra=driver.find_elements(By.XPATH,'//table[@class=\"display dataTable\"]/tbody/tr/td[1]')\n",
    "for i in ra[0:33]:\n",
    "    rank.append(i.text)\n",
    "\n",
    "# scrape state\n",
    "st=driver.find_elements(By.XPATH,'//table[@class=\"display dataTable\"]/tbody/tr/td[2]')\n",
    "for i in st[0:33]:\n",
    "    state.append(i.text)\n",
    "\n",
    "# scrape gspd18-19\n",
    "gs=driver.find_elements(By.XPATH,'//table[@class=\"display dataTable\"]/tbody/tr/td[4]')\n",
    "for i in gs[0:33]:\n",
    "    gsdp19.append(i.text)\n",
    "\n",
    "# scrape GSPD19-20\n",
    "gst=driver.find_elements(By.XPATH,'//table[@class=\"display dataTable\"]/tbody/tr/td[3]')\n",
    "for i in gst[0:33]:\n",
    "    gsdp20.append(i.text)\n",
    "\n",
    "# scrape share\n",
    "sh=driver.find_elements(By.XPATH,'//table[@class=\"display dataTable\"]/tbody/tr/td[5]')\n",
    "for i in sh[0:33]:\n",
    "    share.append(i.text)\n",
    "\n",
    "# scrape gdp\n",
    "gd=driver.find_elements(By.XPATH,'//table[@class=\"display dataTable\"]/tbody/tr/td[6]')\n",
    "for i in gd[0:33]:\n",
    "    gdp.append(i.text)\n"
   ]
  },
  {
   "cell_type": "code",
   "execution_count": 26,
   "id": "38fea068",
   "metadata": {
    "hidden": true
   },
   "outputs": [
    {
     "name": "stdout",
     "output_type": "stream",
     "text": [
      "33 33 33 33 33 33\n"
     ]
    }
   ],
   "source": [
    "print(len(rank),len(state),len(gsdp19),len(gsdp20),len(share),len(gdp))"
   ]
  },
  {
   "cell_type": "code",
   "execution_count": 27,
   "id": "8640bcab",
   "metadata": {
    "hidden": true
   },
   "outputs": [
    {
     "data": {
      "text/html": [
       "<div>\n",
       "<style scoped>\n",
       "    .dataframe tbody tr th:only-of-type {\n",
       "        vertical-align: middle;\n",
       "    }\n",
       "\n",
       "    .dataframe tbody tr th {\n",
       "        vertical-align: top;\n",
       "    }\n",
       "\n",
       "    .dataframe thead th {\n",
       "        text-align: right;\n",
       "    }\n",
       "</style>\n",
       "<table border=\"1\" class=\"dataframe\">\n",
       "  <thead>\n",
       "    <tr style=\"text-align: right;\">\n",
       "      <th></th>\n",
       "      <th>Rank</th>\n",
       "      <th>State</th>\n",
       "      <th>GSDP(18-19)</th>\n",
       "      <th>GSDP(19-20)</th>\n",
       "      <th>Share</th>\n",
       "      <th>GDP in billion</th>\n",
       "    </tr>\n",
       "  </thead>\n",
       "  <tbody>\n",
       "    <tr>\n",
       "      <th>0</th>\n",
       "      <td>1</td>\n",
       "      <td>Maharashtra</td>\n",
       "      <td>2,632,792</td>\n",
       "      <td>-</td>\n",
       "      <td>13.94%</td>\n",
       "      <td>399.921</td>\n",
       "    </tr>\n",
       "    <tr>\n",
       "      <th>1</th>\n",
       "      <td>2</td>\n",
       "      <td>Tamil Nadu</td>\n",
       "      <td>1,630,208</td>\n",
       "      <td>1,845,853</td>\n",
       "      <td>8.63%</td>\n",
       "      <td>247.629</td>\n",
       "    </tr>\n",
       "    <tr>\n",
       "      <th>2</th>\n",
       "      <td>3</td>\n",
       "      <td>Uttar Pradesh</td>\n",
       "      <td>1,584,764</td>\n",
       "      <td>1,687,818</td>\n",
       "      <td>8.39%</td>\n",
       "      <td>240.726</td>\n",
       "    </tr>\n",
       "    <tr>\n",
       "      <th>3</th>\n",
       "      <td>4</td>\n",
       "      <td>Gujarat</td>\n",
       "      <td>1,502,899</td>\n",
       "      <td>-</td>\n",
       "      <td>7.96%</td>\n",
       "      <td>228.290</td>\n",
       "    </tr>\n",
       "    <tr>\n",
       "      <th>4</th>\n",
       "      <td>5</td>\n",
       "      <td>Karnataka</td>\n",
       "      <td>1,493,127</td>\n",
       "      <td>1,631,977</td>\n",
       "      <td>7.91%</td>\n",
       "      <td>226.806</td>\n",
       "    </tr>\n",
       "    <tr>\n",
       "      <th>5</th>\n",
       "      <td>6</td>\n",
       "      <td>West Bengal</td>\n",
       "      <td>1,089,898</td>\n",
       "      <td>1,253,832</td>\n",
       "      <td>5.77%</td>\n",
       "      <td>165.556</td>\n",
       "    </tr>\n",
       "    <tr>\n",
       "      <th>6</th>\n",
       "      <td>7</td>\n",
       "      <td>Rajasthan</td>\n",
       "      <td>942,586</td>\n",
       "      <td>1,020,989</td>\n",
       "      <td>4.99%</td>\n",
       "      <td>143.179</td>\n",
       "    </tr>\n",
       "    <tr>\n",
       "      <th>7</th>\n",
       "      <td>8</td>\n",
       "      <td>Andhra Pradesh</td>\n",
       "      <td>862,957</td>\n",
       "      <td>972,782</td>\n",
       "      <td>4.57%</td>\n",
       "      <td>131.083</td>\n",
       "    </tr>\n",
       "    <tr>\n",
       "      <th>8</th>\n",
       "      <td>9</td>\n",
       "      <td>Telangana</td>\n",
       "      <td>861,031</td>\n",
       "      <td>969,604</td>\n",
       "      <td>4.56%</td>\n",
       "      <td>130.791</td>\n",
       "    </tr>\n",
       "    <tr>\n",
       "      <th>9</th>\n",
       "      <td>10</td>\n",
       "      <td>Madhya Pradesh</td>\n",
       "      <td>809,592</td>\n",
       "      <td>906,672</td>\n",
       "      <td>4.29%</td>\n",
       "      <td>122.977</td>\n",
       "    </tr>\n",
       "    <tr>\n",
       "      <th>10</th>\n",
       "      <td>11</td>\n",
       "      <td>Kerala</td>\n",
       "      <td>781,653</td>\n",
       "      <td>-</td>\n",
       "      <td>4.14%</td>\n",
       "      <td>118.733</td>\n",
       "    </tr>\n",
       "    <tr>\n",
       "      <th>11</th>\n",
       "      <td>12</td>\n",
       "      <td>Delhi</td>\n",
       "      <td>774,870</td>\n",
       "      <td>856,112</td>\n",
       "      <td>4.10%</td>\n",
       "      <td>117.703</td>\n",
       "    </tr>\n",
       "    <tr>\n",
       "      <th>12</th>\n",
       "      <td>13</td>\n",
       "      <td>Haryana</td>\n",
       "      <td>734,163</td>\n",
       "      <td>831,610</td>\n",
       "      <td>3.89%</td>\n",
       "      <td>111.519</td>\n",
       "    </tr>\n",
       "    <tr>\n",
       "      <th>13</th>\n",
       "      <td>14</td>\n",
       "      <td>Bihar</td>\n",
       "      <td>530,363</td>\n",
       "      <td>611,804</td>\n",
       "      <td>2.81%</td>\n",
       "      <td>80.562</td>\n",
       "    </tr>\n",
       "    <tr>\n",
       "      <th>14</th>\n",
       "      <td>15</td>\n",
       "      <td>Punjab</td>\n",
       "      <td>526,376</td>\n",
       "      <td>574,760</td>\n",
       "      <td>2.79%</td>\n",
       "      <td>79.957</td>\n",
       "    </tr>\n",
       "    <tr>\n",
       "      <th>15</th>\n",
       "      <td>16</td>\n",
       "      <td>Odisha</td>\n",
       "      <td>487,805</td>\n",
       "      <td>521,275</td>\n",
       "      <td>2.58%</td>\n",
       "      <td>74.098</td>\n",
       "    </tr>\n",
       "    <tr>\n",
       "      <th>16</th>\n",
       "      <td>17</td>\n",
       "      <td>Assam</td>\n",
       "      <td>315,881</td>\n",
       "      <td>-</td>\n",
       "      <td>1.67%</td>\n",
       "      <td>47.982</td>\n",
       "    </tr>\n",
       "    <tr>\n",
       "      <th>17</th>\n",
       "      <td>18</td>\n",
       "      <td>Chhattisgarh</td>\n",
       "      <td>304,063</td>\n",
       "      <td>329,180</td>\n",
       "      <td>1.61%</td>\n",
       "      <td>46.187</td>\n",
       "    </tr>\n",
       "    <tr>\n",
       "      <th>18</th>\n",
       "      <td>19</td>\n",
       "      <td>Jharkhand</td>\n",
       "      <td>297,204</td>\n",
       "      <td>328,598</td>\n",
       "      <td>1.57%</td>\n",
       "      <td>45.145</td>\n",
       "    </tr>\n",
       "    <tr>\n",
       "      <th>19</th>\n",
       "      <td>20</td>\n",
       "      <td>Uttarakhand</td>\n",
       "      <td>245,895</td>\n",
       "      <td>-</td>\n",
       "      <td>1.30%</td>\n",
       "      <td>37.351</td>\n",
       "    </tr>\n",
       "    <tr>\n",
       "      <th>20</th>\n",
       "      <td>21</td>\n",
       "      <td>Jammu &amp; Kashmir</td>\n",
       "      <td>155,956</td>\n",
       "      <td>-</td>\n",
       "      <td>0.83%</td>\n",
       "      <td>23.690</td>\n",
       "    </tr>\n",
       "    <tr>\n",
       "      <th>21</th>\n",
       "      <td>22</td>\n",
       "      <td>Himachal Pradesh</td>\n",
       "      <td>153,845</td>\n",
       "      <td>165,472</td>\n",
       "      <td>0.81%</td>\n",
       "      <td>23.369</td>\n",
       "    </tr>\n",
       "    <tr>\n",
       "      <th>22</th>\n",
       "      <td>23</td>\n",
       "      <td>Goa</td>\n",
       "      <td>73,170</td>\n",
       "      <td>80,449</td>\n",
       "      <td>0.39%</td>\n",
       "      <td>11.115</td>\n",
       "    </tr>\n",
       "    <tr>\n",
       "      <th>23</th>\n",
       "      <td>24</td>\n",
       "      <td>Tripura</td>\n",
       "      <td>49,845</td>\n",
       "      <td>55,984</td>\n",
       "      <td>0.26%</td>\n",
       "      <td>7.571</td>\n",
       "    </tr>\n",
       "    <tr>\n",
       "      <th>24</th>\n",
       "      <td>25</td>\n",
       "      <td>Chandigarh</td>\n",
       "      <td>42,114</td>\n",
       "      <td>-</td>\n",
       "      <td>0.22%</td>\n",
       "      <td>6.397</td>\n",
       "    </tr>\n",
       "    <tr>\n",
       "      <th>25</th>\n",
       "      <td>26</td>\n",
       "      <td>Puducherry</td>\n",
       "      <td>34,433</td>\n",
       "      <td>38,253</td>\n",
       "      <td>0.18%</td>\n",
       "      <td>5.230</td>\n",
       "    </tr>\n",
       "    <tr>\n",
       "      <th>26</th>\n",
       "      <td>27</td>\n",
       "      <td>Meghalaya</td>\n",
       "      <td>33,481</td>\n",
       "      <td>36,572</td>\n",
       "      <td>0.18%</td>\n",
       "      <td>5.086</td>\n",
       "    </tr>\n",
       "    <tr>\n",
       "      <th>27</th>\n",
       "      <td>28</td>\n",
       "      <td>Sikkim</td>\n",
       "      <td>28,723</td>\n",
       "      <td>32,496</td>\n",
       "      <td>0.15%</td>\n",
       "      <td>4.363</td>\n",
       "    </tr>\n",
       "    <tr>\n",
       "      <th>28</th>\n",
       "      <td>29</td>\n",
       "      <td>Manipur</td>\n",
       "      <td>27,870</td>\n",
       "      <td>31,790</td>\n",
       "      <td>0.15%</td>\n",
       "      <td>4.233</td>\n",
       "    </tr>\n",
       "    <tr>\n",
       "      <th>29</th>\n",
       "      <td>30</td>\n",
       "      <td>Nagaland</td>\n",
       "      <td>27,283</td>\n",
       "      <td>-</td>\n",
       "      <td>0.14%</td>\n",
       "      <td>4.144</td>\n",
       "    </tr>\n",
       "    <tr>\n",
       "      <th>30</th>\n",
       "      <td>31</td>\n",
       "      <td>Arunachal Pradesh</td>\n",
       "      <td>24,603</td>\n",
       "      <td>-</td>\n",
       "      <td>0.13%</td>\n",
       "      <td>3.737</td>\n",
       "    </tr>\n",
       "    <tr>\n",
       "      <th>31</th>\n",
       "      <td>32</td>\n",
       "      <td>Mizoram</td>\n",
       "      <td>22,287</td>\n",
       "      <td>26,503</td>\n",
       "      <td>0.12%</td>\n",
       "      <td>3.385</td>\n",
       "    </tr>\n",
       "    <tr>\n",
       "      <th>32</th>\n",
       "      <td>33</td>\n",
       "      <td>Andaman &amp; Nicobar Islands</td>\n",
       "      <td>-</td>\n",
       "      <td>-</td>\n",
       "      <td>-</td>\n",
       "      <td>-</td>\n",
       "    </tr>\n",
       "  </tbody>\n",
       "</table>\n",
       "</div>"
      ],
      "text/plain": [
       "   Rank                      State GSDP(18-19) GSDP(19-20)   Share  \\\n",
       "0     1                Maharashtra   2,632,792           -  13.94%   \n",
       "1     2                 Tamil Nadu   1,630,208   1,845,853   8.63%   \n",
       "2     3              Uttar Pradesh   1,584,764   1,687,818   8.39%   \n",
       "3     4                    Gujarat   1,502,899           -   7.96%   \n",
       "4     5                  Karnataka   1,493,127   1,631,977   7.91%   \n",
       "5     6                West Bengal   1,089,898   1,253,832   5.77%   \n",
       "6     7                  Rajasthan     942,586   1,020,989   4.99%   \n",
       "7     8             Andhra Pradesh     862,957     972,782   4.57%   \n",
       "8     9                  Telangana     861,031     969,604   4.56%   \n",
       "9    10             Madhya Pradesh     809,592     906,672   4.29%   \n",
       "10   11                     Kerala     781,653           -   4.14%   \n",
       "11   12                      Delhi     774,870     856,112   4.10%   \n",
       "12   13                    Haryana     734,163     831,610   3.89%   \n",
       "13   14                      Bihar     530,363     611,804   2.81%   \n",
       "14   15                     Punjab     526,376     574,760   2.79%   \n",
       "15   16                     Odisha     487,805     521,275   2.58%   \n",
       "16   17                      Assam     315,881           -   1.67%   \n",
       "17   18               Chhattisgarh     304,063     329,180   1.61%   \n",
       "18   19                  Jharkhand     297,204     328,598   1.57%   \n",
       "19   20                Uttarakhand     245,895           -   1.30%   \n",
       "20   21            Jammu & Kashmir     155,956           -   0.83%   \n",
       "21   22           Himachal Pradesh     153,845     165,472   0.81%   \n",
       "22   23                        Goa      73,170      80,449   0.39%   \n",
       "23   24                    Tripura      49,845      55,984   0.26%   \n",
       "24   25                 Chandigarh      42,114           -   0.22%   \n",
       "25   26                 Puducherry      34,433      38,253   0.18%   \n",
       "26   27                  Meghalaya      33,481      36,572   0.18%   \n",
       "27   28                     Sikkim      28,723      32,496   0.15%   \n",
       "28   29                    Manipur      27,870      31,790   0.15%   \n",
       "29   30                   Nagaland      27,283           -   0.14%   \n",
       "30   31          Arunachal Pradesh      24,603           -   0.13%   \n",
       "31   32                    Mizoram      22,287      26,503   0.12%   \n",
       "32   33  Andaman & Nicobar Islands           -           -       -   \n",
       "\n",
       "   GDP in billion  \n",
       "0         399.921  \n",
       "1         247.629  \n",
       "2         240.726  \n",
       "3         228.290  \n",
       "4         226.806  \n",
       "5         165.556  \n",
       "6         143.179  \n",
       "7         131.083  \n",
       "8         130.791  \n",
       "9         122.977  \n",
       "10        118.733  \n",
       "11        117.703  \n",
       "12        111.519  \n",
       "13         80.562  \n",
       "14         79.957  \n",
       "15         74.098  \n",
       "16         47.982  \n",
       "17         46.187  \n",
       "18         45.145  \n",
       "19         37.351  \n",
       "20         23.690  \n",
       "21         23.369  \n",
       "22         11.115  \n",
       "23          7.571  \n",
       "24          6.397  \n",
       "25          5.230  \n",
       "26          5.086  \n",
       "27          4.363  \n",
       "28          4.233  \n",
       "29          4.144  \n",
       "30          3.737  \n",
       "31          3.385  \n",
       "32              -  "
      ]
     },
     "execution_count": 27,
     "metadata": {},
     "output_type": "execute_result"
    }
   ],
   "source": [
    "df=pd.DataFrame({\"Rank\":rank,'State':state,'GSDP(18-19)':gsdp19,'GSDP(19-20)':gsdp20,'Share':share,'GDP in billion':gdp})\n",
    "df"
   ]
  },
  {
   "cell_type": "code",
   "execution_count": 28,
   "id": "02d3865a",
   "metadata": {
    "hidden": true
   },
   "outputs": [],
   "source": [
    "driver.close()"
   ]
  },
  {
   "cell_type": "markdown",
   "id": "01bef8b0",
   "metadata": {
    "heading_collapsed": true
   },
   "source": [
    "## 4. Scrape the details of trending repositories on Github.com.\n",
    "\n",
    "### Url = https://github.com/\n",
    "\n",
    "**You have to find the following details:**\n",
    "\n",
    "**A) Repository title**\n",
    "\n",
    "**B) Repository description**\n",
    "\n",
    "**C) Contributors count**\n",
    "\n",
    "**D) Language used**\n",
    "\n",
    "**Note: - From the home page you have to click on the trending option from Explore menu through code.**"
   ]
  },
  {
   "cell_type": "code",
   "execution_count": 35,
   "id": "6756c0db",
   "metadata": {
    "hidden": true
   },
   "outputs": [],
   "source": [
    "# Connecting to crome\n",
    "driver=webdriver.Chrome(r\"chromedriver.exe\")"
   ]
  },
  {
   "cell_type": "code",
   "execution_count": 36,
   "id": "2ab56858",
   "metadata": {
    "hidden": true
   },
   "outputs": [],
   "source": [
    "# opening the website\n",
    "driver.get('https://github.com/')"
   ]
  },
  {
   "cell_type": "code",
   "execution_count": 44,
   "id": "ba528cd7",
   "metadata": {
    "hidden": true
   },
   "outputs": [],
   "source": [
    "menu=driver.find_element(By.XPATH,'/html/body/div[1]/div[1]/header/div/div[1]/div[2]/button/span/span/div[2]').click()\n"
   ]
  },
  {
   "cell_type": "code",
   "execution_count": 45,
   "id": "b58b48aa",
   "metadata": {
    "hidden": true
   },
   "outputs": [],
   "source": [
    "opens=driver.find_element(By.XPATH,'/html/body/div[1]/div[1]/header/div/div[2]/div/nav/ul/li[3]/button').click()\n",
    "time.sleep(1)\n",
    "treding=driver.find_element(By.XPATH,'/html/body/div[1]/div[1]/header/div/div[2]/div/nav/ul/li[3]/div/div[3]/ul/li[2]/a').click()"
   ]
  },
  {
   "cell_type": "code",
   "execution_count": 127,
   "id": "f9156be8",
   "metadata": {
    "hidden": true
   },
   "outputs": [],
   "source": [
    "title=[]\n",
    "description=[]\n",
    "count=[]\n",
    "used=[]"
   ]
  },
  {
   "cell_type": "code",
   "execution_count": 128,
   "id": "327ce100",
   "metadata": {
    "hidden": true
   },
   "outputs": [],
   "source": [
    "ti=driver.find_elements(By.XPATH,'//h2[@class=\"h3 lh-condensed\"]/a')\n",
    "for i in ti:\n",
    "    title.append(i.text)\n",
    "    \n",
    "\n",
    "de = driver.find_elements(By.XPATH, '//article[@class=\"Box-row\"]')\n",
    "for article in de:\n",
    "    try:\n",
    "        des = article.find_element(By.XPATH, './p')\n",
    "        description.append(des.text)\n",
    "    except:\n",
    "        description.append('-')\n",
    "    \n",
    "co=driver.find_elements(By.XPATH,'//div[@class=\"f6 color-fg-muted mt-2\"]/a[1]')\n",
    "for i in co:\n",
    "    count.append(i.text)\n",
    "                                            \n",
    "us=driver.find_elements(By.XPATH,'//div[@class=\"f6 color-fg-muted mt-2\"]')\n",
    "for i in us:\n",
    "    try:\n",
    "        x=i.find_element(By.XPATH,'./span/span[2]')\n",
    "        used.append(x.text)\n",
    "    except:\n",
    "        used.append('-')\n"
   ]
  },
  {
   "cell_type": "code",
   "execution_count": 129,
   "id": "214962a1",
   "metadata": {
    "hidden": true
   },
   "outputs": [
    {
     "name": "stdout",
     "output_type": "stream",
     "text": [
      "25 25 25 25\n"
     ]
    }
   ],
   "source": [
    "print(len(title),len(description),len(count),len(used))"
   ]
  },
  {
   "cell_type": "code",
   "execution_count": 130,
   "id": "3ea94031",
   "metadata": {
    "hidden": true
   },
   "outputs": [
    {
     "data": {
      "text/html": [
       "<div>\n",
       "<style scoped>\n",
       "    .dataframe tbody tr th:only-of-type {\n",
       "        vertical-align: middle;\n",
       "    }\n",
       "\n",
       "    .dataframe tbody tr th {\n",
       "        vertical-align: top;\n",
       "    }\n",
       "\n",
       "    .dataframe thead th {\n",
       "        text-align: right;\n",
       "    }\n",
       "</style>\n",
       "<table border=\"1\" class=\"dataframe\">\n",
       "  <thead>\n",
       "    <tr style=\"text-align: right;\">\n",
       "      <th></th>\n",
       "      <th>Repository Title</th>\n",
       "      <th>Repository Description</th>\n",
       "      <th>Contribution Count</th>\n",
       "      <th>Language Used</th>\n",
       "    </tr>\n",
       "  </thead>\n",
       "  <tbody>\n",
       "    <tr>\n",
       "      <th>0</th>\n",
       "      <td>Zeqiang-Lai / DragGAN</td>\n",
       "      <td>Online Demo and Implementation of DragGAN - \"D...</td>\n",
       "      <td>1,326</td>\n",
       "      <td>Python</td>\n",
       "    </tr>\n",
       "    <tr>\n",
       "      <th>1</th>\n",
       "      <td>JiauZhang / DragGAN</td>\n",
       "      <td>Implementation of DragGAN: Interactive Point-b...</td>\n",
       "      <td>1,491</td>\n",
       "      <td>Python</td>\n",
       "    </tr>\n",
       "    <tr>\n",
       "      <th>2</th>\n",
       "      <td>google / comprehensive-rust</td>\n",
       "      <td>This is the Rust course used by the Android te...</td>\n",
       "      <td>15,583</td>\n",
       "      <td>Rust</td>\n",
       "    </tr>\n",
       "    <tr>\n",
       "      <th>3</th>\n",
       "      <td>kyegomez / tree-of-thoughts</td>\n",
       "      <td>Plug in and Play Implementation of Tree of Tho...</td>\n",
       "      <td>1,094</td>\n",
       "      <td>Python</td>\n",
       "    </tr>\n",
       "    <tr>\n",
       "      <th>4</th>\n",
       "      <td>microsoft / PowerToys</td>\n",
       "      <td>Windows system utilities to maximize productivity</td>\n",
       "      <td>91,065</td>\n",
       "      <td>C#</td>\n",
       "    </tr>\n",
       "    <tr>\n",
       "      <th>5</th>\n",
       "      <td>psf / requests</td>\n",
       "      <td>A simple, yet elegant, HTTP library.</td>\n",
       "      <td>49,620</td>\n",
       "      <td>Python</td>\n",
       "    </tr>\n",
       "    <tr>\n",
       "      <th>6</th>\n",
       "      <td>kanboard / kanboard</td>\n",
       "      <td>Kanban project management software</td>\n",
       "      <td>7,420</td>\n",
       "      <td>PHP</td>\n",
       "    </tr>\n",
       "    <tr>\n",
       "      <th>7</th>\n",
       "      <td>microsoft / devhome</td>\n",
       "      <td>Windows Dev Home Application</td>\n",
       "      <td>952</td>\n",
       "      <td>C#</td>\n",
       "    </tr>\n",
       "    <tr>\n",
       "      <th>8</th>\n",
       "      <td>dalathegreat / BYD-Battery-Emulator-For-Gen24</td>\n",
       "      <td>This software converts the LEAF CAN into Modbu...</td>\n",
       "      <td>156</td>\n",
       "      <td>C++</td>\n",
       "    </tr>\n",
       "    <tr>\n",
       "      <th>9</th>\n",
       "      <td>kamiyaa / joshuto</td>\n",
       "      <td>ranger-like terminal file manager written in Rust</td>\n",
       "      <td>1,839</td>\n",
       "      <td>Rust</td>\n",
       "    </tr>\n",
       "    <tr>\n",
       "      <th>10</th>\n",
       "      <td>JushBJJ / Mr.-Ranedeer-AI-Tutor</td>\n",
       "      <td>A GPT-4 AI Tutor Prompt for customizable perso...</td>\n",
       "      <td>8,292</td>\n",
       "      <td>-</td>\n",
       "    </tr>\n",
       "    <tr>\n",
       "      <th>11</th>\n",
       "      <td>NaiboWang / EasySpider</td>\n",
       "      <td>A visual no-code/code-free web crawler/spider一...</td>\n",
       "      <td>6,752</td>\n",
       "      <td>JavaScript</td>\n",
       "    </tr>\n",
       "    <tr>\n",
       "      <th>12</th>\n",
       "      <td>chinese-poetry / chinese-poetry</td>\n",
       "      <td>The most comprehensive database of Chinese poe...</td>\n",
       "      <td>40,406</td>\n",
       "      <td>JavaScript</td>\n",
       "    </tr>\n",
       "    <tr>\n",
       "      <th>13</th>\n",
       "      <td>pengzhile / pandora</td>\n",
       "      <td>潘多拉，一个让你呼吸顺畅的ChatGPT。Pandora, a ChatGPT that h...</td>\n",
       "      <td>8,814</td>\n",
       "      <td>Python</td>\n",
       "    </tr>\n",
       "    <tr>\n",
       "      <th>14</th>\n",
       "      <td>facebookresearch / fairseq</td>\n",
       "      <td>Facebook AI Research Sequence-to-Sequence Tool...</td>\n",
       "      <td>25,324</td>\n",
       "      <td>Python</td>\n",
       "    </tr>\n",
       "    <tr>\n",
       "      <th>15</th>\n",
       "      <td>SkalskiP / courses</td>\n",
       "      <td>This repository is a curated collection of lin...</td>\n",
       "      <td>2,368</td>\n",
       "      <td>Python</td>\n",
       "    </tr>\n",
       "    <tr>\n",
       "      <th>16</th>\n",
       "      <td>microsoft / semantic-kernel</td>\n",
       "      <td>Integrate cutting-edge LLM technology quickly ...</td>\n",
       "      <td>9,199</td>\n",
       "      <td>C#</td>\n",
       "    </tr>\n",
       "    <tr>\n",
       "      <th>17</th>\n",
       "      <td>kreneskyp / ix</td>\n",
       "      <td>Autonomous GPT-4 agent platform</td>\n",
       "      <td>261</td>\n",
       "      <td>Python</td>\n",
       "    </tr>\n",
       "    <tr>\n",
       "      <th>18</th>\n",
       "      <td>OpenGVLab / InternGPT</td>\n",
       "      <td>InternGPT (iGPT) is an open source demo platfo...</td>\n",
       "      <td>823</td>\n",
       "      <td>Python</td>\n",
       "    </tr>\n",
       "    <tr>\n",
       "      <th>19</th>\n",
       "      <td>w-okada / voice-changer</td>\n",
       "      <td>リアルタイムボイスチェンジャー Realtime Voice Changer</td>\n",
       "      <td>3,745</td>\n",
       "      <td>TypeScript</td>\n",
       "    </tr>\n",
       "    <tr>\n",
       "      <th>20</th>\n",
       "      <td>adams549659584 / go-proxy-bingai</td>\n",
       "      <td>用 Vue3 和 Go 搭建的微软 New Bing 演示站点，拥有一致的 UI 体验，支持...</td>\n",
       "      <td>1,314</td>\n",
       "      <td>HTML</td>\n",
       "    </tr>\n",
       "    <tr>\n",
       "      <th>21</th>\n",
       "      <td>opengeos / segment-geospatial</td>\n",
       "      <td>A Python package for segmenting geospatial dat...</td>\n",
       "      <td>1,464</td>\n",
       "      <td>Python</td>\n",
       "    </tr>\n",
       "    <tr>\n",
       "      <th>22</th>\n",
       "      <td>Azure-Samples / azure-search-openai-demo</td>\n",
       "      <td>A sample app for the Retrieval-Augmented Gener...</td>\n",
       "      <td>2,111</td>\n",
       "      <td>Python</td>\n",
       "    </tr>\n",
       "    <tr>\n",
       "      <th>23</th>\n",
       "      <td>openai / openai-cookbook</td>\n",
       "      <td>Examples and guides for using the OpenAI API</td>\n",
       "      <td>36,408</td>\n",
       "      <td>Jupyter Notebook</td>\n",
       "    </tr>\n",
       "    <tr>\n",
       "      <th>24</th>\n",
       "      <td>Casualtek / Ransomchats</td>\n",
       "      <td>-</td>\n",
       "      <td>129</td>\n",
       "      <td>Python</td>\n",
       "    </tr>\n",
       "  </tbody>\n",
       "</table>\n",
       "</div>"
      ],
      "text/plain": [
       "                                 Repository Title  \\\n",
       "0                           Zeqiang-Lai / DragGAN   \n",
       "1                             JiauZhang / DragGAN   \n",
       "2                     google / comprehensive-rust   \n",
       "3                     kyegomez / tree-of-thoughts   \n",
       "4                           microsoft / PowerToys   \n",
       "5                                  psf / requests   \n",
       "6                             kanboard / kanboard   \n",
       "7                             microsoft / devhome   \n",
       "8   dalathegreat / BYD-Battery-Emulator-For-Gen24   \n",
       "9                               kamiyaa / joshuto   \n",
       "10                JushBJJ / Mr.-Ranedeer-AI-Tutor   \n",
       "11                         NaiboWang / EasySpider   \n",
       "12                chinese-poetry / chinese-poetry   \n",
       "13                            pengzhile / pandora   \n",
       "14                     facebookresearch / fairseq   \n",
       "15                             SkalskiP / courses   \n",
       "16                    microsoft / semantic-kernel   \n",
       "17                                 kreneskyp / ix   \n",
       "18                          OpenGVLab / InternGPT   \n",
       "19                        w-okada / voice-changer   \n",
       "20               adams549659584 / go-proxy-bingai   \n",
       "21                  opengeos / segment-geospatial   \n",
       "22       Azure-Samples / azure-search-openai-demo   \n",
       "23                       openai / openai-cookbook   \n",
       "24                        Casualtek / Ransomchats   \n",
       "\n",
       "                               Repository Description Contribution Count  \\\n",
       "0   Online Demo and Implementation of DragGAN - \"D...              1,326   \n",
       "1   Implementation of DragGAN: Interactive Point-b...              1,491   \n",
       "2   This is the Rust course used by the Android te...             15,583   \n",
       "3   Plug in and Play Implementation of Tree of Tho...              1,094   \n",
       "4   Windows system utilities to maximize productivity             91,065   \n",
       "5                A simple, yet elegant, HTTP library.             49,620   \n",
       "6                  Kanban project management software              7,420   \n",
       "7                        Windows Dev Home Application                952   \n",
       "8   This software converts the LEAF CAN into Modbu...                156   \n",
       "9   ranger-like terminal file manager written in Rust              1,839   \n",
       "10  A GPT-4 AI Tutor Prompt for customizable perso...              8,292   \n",
       "11  A visual no-code/code-free web crawler/spider一...              6,752   \n",
       "12  The most comprehensive database of Chinese poe...             40,406   \n",
       "13  潘多拉，一个让你呼吸顺畅的ChatGPT。Pandora, a ChatGPT that h...              8,814   \n",
       "14  Facebook AI Research Sequence-to-Sequence Tool...             25,324   \n",
       "15  This repository is a curated collection of lin...              2,368   \n",
       "16  Integrate cutting-edge LLM technology quickly ...              9,199   \n",
       "17                    Autonomous GPT-4 agent platform                261   \n",
       "18  InternGPT (iGPT) is an open source demo platfo...                823   \n",
       "19             リアルタイムボイスチェンジャー Realtime Voice Changer              3,745   \n",
       "20  用 Vue3 和 Go 搭建的微软 New Bing 演示站点，拥有一致的 UI 体验，支持...              1,314   \n",
       "21  A Python package for segmenting geospatial dat...              1,464   \n",
       "22  A sample app for the Retrieval-Augmented Gener...              2,111   \n",
       "23       Examples and guides for using the OpenAI API             36,408   \n",
       "24                                                  -                129   \n",
       "\n",
       "       Language Used  \n",
       "0             Python  \n",
       "1             Python  \n",
       "2               Rust  \n",
       "3             Python  \n",
       "4                 C#  \n",
       "5             Python  \n",
       "6                PHP  \n",
       "7                 C#  \n",
       "8                C++  \n",
       "9               Rust  \n",
       "10                 -  \n",
       "11        JavaScript  \n",
       "12        JavaScript  \n",
       "13            Python  \n",
       "14            Python  \n",
       "15            Python  \n",
       "16                C#  \n",
       "17            Python  \n",
       "18            Python  \n",
       "19        TypeScript  \n",
       "20              HTML  \n",
       "21            Python  \n",
       "22            Python  \n",
       "23  Jupyter Notebook  \n",
       "24            Python  "
      ]
     },
     "execution_count": 130,
     "metadata": {},
     "output_type": "execute_result"
    }
   ],
   "source": [
    "df=pd.DataFrame({\"Repository Title\":title,'Repository Description':description,'Contribution Count':count,'Language Used':used})\n",
    "df"
   ]
  },
  {
   "cell_type": "code",
   "execution_count": 131,
   "id": "b4dccd15",
   "metadata": {
    "hidden": true
   },
   "outputs": [],
   "source": [
    "driver.close()"
   ]
  },
  {
   "cell_type": "markdown",
   "id": "70d73237",
   "metadata": {
    "heading_collapsed": true
   },
   "source": [
    "## 5. Scrape the details of top 100 songs on billiboard.com.\n",
    "### Url = https:/www.billboard.com/\n",
    "**You have to find the following details:**\n",
    "\n",
    "**A) Song name**\n",
    "\n",
    "**B) Artist name**\n",
    "\n",
    "**C) Last week rank**\n",
    "\n",
    "**D) Peak rank**\n",
    "\n",
    "**E) Weeks on board**\n",
    "\n",
    "**Note: - From the home page you have to click on the charts option then hot 100-page link through code.**"
   ]
  },
  {
   "cell_type": "code",
   "execution_count": 132,
   "id": "9c3156a6",
   "metadata": {
    "hidden": true
   },
   "outputs": [],
   "source": [
    "# Connecting to crome\n",
    "driver=webdriver.Chrome(r\"chromedriver.exe\")"
   ]
  },
  {
   "cell_type": "code",
   "execution_count": 140,
   "id": "115a9b07",
   "metadata": {
    "hidden": true
   },
   "outputs": [],
   "source": [
    "# opening the website\n",
    "driver.get('https:/www.billboard.com/')"
   ]
  },
  {
   "cell_type": "code",
   "execution_count": 141,
   "id": "c4bb526c",
   "metadata": {
    "hidden": true
   },
   "outputs": [],
   "source": [
    "# click on chart\n",
    "chart=driver.find_element(By.XPATH,'/html/body/div[3]/header/div/div[2]/div/div/div[2]/div[2]/div/div/nav/ul/li[1]/a').click()"
   ]
  },
  {
   "cell_type": "code",
   "execution_count": 143,
   "id": "821d948f",
   "metadata": {
    "hidden": true
   },
   "outputs": [],
   "source": [
    "# click on hot 100 page\n",
    "hot=driver.find_element(By.XPATH,'/html/body/div[3]/main/div[2]/div[3]/div/div/div[2]/div/div[1]/a/div')\n",
    "time.sleep(3)\n",
    "hot.click()"
   ]
  },
  {
   "cell_type": "code",
   "execution_count": 148,
   "id": "422fe80f",
   "metadata": {
    "hidden": true
   },
   "outputs": [],
   "source": [
    "song=[]\n",
    "artist=[]\n",
    "last_rank=[]\n",
    "peak_rank=[]\n",
    "weeks_on_board=[]"
   ]
  },
  {
   "cell_type": "code",
   "execution_count": 149,
   "id": "863c72f1",
   "metadata": {
    "hidden": true
   },
   "outputs": [],
   "source": [
    "fir_son=driver.find_element(By.XPATH,'//li[@class=\"o-chart-results-list__item // lrv-u-flex-grow-1 lrv-u-flex lrv-u-flex-direction-column lrv-u-justify-content-center lrv-u-border-b-1 u-border-b-0@mobile-max lrv-u-border-color-grey-light  lrv-u-padding-l-1@mobile-max\"]/h3')\n",
    "song.append(fir_son.text)\n",
    "\n",
    "ar=driver.find_element(By.XPATH,'//li[@class=\"o-chart-results-list__item // lrv-u-flex-grow-1 lrv-u-flex lrv-u-flex-direction-column lrv-u-justify-content-center lrv-u-border-b-1 u-border-b-0@mobile-max lrv-u-border-color-grey-light  lrv-u-padding-l-1@mobile-max\"]/span')\n",
    "artist.append(ar.text)\n",
    "\n",
    "        \n",
    "so=driver.find_elements(By.XPATH,'//li[@class=\"o-chart-results-list__item // lrv-u-flex-grow-1 lrv-u-flex lrv-u-flex-direction-column lrv-u-justify-content-center lrv-u-border-b-1 u-border-b-0@mobile-max lrv-u-border-color-grey-light lrv-u-padding-l-050 lrv-u-padding-l-1@mobile-max\"]/h3')\n",
    "for i in so:\n",
    "    song.append(i.text)\n",
    "    \n",
    "\n",
    "art=driver.find_elements(By.XPATH,'//li[@class=\"o-chart-results-list__item // lrv-u-flex-grow-1 lrv-u-flex lrv-u-flex-direction-column lrv-u-justify-content-center lrv-u-border-b-1 u-border-b-0@mobile-max lrv-u-border-color-grey-light lrv-u-padding-l-050 lrv-u-padding-l-1@mobile-max\"]/span')\n",
    "for i in art:\n",
    "    artist.append(i.text)\n",
    "    \n",
    "las=driver.find_elements(By.XPATH,'//li[@class=\"o-chart-results-list__item // a-chart-color u-width-72 u-width-55@mobile-max u-width-55@tablet-only lrv-u-flex lrv-u-flex-shrink-0 lrv-u-align-items-center lrv-u-justify-content-center lrv-u-border-b-1 u-border-b-0@mobile-max lrv-u-border-color-grey-light u-background-color-white-064@mobile-max u-hidden@mobile-max\"]')\n",
    "for i in las[0::2]:\n",
    "    last_rank.append(i.text)\n",
    "    \n",
    "pea=driver.find_elements(By.XPATH,'//li[@class=\"o-chart-results-list__item // a-chart-bg-color a-chart-color u-width-72 u-width-55@mobile-max u-width-55@tablet-only lrv-u-flex lrv-u-flex-shrink-0 lrv-u-align-items-center lrv-u-justify-content-center lrv-u-background-color-grey-lightest lrv-u-border-b-1 u-border-b-0@mobile-max lrv-u-border-color-grey-light u-hidden@mobile-max\"]')\n",
    "for i in pea[1::2]:\n",
    "    peak_rank.append(i.text)\n",
    "    \n",
    "week=driver.find_elements(By.XPATH,'//li[@class=\"o-chart-results-list__item // a-chart-color u-width-72 u-width-55@mobile-max u-width-55@tablet-only lrv-u-flex lrv-u-flex-shrink-0 lrv-u-align-items-center lrv-u-justify-content-center lrv-u-border-b-1 u-border-b-0@mobile-max lrv-u-border-color-grey-light u-background-color-white-064@mobile-max u-hidden@mobile-max\"]')\n",
    "for i in week[1::2]:\n",
    "    weeks_on_board.append(i.text)\n",
    "    "
   ]
  },
  {
   "cell_type": "code",
   "execution_count": 150,
   "id": "0a5213d5",
   "metadata": {
    "hidden": true
   },
   "outputs": [
    {
     "name": "stdout",
     "output_type": "stream",
     "text": [
      "100 100 100 100 100\n"
     ]
    }
   ],
   "source": [
    "print(len(song),len(artist),len(last_rank),len(peak_rank),len(weeks_on_board))"
   ]
  },
  {
   "cell_type": "code",
   "execution_count": 151,
   "id": "8fe46542",
   "metadata": {
    "hidden": true
   },
   "outputs": [
    {
     "data": {
      "text/html": [
       "<div>\n",
       "<style scoped>\n",
       "    .dataframe tbody tr th:only-of-type {\n",
       "        vertical-align: middle;\n",
       "    }\n",
       "\n",
       "    .dataframe tbody tr th {\n",
       "        vertical-align: top;\n",
       "    }\n",
       "\n",
       "    .dataframe thead th {\n",
       "        text-align: right;\n",
       "    }\n",
       "</style>\n",
       "<table border=\"1\" class=\"dataframe\">\n",
       "  <thead>\n",
       "    <tr style=\"text-align: right;\">\n",
       "      <th></th>\n",
       "      <th>Song Name</th>\n",
       "      <th>Artist Name</th>\n",
       "      <th>Last Week Rank</th>\n",
       "      <th>Peak Rank</th>\n",
       "      <th>Weeks on Board</th>\n",
       "    </tr>\n",
       "  </thead>\n",
       "  <tbody>\n",
       "    <tr>\n",
       "      <th>0</th>\n",
       "      <td>Last Night</td>\n",
       "      <td>Morgan Wallen</td>\n",
       "      <td>1</td>\n",
       "      <td>1</td>\n",
       "      <td>16</td>\n",
       "    </tr>\n",
       "    <tr>\n",
       "      <th>1</th>\n",
       "      <td>All My Life</td>\n",
       "      <td>Lil Durk Featuring J. Cole</td>\n",
       "      <td>-</td>\n",
       "      <td>2</td>\n",
       "      <td>1</td>\n",
       "    </tr>\n",
       "    <tr>\n",
       "      <th>2</th>\n",
       "      <td>Flowers</td>\n",
       "      <td>Miley Cyrus</td>\n",
       "      <td>3</td>\n",
       "      <td>1</td>\n",
       "      <td>18</td>\n",
       "    </tr>\n",
       "    <tr>\n",
       "      <th>3</th>\n",
       "      <td>Kill Bill</td>\n",
       "      <td>SZA</td>\n",
       "      <td>2</td>\n",
       "      <td>1</td>\n",
       "      <td>23</td>\n",
       "    </tr>\n",
       "    <tr>\n",
       "      <th>4</th>\n",
       "      <td>Ella Baila Sola</td>\n",
       "      <td>Eslabon Armado X Peso Pluma</td>\n",
       "      <td>4</td>\n",
       "      <td>4</td>\n",
       "      <td>9</td>\n",
       "    </tr>\n",
       "    <tr>\n",
       "      <th>...</th>\n",
       "      <td>...</td>\n",
       "      <td>...</td>\n",
       "      <td>...</td>\n",
       "      <td>...</td>\n",
       "      <td>...</td>\n",
       "    </tr>\n",
       "    <tr>\n",
       "      <th>95</th>\n",
       "      <td>Forever</td>\n",
       "      <td>Lil Baby Featuring Fridayy</td>\n",
       "      <td>87</td>\n",
       "      <td>8</td>\n",
       "      <td>19</td>\n",
       "    </tr>\n",
       "    <tr>\n",
       "      <th>96</th>\n",
       "      <td>Private Landing</td>\n",
       "      <td>Don Toliver Featuring Justin Bieber &amp; Future</td>\n",
       "      <td>100</td>\n",
       "      <td>72</td>\n",
       "      <td>6</td>\n",
       "    </tr>\n",
       "    <tr>\n",
       "      <th>97</th>\n",
       "      <td>I Heard</td>\n",
       "      <td>YoungBoy Never Broke Again</td>\n",
       "      <td>-</td>\n",
       "      <td>98</td>\n",
       "      <td>1</td>\n",
       "    </tr>\n",
       "    <tr>\n",
       "      <th>98</th>\n",
       "      <td>Sunrise</td>\n",
       "      <td>Morgan Wallen</td>\n",
       "      <td>89</td>\n",
       "      <td>30</td>\n",
       "      <td>11</td>\n",
       "    </tr>\n",
       "    <tr>\n",
       "      <th>99</th>\n",
       "      <td>Happy</td>\n",
       "      <td>NF</td>\n",
       "      <td>95</td>\n",
       "      <td>54</td>\n",
       "      <td>6</td>\n",
       "    </tr>\n",
       "  </tbody>\n",
       "</table>\n",
       "<p>100 rows × 5 columns</p>\n",
       "</div>"
      ],
      "text/plain": [
       "          Song Name                                   Artist Name  \\\n",
       "0        Last Night                                 Morgan Wallen   \n",
       "1       All My Life                    Lil Durk Featuring J. Cole   \n",
       "2           Flowers                                   Miley Cyrus   \n",
       "3         Kill Bill                                           SZA   \n",
       "4   Ella Baila Sola                   Eslabon Armado X Peso Pluma   \n",
       "..              ...                                           ...   \n",
       "95          Forever                    Lil Baby Featuring Fridayy   \n",
       "96  Private Landing  Don Toliver Featuring Justin Bieber & Future   \n",
       "97          I Heard                    YoungBoy Never Broke Again   \n",
       "98          Sunrise                                 Morgan Wallen   \n",
       "99            Happy                                            NF   \n",
       "\n",
       "   Last Week Rank Peak Rank Weeks on Board  \n",
       "0               1         1             16  \n",
       "1               -         2              1  \n",
       "2               3         1             18  \n",
       "3               2         1             23  \n",
       "4               4         4              9  \n",
       "..            ...       ...            ...  \n",
       "95             87         8             19  \n",
       "96            100        72              6  \n",
       "97              -        98              1  \n",
       "98             89        30             11  \n",
       "99             95        54              6  \n",
       "\n",
       "[100 rows x 5 columns]"
      ]
     },
     "execution_count": 151,
     "metadata": {},
     "output_type": "execute_result"
    }
   ],
   "source": [
    "df=pd.DataFrame({'Song Name':song,'Artist Name':artist,'Last Week Rank':last_rank,'Peak Rank':peak_rank,'Weeks on Board':weeks_on_board})\n",
    "df"
   ]
  },
  {
   "cell_type": "code",
   "execution_count": 152,
   "id": "aeedd749",
   "metadata": {
    "hidden": true
   },
   "outputs": [],
   "source": [
    "driver.close()"
   ]
  },
  {
   "cell_type": "markdown",
   "id": "227d27c3",
   "metadata": {
    "heading_collapsed": true
   },
   "source": [
    "## 6. Scrape the details of Highest selling novels.\n",
    "### Url = https://www.theguardian.com/news/datablog/2012/aug/09/best-selling-books-all-time-fifty-shades-greycompare\n",
    "**You have to find the following details:**\n",
    "    \n",
    "**A) Book name**\n",
    "\n",
    "**B) Author name**\n",
    "\n",
    "**C) Volumes sold**\n",
    "\n",
    "**D) Publisher**\n",
    "\n",
    "**E) Genre**\n"
   ]
  },
  {
   "cell_type": "code",
   "execution_count": 153,
   "id": "580bbcf0",
   "metadata": {
    "hidden": true
   },
   "outputs": [],
   "source": [
    "# Connecting to crome\n",
    "driver=webdriver.Chrome(r\"chromedriver.exe\")"
   ]
  },
  {
   "cell_type": "code",
   "execution_count": 154,
   "id": "dc63fb6e",
   "metadata": {
    "hidden": true
   },
   "outputs": [],
   "source": [
    "# opening the website\n",
    "driver.get('https://www.theguardian.com/news/datablog/2012/aug/09/best-selling-books-all-time-fifty-shades-greycompare')"
   ]
  },
  {
   "attachments": {
    "image.png": {
     "image/png": "[encoded data removed]"
    }
   },
   "cell_type": "markdown",
   "id": "beecde08",
   "metadata": {
    "hidden": true
   },
   "source": [
    "![image.png](attachment:image.png)"
   ]
  },
  {
   "cell_type": "markdown",
   "id": "72e858ae",
   "metadata": {
    "hidden": true
   },
   "source": [
    "**As URL is no more found we can't scrape the required data.**"
   ]
  },
  {
   "cell_type": "code",
   "execution_count": 155,
   "id": "b3d73401",
   "metadata": {
    "hidden": true
   },
   "outputs": [],
   "source": [
    "driver.close()"
   ]
  },
  {
   "cell_type": "markdown",
   "id": "c24324c4",
   "metadata": {
    "heading_collapsed": true
   },
   "source": [
    "## 7. Scrape the details most watched tv series of all time from imdb.com.\n",
    "### Url = https://www.imdb.com/list/ls095964455/\n",
    "**You have to find the following details:**\n",
    "\n",
    "**A) Name**\n",
    "\n",
    "**B) Year span**\n",
    "\n",
    "**C) Genre**\n",
    "\n",
    "**D) Run time**\n",
    "\n",
    "**E) Ratings**\n",
    "\n",
    "**F) Votes**"
   ]
  },
  {
   "cell_type": "code",
   "execution_count": 156,
   "id": "d4f22b48",
   "metadata": {
    "hidden": true
   },
   "outputs": [],
   "source": [
    "# Connecting to crome\n",
    "driver=webdriver.Chrome(r\"chromedriver.exe\")"
   ]
  },
  {
   "cell_type": "code",
   "execution_count": 157,
   "id": "0b4f3665",
   "metadata": {
    "hidden": true
   },
   "outputs": [],
   "source": [
    "# opening the website\n",
    "driver.get(' https://www.imdb.com/list/ls095964455/')"
   ]
  },
  {
   "cell_type": "code",
   "execution_count": 158,
   "id": "00583b63",
   "metadata": {
    "hidden": true
   },
   "outputs": [],
   "source": [
    "name=[]\n",
    "year_span=[]\n",
    "genre=[]\n",
    "run_time=[]\n",
    "rating=[]\n",
    "votes=[]"
   ]
  },
  {
   "cell_type": "code",
   "execution_count": 159,
   "id": "d9f824f9",
   "metadata": {
    "hidden": true
   },
   "outputs": [],
   "source": [
    "na=driver.find_elements(By.XPATH,'//div[@class=\"lister-item-content\"]/h3/a')\n",
    "for i in na:\n",
    "    name.append(i.text)\n",
    "    \n",
    "ye=driver.find_elements(By.XPATH,'//div[@class=\"lister-item-content\"]/h3/span[2]')\n",
    "for i in ye:\n",
    "    year_span.append(i.text)\n",
    "    \n",
    "ge=driver.find_elements(By.XPATH,'//div[@class=\"lister-item-content\"]/p/span[5]')\n",
    "for i in ge:\n",
    "    genre.append(i.text)\n",
    "    \n",
    "ru=driver.find_elements(By.XPATH,'//div[@class=\"lister-item-content\"]/p/span[3]')\n",
    "for i in ru:\n",
    "    run_time.append(i.text)\n",
    "    \n",
    "ra=driver.find_elements(By.XPATH,'//div[@class=\"lister-item-content\"]/div/div/span[2]')\n",
    "for i in ra:\n",
    "    rating.append(i.text)\n",
    "    \n",
    "vo=driver.find_elements(By.XPATH,'//div[@class=\"lister-item-content\"]/p[4]/span[2]')\n",
    "for i in vo:\n",
    "    votes.append(i.text)"
   ]
  },
  {
   "cell_type": "code",
   "execution_count": 160,
   "id": "85384754",
   "metadata": {
    "hidden": true
   },
   "outputs": [
    {
     "name": "stdout",
     "output_type": "stream",
     "text": [
      "100 100 100 100 100 100\n"
     ]
    }
   ],
   "source": [
    "print(len(name),len(year_span),len(genre),len(run_time),len(rating),len(votes))"
   ]
  },
  {
   "cell_type": "code",
   "execution_count": 162,
   "id": "e2e61af0",
   "metadata": {
    "hidden": true
   },
   "outputs": [
    {
     "data": {
      "text/html": [
       "<div>\n",
       "<style scoped>\n",
       "    .dataframe tbody tr th:only-of-type {\n",
       "        vertical-align: middle;\n",
       "    }\n",
       "\n",
       "    .dataframe tbody tr th {\n",
       "        vertical-align: top;\n",
       "    }\n",
       "\n",
       "    .dataframe thead th {\n",
       "        text-align: right;\n",
       "    }\n",
       "</style>\n",
       "<table border=\"1\" class=\"dataframe\">\n",
       "  <thead>\n",
       "    <tr style=\"text-align: right;\">\n",
       "      <th></th>\n",
       "      <th>Name</th>\n",
       "      <th>Year Span</th>\n",
       "      <th>Genre</th>\n",
       "      <th>Run Time</th>\n",
       "      <th>Rating</th>\n",
       "      <th>Votes</th>\n",
       "    </tr>\n",
       "  </thead>\n",
       "  <tbody>\n",
       "    <tr>\n",
       "      <th>0</th>\n",
       "      <td>Game of Thrones</td>\n",
       "      <td>(2011–2019)</td>\n",
       "      <td>Action, Adventure, Drama</td>\n",
       "      <td>57 min</td>\n",
       "      <td>9.2</td>\n",
       "      <td>2,162,438</td>\n",
       "    </tr>\n",
       "    <tr>\n",
       "      <th>1</th>\n",
       "      <td>Stranger Things</td>\n",
       "      <td>(2016–2022)</td>\n",
       "      <td>Drama, Fantasy, Horror</td>\n",
       "      <td>51 min</td>\n",
       "      <td>8.7</td>\n",
       "      <td>1,242,544</td>\n",
       "    </tr>\n",
       "    <tr>\n",
       "      <th>2</th>\n",
       "      <td>The Walking Dead</td>\n",
       "      <td>(2010–2022)</td>\n",
       "      <td>Drama, Horror, Thriller</td>\n",
       "      <td>44 min</td>\n",
       "      <td>8.1</td>\n",
       "      <td>1,027,305</td>\n",
       "    </tr>\n",
       "    <tr>\n",
       "      <th>3</th>\n",
       "      <td>13 Reasons Why</td>\n",
       "      <td>(2017–2020)</td>\n",
       "      <td>Drama, Mystery, Thriller</td>\n",
       "      <td>60 min</td>\n",
       "      <td>7.5</td>\n",
       "      <td>302,200</td>\n",
       "    </tr>\n",
       "    <tr>\n",
       "      <th>4</th>\n",
       "      <td>The 100</td>\n",
       "      <td>(2014–2020)</td>\n",
       "      <td>Drama, Mystery, Sci-Fi</td>\n",
       "      <td>43 min</td>\n",
       "      <td>7.6</td>\n",
       "      <td>261,306</td>\n",
       "    </tr>\n",
       "    <tr>\n",
       "      <th>...</th>\n",
       "      <td>...</td>\n",
       "      <td>...</td>\n",
       "      <td>...</td>\n",
       "      <td>...</td>\n",
       "      <td>...</td>\n",
       "      <td>...</td>\n",
       "    </tr>\n",
       "    <tr>\n",
       "      <th>95</th>\n",
       "      <td>Reign</td>\n",
       "      <td>(2013–2017)</td>\n",
       "      <td>Drama</td>\n",
       "      <td>42 min</td>\n",
       "      <td>7.4</td>\n",
       "      <td>51,676</td>\n",
       "    </tr>\n",
       "    <tr>\n",
       "      <th>96</th>\n",
       "      <td>A Series of Unfortunate Events</td>\n",
       "      <td>(2017–2019)</td>\n",
       "      <td>Adventure, Comedy, Drama</td>\n",
       "      <td>50 min</td>\n",
       "      <td>7.8</td>\n",
       "      <td>63,712</td>\n",
       "    </tr>\n",
       "    <tr>\n",
       "      <th>97</th>\n",
       "      <td>Criminal Minds</td>\n",
       "      <td>(2005– )</td>\n",
       "      <td>Crime, Drama, Mystery</td>\n",
       "      <td>42 min</td>\n",
       "      <td>8.1</td>\n",
       "      <td>207,670</td>\n",
       "    </tr>\n",
       "    <tr>\n",
       "      <th>98</th>\n",
       "      <td>Scream: The TV Series</td>\n",
       "      <td>(2015–2019)</td>\n",
       "      <td>Comedy, Crime, Drama</td>\n",
       "      <td>45 min</td>\n",
       "      <td>7</td>\n",
       "      <td>43,208</td>\n",
       "    </tr>\n",
       "    <tr>\n",
       "      <th>99</th>\n",
       "      <td>The Haunting of Hill House</td>\n",
       "      <td>(2018)</td>\n",
       "      <td>Drama, Horror, Mystery</td>\n",
       "      <td>572 min</td>\n",
       "      <td>8.6</td>\n",
       "      <td>258,189</td>\n",
       "    </tr>\n",
       "  </tbody>\n",
       "</table>\n",
       "<p>100 rows × 6 columns</p>\n",
       "</div>"
      ],
      "text/plain": [
       "                              Name    Year Span                     Genre  \\\n",
       "0                  Game of Thrones  (2011–2019)  Action, Adventure, Drama   \n",
       "1                  Stranger Things  (2016–2022)    Drama, Fantasy, Horror   \n",
       "2                 The Walking Dead  (2010–2022)   Drama, Horror, Thriller   \n",
       "3                   13 Reasons Why  (2017–2020)  Drama, Mystery, Thriller   \n",
       "4                          The 100  (2014–2020)    Drama, Mystery, Sci-Fi   \n",
       "..                             ...          ...                       ...   \n",
       "95                           Reign  (2013–2017)                     Drama   \n",
       "96  A Series of Unfortunate Events  (2017–2019)  Adventure, Comedy, Drama   \n",
       "97                  Criminal Minds     (2005– )     Crime, Drama, Mystery   \n",
       "98           Scream: The TV Series  (2015–2019)      Comedy, Crime, Drama   \n",
       "99      The Haunting of Hill House       (2018)    Drama, Horror, Mystery   \n",
       "\n",
       "   Run Time Rating      Votes  \n",
       "0    57 min    9.2  2,162,438  \n",
       "1    51 min    8.7  1,242,544  \n",
       "2    44 min    8.1  1,027,305  \n",
       "3    60 min    7.5    302,200  \n",
       "4    43 min    7.6    261,306  \n",
       "..      ...    ...        ...  \n",
       "95   42 min    7.4     51,676  \n",
       "96   50 min    7.8     63,712  \n",
       "97   42 min    8.1    207,670  \n",
       "98   45 min      7     43,208  \n",
       "99  572 min    8.6    258,189  \n",
       "\n",
       "[100 rows x 6 columns]"
      ]
     },
     "execution_count": 162,
     "metadata": {},
     "output_type": "execute_result"
    }
   ],
   "source": [
    "df=pd.DataFrame({'Name':name,'Year Span':year_span,'Genre':genre,'Run Time':run_time,'Rating':rating,'Votes':votes})\n",
    "df"
   ]
  },
  {
   "cell_type": "code",
   "execution_count": 163,
   "id": "ce04c307",
   "metadata": {
    "hidden": true
   },
   "outputs": [],
   "source": [
    "driver.close()"
   ]
  },
  {
   "cell_type": "markdown",
   "id": "1b7d6e13",
   "metadata": {
    "heading_collapsed": true
   },
   "source": [
    "## 8. Details of Datasets from UCI machine learning repositories.\n",
    "### Url = https://archive.ics.uci.edu/\n",
    "**You have to find the following details:**\n",
    "\n",
    "**A) Dataset name**\n",
    "\n",
    "**B) Data type**\n",
    "\n",
    "**C) Task**\n",
    "\n",
    "**D) Attribute type**\n",
    "\n",
    "**E) No of instances**\n",
    "\n",
    "**F) No of attribute**\n",
    "\n",
    "**G) Year**\n",
    "\n",
    "**Note: - from the home page you have to go to the Show All Dataset page through code.**"
   ]
  },
  {
   "cell_type": "code",
   "execution_count": 164,
   "id": "9f9de95f",
   "metadata": {
    "hidden": true
   },
   "outputs": [],
   "source": [
    "# Connecting to crome\n",
    "driver=webdriver.Chrome(r\"chromedriver.exe\")"
   ]
  },
  {
   "cell_type": "code",
   "execution_count": 165,
   "id": "1cffab44",
   "metadata": {
    "hidden": true
   },
   "outputs": [],
   "source": [
    "# opening the website\n",
    "driver.get(' https://archive.ics.uci.edu/')"
   ]
  },
  {
   "cell_type": "code",
   "execution_count": 166,
   "id": "be36a2f1",
   "metadata": {
    "hidden": true
   },
   "outputs": [],
   "source": [
    "# click on show all dataset\n",
    "show=driver.find_element(By.XPATH,'/html/body/table[1]/tbody/tr/td[2]/span[2]/a/font/b').click()"
   ]
  },
  {
   "cell_type": "code",
   "execution_count": 180,
   "id": "516eb476",
   "metadata": {
    "hidden": true
   },
   "outputs": [],
   "source": [
    "dataset_name=[]\n",
    "data_type=[]\n",
    "task=[]\n",
    "attribute_type=[]\n",
    "no_of_instances=[]\n",
    "no_of_attribute=[]\n",
    "year=[]"
   ]
  },
  {
   "cell_type": "code",
   "execution_count": 181,
   "id": "dc06520a",
   "metadata": {
    "hidden": true
   },
   "outputs": [],
   "source": [
    "ds=driver.find_elements(By.XPATH,'//table[@cellpadding=\"3\"]/tbody/tr/td[2]/table[2]/tbody/tr/td[1]')\n",
    "for i in ds[1:]:\n",
    "    dataset_name.append(i.text.strip())\n",
    "    \n",
    "da=driver.find_elements(By.XPATH,'//table[@cellpadding=\"3\"]/tbody/tr/td[2]/table[2]/tbody/tr/td[2]')\n",
    "for i in da[1:]:\n",
    "    data_type.append(i.text.strip())\n",
    "    \n",
    "ta=driver.find_elements(By.XPATH,'//table[@cellpadding=\"3\"]/tbody/tr/td[2]/table[2]/tbody/tr/td[3]')\n",
    "for i in ta[1:]:\n",
    "    task.append(i.text.strip())\n",
    "    \n",
    "ata=driver.find_elements(By.XPATH,'//table[@cellpadding=\"3\"]/tbody/tr/td[2]/table[2]/tbody/tr/td[4]')\n",
    "for i in ata[1:]:\n",
    "    attribute_type.append(i.text.strip())\n",
    "    \n",
    "ni=driver.find_elements(By.XPATH,'//table[@cellpadding=\"3\"]/tbody/tr/td[2]/table[2]/tbody/tr/td[5]')\n",
    "for i in ni[1:]:\n",
    "    no_of_instances.append(i.text.strip())\n",
    "    \n",
    "na=driver.find_elements(By.XPATH,'//table[@cellpadding=\"3\"]/tbody/tr/td[2]/table[2]/tbody/tr/td[6]')\n",
    "for i in na[1:]:\n",
    "    no_of_attribute.append(i.text.strip())\n",
    "    \n",
    "ye=driver.find_elements(By.XPATH,'//table[@cellpadding=\"3\"]/tbody/tr/td[2]/table[2]/tbody/tr/td[7]')\n",
    "for i in ye[1:]:\n",
    "    year.append(i.text.strip())"
   ]
  },
  {
   "cell_type": "code",
   "execution_count": 182,
   "id": "ce681776",
   "metadata": {
    "hidden": true
   },
   "outputs": [
    {
     "name": "stdout",
     "output_type": "stream",
     "text": [
      "622 622 622 622 622 622 622\n"
     ]
    }
   ],
   "source": [
    "print(len(dataset_name),len(data_type),len(task),len(attribute_type),len(no_of_instances),len(no_of_attribute),len(year))"
   ]
  },
  {
   "cell_type": "code",
   "execution_count": 183,
   "id": "60494c83",
   "metadata": {
    "hidden": true
   },
   "outputs": [
    {
     "data": {
      "text/html": [
       "<div>\n",
       "<style scoped>\n",
       "    .dataframe tbody tr th:only-of-type {\n",
       "        vertical-align: middle;\n",
       "    }\n",
       "\n",
       "    .dataframe tbody tr th {\n",
       "        vertical-align: top;\n",
       "    }\n",
       "\n",
       "    .dataframe thead th {\n",
       "        text-align: right;\n",
       "    }\n",
       "</style>\n",
       "<table border=\"1\" class=\"dataframe\">\n",
       "  <thead>\n",
       "    <tr style=\"text-align: right;\">\n",
       "      <th></th>\n",
       "      <th>Dataset Name</th>\n",
       "      <th>Data Type</th>\n",
       "      <th>Task</th>\n",
       "      <th>Attribute Type</th>\n",
       "      <th>No. of Instances</th>\n",
       "      <th>No of Attribute</th>\n",
       "      <th>Year</th>\n",
       "    </tr>\n",
       "  </thead>\n",
       "  <tbody>\n",
       "    <tr>\n",
       "      <th>0</th>\n",
       "      <td>Abalone</td>\n",
       "      <td>Multivariate</td>\n",
       "      <td>Classification</td>\n",
       "      <td>Categorical, Integer, Real</td>\n",
       "      <td>4177</td>\n",
       "      <td>8</td>\n",
       "      <td>1995</td>\n",
       "    </tr>\n",
       "    <tr>\n",
       "      <th>1</th>\n",
       "      <td>Adult</td>\n",
       "      <td>Multivariate</td>\n",
       "      <td>Classification</td>\n",
       "      <td>Categorical, Integer</td>\n",
       "      <td>48842</td>\n",
       "      <td>14</td>\n",
       "      <td>1996</td>\n",
       "    </tr>\n",
       "    <tr>\n",
       "      <th>2</th>\n",
       "      <td>Annealing</td>\n",
       "      <td>Multivariate</td>\n",
       "      <td>Classification</td>\n",
       "      <td>Categorical, Integer, Real</td>\n",
       "      <td>798</td>\n",
       "      <td>38</td>\n",
       "      <td></td>\n",
       "    </tr>\n",
       "    <tr>\n",
       "      <th>3</th>\n",
       "      <td>Anonymous Microsoft Web Data</td>\n",
       "      <td></td>\n",
       "      <td>Recommender-Systems</td>\n",
       "      <td>Categorical</td>\n",
       "      <td>37711</td>\n",
       "      <td>294</td>\n",
       "      <td>1998</td>\n",
       "    </tr>\n",
       "    <tr>\n",
       "      <th>4</th>\n",
       "      <td>Arrhythmia</td>\n",
       "      <td>Multivariate</td>\n",
       "      <td>Classification</td>\n",
       "      <td>Categorical, Integer, Real</td>\n",
       "      <td>452</td>\n",
       "      <td>279</td>\n",
       "      <td>1998</td>\n",
       "    </tr>\n",
       "    <tr>\n",
       "      <th>...</th>\n",
       "      <td>...</td>\n",
       "      <td>...</td>\n",
       "      <td>...</td>\n",
       "      <td>...</td>\n",
       "      <td>...</td>\n",
       "      <td>...</td>\n",
       "      <td>...</td>\n",
       "    </tr>\n",
       "    <tr>\n",
       "      <th>617</th>\n",
       "      <td>Influenza outbreak event prediction via Twitte...</td>\n",
       "      <td>Multivariate</td>\n",
       "      <td>Classification</td>\n",
       "      <td>Integer, Real</td>\n",
       "      <td>75840</td>\n",
       "      <td>525</td>\n",
       "      <td>2020</td>\n",
       "    </tr>\n",
       "    <tr>\n",
       "      <th>618</th>\n",
       "      <td>Turkish Music Emotion Dataset</td>\n",
       "      <td>Multivariate</td>\n",
       "      <td>Classification</td>\n",
       "      <td>Integer, Real</td>\n",
       "      <td>400</td>\n",
       "      <td>50</td>\n",
       "      <td>2020</td>\n",
       "    </tr>\n",
       "    <tr>\n",
       "      <th>619</th>\n",
       "      <td>Maternal Health Risk Data Set</td>\n",
       "      <td></td>\n",
       "      <td>Classification</td>\n",
       "      <td></td>\n",
       "      <td>1014</td>\n",
       "      <td>7</td>\n",
       "      <td>2020</td>\n",
       "    </tr>\n",
       "    <tr>\n",
       "      <th>620</th>\n",
       "      <td>Room Occupancy Estimation</td>\n",
       "      <td>Multivariate, Time-Series</td>\n",
       "      <td>Classification</td>\n",
       "      <td>Real</td>\n",
       "      <td>10129</td>\n",
       "      <td>16</td>\n",
       "      <td>2021</td>\n",
       "    </tr>\n",
       "    <tr>\n",
       "      <th>621</th>\n",
       "      <td>Image Recognition Task Execution Times in Mobi...</td>\n",
       "      <td>Univariate</td>\n",
       "      <td>Regression</td>\n",
       "      <td>Real</td>\n",
       "      <td>4000</td>\n",
       "      <td>2</td>\n",
       "      <td>2021</td>\n",
       "    </tr>\n",
       "  </tbody>\n",
       "</table>\n",
       "<p>622 rows × 7 columns</p>\n",
       "</div>"
      ],
      "text/plain": [
       "                                          Dataset Name  \\\n",
       "0                                              Abalone   \n",
       "1                                                Adult   \n",
       "2                                            Annealing   \n",
       "3                         Anonymous Microsoft Web Data   \n",
       "4                                           Arrhythmia   \n",
       "..                                                 ...   \n",
       "617  Influenza outbreak event prediction via Twitte...   \n",
       "618                      Turkish Music Emotion Dataset   \n",
       "619                      Maternal Health Risk Data Set   \n",
       "620                          Room Occupancy Estimation   \n",
       "621  Image Recognition Task Execution Times in Mobi...   \n",
       "\n",
       "                     Data Type                 Task  \\\n",
       "0                 Multivariate       Classification   \n",
       "1                 Multivariate       Classification   \n",
       "2                 Multivariate       Classification   \n",
       "3                               Recommender-Systems   \n",
       "4                 Multivariate       Classification   \n",
       "..                         ...                  ...   \n",
       "617               Multivariate       Classification   \n",
       "618               Multivariate       Classification   \n",
       "619                                  Classification   \n",
       "620  Multivariate, Time-Series       Classification   \n",
       "621                 Univariate           Regression   \n",
       "\n",
       "                 Attribute Type No. of Instances No of Attribute  Year  \n",
       "0    Categorical, Integer, Real             4177               8  1995  \n",
       "1          Categorical, Integer            48842              14  1996  \n",
       "2    Categorical, Integer, Real              798              38        \n",
       "3                   Categorical            37711             294  1998  \n",
       "4    Categorical, Integer, Real              452             279  1998  \n",
       "..                          ...              ...             ...   ...  \n",
       "617               Integer, Real            75840             525  2020  \n",
       "618               Integer, Real              400              50  2020  \n",
       "619                                         1014               7  2020  \n",
       "620                        Real            10129              16  2021  \n",
       "621                        Real             4000               2  2021  \n",
       "\n",
       "[622 rows x 7 columns]"
      ]
     },
     "execution_count": 183,
     "metadata": {},
     "output_type": "execute_result"
    }
   ],
   "source": [
    "df=pd.DataFrame({'Dataset Name':dataset_name,'Data Type':data_type,'Task':task,'Attribute Type':attribute_type,'No. of Instances':no_of_instances,'No of Attribute':no_of_attribute,'Year':year,})\n",
    "df"
   ]
  },
  {
   "cell_type": "code",
   "execution_count": 184,
   "id": "8677fb06",
   "metadata": {
    "hidden": true
   },
   "outputs": [],
   "source": [
    "driver.close()"
   ]
  },
  {
   "cell_type": "markdown",
   "id": "087948d9",
   "metadata": {
    "heading_collapsed": true
   },
   "source": [
    "## 9. Scrape the details of Data science recruiters \n",
    "### Url = https://www.naukri.com/hr-recruiters-consultants\n",
    "**You have to find the following details:**\n",
    "\n",
    "**A) Name**\n",
    "\n",
    "**B) Designation**\n",
    "\n",
    "**C)Company**\n",
    "\n",
    "**D)Skills they hire for**\n",
    "\n",
    "**E) Location**\n",
    "\n",
    "**Note: - From naukri.com homepage click on the recruiters option and the on the search pane type Data science and\n",
    "click on search. All this should be done through code**"
   ]
  },
  {
   "cell_type": "code",
   "execution_count": 185,
   "id": "940a1fb0",
   "metadata": {
    "hidden": true
   },
   "outputs": [],
   "source": [
    "# Connecting to crome\n",
    "driver=webdriver.Chrome(r\"chromedriver.exe\")"
   ]
  },
  {
   "cell_type": "code",
   "execution_count": 186,
   "id": "75a8344b",
   "metadata": {
    "hidden": true
   },
   "outputs": [],
   "source": [
    "# opening the website\n",
    "driver.get('https://www.naukri.com/hr-recruiters-consultants')"
   ]
  },
  {
   "cell_type": "code",
   "execution_count": 187,
   "id": "c6462d8b",
   "metadata": {
    "hidden": true
   },
   "outputs": [],
   "source": [
    "search_panal=driver.find_element(By.XPATH,'/html/body/div[2]/div[2]/div[1]/div[1]/form/div[1]/div/div[1]/div[1]/div[2]/input')\n",
    "search_panal.send_keys('Data science')\n",
    "search_panal.submit()\n"
   ]
  },
  {
   "cell_type": "code",
   "execution_count": 212,
   "id": "b84107e3",
   "metadata": {
    "hidden": true
   },
   "outputs": [],
   "source": [
    "name=[]\n",
    "designation=[]\n",
    "comapany=[]\n",
    "skills_they_hire_for=[]\n",
    "location=[]"
   ]
  },
  {
   "cell_type": "code",
   "execution_count": 214,
   "id": "3d20f38e",
   "metadata": {
    "hidden": true
   },
   "outputs": [],
   "source": [
    "while True:\n",
    "\n",
    "    na=driver.find_elements(By.XPATH,'//div[@class=\"recInfo\"]')\n",
    "    for i in na:\n",
    "        try:\n",
    "            a=driver.find_elements(By.XPATH,'//span[@class=\"fl ellipsis\"]')\n",
    "            name.append(i.text)\n",
    "        except:\n",
    "            name.append('-')\n",
    "    desi=driver.find_elements(By.XPATH,'//div[@class=\"recInfo\"]')\n",
    "    for i in desi:\n",
    "        try:\n",
    "            i=driver.find_elements(By.XPATH,'//span[@class=\"ellipsis clr\"]')\n",
    "            designation.append(i.text)\n",
    "        except:\n",
    "            designation.append('-')\n",
    "\n",
    "    com=driver.find_elements(By.XPATH,'//div[@class=\"recInfo\"]')\n",
    "    for i in com:\n",
    "        try:\n",
    "            m=driver.find_elements(By.XPATH,'//a[2][@class=\"ellipsis\"]')\n",
    "            comapany.append(i.text)\n",
    "        except:\n",
    "            comapany.append('-')\n",
    "\n",
    "    sk=driver.find_elements(By.XPATH,'//div[@class=\"recInfo\"]')\n",
    "    for i in sk:\n",
    "        try:\n",
    "            k=driver.find_elements(By.XPATH,'//div[@class=\"hireSec highlightable\"]')\n",
    "            skills_they_hire_for.append(i.text)\n",
    "        except:\n",
    "            skills_they_hire_for.append('-')\n",
    "\n",
    "    lo=driver.find_elements(By.XPATH,'//div[@class=\"recInfo\"]')\n",
    "    for i in lo:\n",
    "        try:\n",
    "            x=i.find_element(By.XPATH,'//small[@class=\"ellipsis\"]')\n",
    "            location.append(i.text)\n",
    "        except:\n",
    "            location.append('-')\n",
    "    try:\n",
    "        next_button = driver.find_element(By.XPATH, f'//button[@class=\"grayBtn\" and contains(text(), \"Next\")]')\n",
    "        next_button.click()\n",
    "        time.sleep(2)\n",
    "    except NoSuchElementException:\n",
    "        break\n",
    "    "
   ]
  },
  {
   "cell_type": "code",
   "execution_count": 215,
   "id": "0c183a09",
   "metadata": {
    "hidden": true
   },
   "outputs": [
    {
     "name": "stdout",
     "output_type": "stream",
     "text": [
      "4850 4850 4850 4850 4850\n"
     ]
    }
   ],
   "source": [
    "print(len(name),len(designation),len(comapany),len(skills_they_hire_for),len(location))"
   ]
  },
  {
   "cell_type": "code",
   "execution_count": 218,
   "id": "6c58432f",
   "metadata": {
    "hidden": true
   },
   "outputs": [
    {
     "data": {
      "text/html": [
       "<div>\n",
       "<style scoped>\n",
       "    .dataframe tbody tr th:only-of-type {\n",
       "        vertical-align: middle;\n",
       "    }\n",
       "\n",
       "    .dataframe tbody tr th {\n",
       "        vertical-align: top;\n",
       "    }\n",
       "\n",
       "    .dataframe thead th {\n",
       "        text-align: right;\n",
       "    }\n",
       "</style>\n",
       "<table border=\"1\" class=\"dataframe\">\n",
       "  <thead>\n",
       "    <tr style=\"text-align: right;\">\n",
       "      <th></th>\n",
       "      <th>Name</th>\n",
       "      <th>Designation</th>\n",
       "      <th>Company</th>\n",
       "      <th>Skills They Hire For</th>\n",
       "      <th>Location</th>\n",
       "    </tr>\n",
       "  </thead>\n",
       "  <tbody>\n",
       "    <tr>\n",
       "      <th>0</th>\n",
       "      <td>Aakash Harit\\nHR Manager\\nData Science Network...</td>\n",
       "      <td>-</td>\n",
       "      <td>Aakash Harit\\nHR Manager\\nData Science Network...</td>\n",
       "      <td>Aakash Harit\\nHR Manager\\nData Science Network...</td>\n",
       "      <td>Aakash Harit\\nHR Manager\\nData Science Network...</td>\n",
       "    </tr>\n",
       "    <tr>\n",
       "      <th>1</th>\n",
       "      <td>shravan Kumar Gaddam\\nCompany Recruiter\\nShore...</td>\n",
       "      <td>-</td>\n",
       "      <td>shravan Kumar Gaddam\\nCompany Recruiter\\nShore...</td>\n",
       "      <td>shravan Kumar Gaddam\\nCompany Recruiter\\nShore...</td>\n",
       "      <td>shravan Kumar Gaddam\\nCompany Recruiter\\nShore...</td>\n",
       "    </tr>\n",
       "    <tr>\n",
       "      <th>2</th>\n",
       "      <td>MARSIAN Technologies LLP\\nCompany HR\\nMARSIAN ...</td>\n",
       "      <td>-</td>\n",
       "      <td>MARSIAN Technologies LLP\\nCompany HR\\nMARSIAN ...</td>\n",
       "      <td>MARSIAN Technologies LLP\\nCompany HR\\nMARSIAN ...</td>\n",
       "      <td>MARSIAN Technologies LLP\\nCompany HR\\nMARSIAN ...</td>\n",
       "    </tr>\n",
       "    <tr>\n",
       "      <th>3</th>\n",
       "      <td>Anik Agrawal\\nCompany Recruiter\\nEnerlytics So...</td>\n",
       "      <td>-</td>\n",
       "      <td>Anik Agrawal\\nCompany Recruiter\\nEnerlytics So...</td>\n",
       "      <td>Anik Agrawal\\nCompany Recruiter\\nEnerlytics So...</td>\n",
       "      <td>Anik Agrawal\\nCompany Recruiter\\nEnerlytics So...</td>\n",
       "    </tr>\n",
       "    <tr>\n",
       "      <th>4</th>\n",
       "      <td>subhas patel\\nFounder CEO\\nLibraryXProject\\nUK...</td>\n",
       "      <td>-</td>\n",
       "      <td>subhas patel\\nFounder CEO\\nLibraryXProject\\nUK...</td>\n",
       "      <td>subhas patel\\nFounder CEO\\nLibraryXProject\\nUK...</td>\n",
       "      <td>subhas patel\\nFounder CEO\\nLibraryXProject\\nUK...</td>\n",
       "    </tr>\n",
       "  </tbody>\n",
       "</table>\n",
       "</div>"
      ],
      "text/plain": [
       "                                                Name Designation  \\\n",
       "0  Aakash Harit\\nHR Manager\\nData Science Network...           -   \n",
       "1  shravan Kumar Gaddam\\nCompany Recruiter\\nShore...           -   \n",
       "2  MARSIAN Technologies LLP\\nCompany HR\\nMARSIAN ...           -   \n",
       "3  Anik Agrawal\\nCompany Recruiter\\nEnerlytics So...           -   \n",
       "4  subhas patel\\nFounder CEO\\nLibraryXProject\\nUK...           -   \n",
       "\n",
       "                                             Company  \\\n",
       "0  Aakash Harit\\nHR Manager\\nData Science Network...   \n",
       "1  shravan Kumar Gaddam\\nCompany Recruiter\\nShore...   \n",
       "2  MARSIAN Technologies LLP\\nCompany HR\\nMARSIAN ...   \n",
       "3  Anik Agrawal\\nCompany Recruiter\\nEnerlytics So...   \n",
       "4  subhas patel\\nFounder CEO\\nLibraryXProject\\nUK...   \n",
       "\n",
       "                                Skills They Hire For  \\\n",
       "0  Aakash Harit\\nHR Manager\\nData Science Network...   \n",
       "1  shravan Kumar Gaddam\\nCompany Recruiter\\nShore...   \n",
       "2  MARSIAN Technologies LLP\\nCompany HR\\nMARSIAN ...   \n",
       "3  Anik Agrawal\\nCompany Recruiter\\nEnerlytics So...   \n",
       "4  subhas patel\\nFounder CEO\\nLibraryXProject\\nUK...   \n",
       "\n",
       "                                            Location  \n",
       "0  Aakash Harit\\nHR Manager\\nData Science Network...  \n",
       "1  shravan Kumar Gaddam\\nCompany Recruiter\\nShore...  \n",
       "2  MARSIAN Technologies LLP\\nCompany HR\\nMARSIAN ...  \n",
       "3  Anik Agrawal\\nCompany Recruiter\\nEnerlytics So...  \n",
       "4  subhas patel\\nFounder CEO\\nLibraryXProject\\nUK...  "
      ]
     },
     "execution_count": 218,
     "metadata": {},
     "output_type": "execute_result"
    }
   ],
   "source": [
    "df=pd.DataFrame({\"Name\":name,'Designation':designation,'Company':comapany,'Skills They Hire For':skills_they_hire_for,'Location':location})\n",
    "df.head()"
   ]
  },
  {
   "cell_type": "code",
   "execution_count": 219,
   "id": "399cc143",
   "metadata": {
    "hidden": true
   },
   "outputs": [
    {
     "data": {
      "text/plain": [
       "(4850, 5)"
      ]
     },
     "execution_count": 219,
     "metadata": {},
     "output_type": "execute_result"
    }
   ],
   "source": [
    "df.shape"
   ]
  },
  {
   "cell_type": "code",
   "execution_count": 220,
   "id": "16ade9ff",
   "metadata": {
    "hidden": true
   },
   "outputs": [],
   "source": [
    "driver.close()"
   ]
  },
  {
   "cell_type": "code",
   "execution_count": null,
   "id": "4f3e66a3",
   "metadata": {
    "hidden": true
   },
   "outputs": [],
   "source": []
  }
 ],
 "metadata": {
  "kernelspec": {
   "display_name": "Python 3 (ipykernel)",
   "language": "python",
   "name": "python3"
  },
  "language_info": {
   "codemirror_mode": {
    "name": "ipython",
    "version": 3
   },
   "file_extension": ".py",
   "mimetype": "text/x-python",
   "name": "python",
   "nbconvert_exporter": "python",
   "pygments_lexer": "ipython3",
   "version": "3.9.12"
  },
  "toc": {
   "base_numbering": 1,
   "nav_menu": {},
   "number_sections": true,
   "sideBar": true,
   "skip_h1_title": false,
   "title_cell": "Table of Contents",
   "title_sidebar": "Contents",
   "toc_cell": false,
   "toc_position": {},
   "toc_section_display": true,
   "toc_window_display": false
  }
 },
 "nbformat": 4,
 "nbformat_minor": 5
}
