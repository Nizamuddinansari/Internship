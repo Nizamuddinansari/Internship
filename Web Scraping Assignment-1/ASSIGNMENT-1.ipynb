{
 "cells": [
  {
   "cell_type": "markdown",
   "id": "d096f455",
   "metadata": {},
   "source": [
    "# ASSIGNMENT-1"
   ]
  },
  {
   "cell_type": "markdown",
   "id": "32e4d221",
   "metadata": {},
   "source": [
    "## WEB SCRAPING"
   ]
  },
  {
   "cell_type": "code",
   "execution_count": 3,
   "id": "40029a86",
   "metadata": {},
   "outputs": [
    {
     "name": "stdout",
     "output_type": "stream",
     "text": [
      "Requirement already satisfied: bs4 in c:\\users\\nizam\\anaconda3\\lib\\site-packages (0.0.1)\n",
      "Requirement already satisfied: beautifulsoup4 in c:\\users\\nizam\\anaconda3\\lib\\site-packages (from bs4) (4.11.1)\n",
      "Requirement already satisfied: soupsieve>1.2 in c:\\users\\nizam\\anaconda3\\lib\\site-packages (from beautifulsoup4->bs4) (2.3.1)\n",
      "Requirement already satisfied: requests in c:\\users\\nizam\\anaconda3\\lib\\site-packages (2.27.1)\n",
      "Requirement already satisfied: charset-normalizer~=2.0.0 in c:\\users\\nizam\\anaconda3\\lib\\site-packages (from requests) (2.0.4)\n",
      "Requirement already satisfied: urllib3<1.27,>=1.21.1 in c:\\users\\nizam\\anaconda3\\lib\\site-packages (from requests) (1.26.9)\n",
      "Requirement already satisfied: idna<4,>=2.5 in c:\\users\\nizam\\anaconda3\\lib\\site-packages (from requests) (3.3)\n",
      "Requirement already satisfied: certifi>=2017.4.17 in c:\\users\\nizam\\anaconda3\\lib\\site-packages (from requests) (2021.10.8)\n"
     ]
    }
   ],
   "source": [
    "!pip install bs4\n",
    "!pip install requests"
   ]
  },
  {
   "cell_type": "markdown",
   "id": "dcf1a970",
   "metadata": {},
   "source": [
    "### Important libraries"
   ]
  },
  {
   "cell_type": "code",
   "execution_count": 35,
   "id": "1f9b6f6d",
   "metadata": {},
   "outputs": [],
   "source": [
    "from bs4 import BeautifulSoup\n",
    "import requests\n",
    "import pandas as pd"
   ]
  },
  {
   "cell_type": "markdown",
   "id": "a8839075",
   "metadata": {},
   "source": [
    "### Q1 Write a python program to display all the header tags from wikipedia.org and make data frame."
   ]
  },
  {
   "cell_type": "markdown",
   "id": "4a6ddff8",
   "metadata": {},
   "source": [
    "##### Sending get request to the webpages to get the source code"
   ]
  },
  {
   "cell_type": "code",
   "execution_count": 36,
   "id": "d7888b15",
   "metadata": {},
   "outputs": [],
   "source": [
    "source=requests.get('https://en.wikipedia.org/wiki/Main_Page')"
   ]
  },
  {
   "cell_type": "code",
   "execution_count": 37,
   "id": "750a1305",
   "metadata": {},
   "outputs": [
    {
     "data": {
      "text/plain": [
       "<Response [200]>"
      ]
     },
     "execution_count": 37,
     "metadata": {},
     "output_type": "execute_result"
    }
   ],
   "source": [
    "source"
   ]
  },
  {
   "cell_type": "code",
   "execution_count": 38,
   "id": "99257870",
   "metadata": {},
   "outputs": [],
   "source": [
    "soup4=BeautifulSoup(source.content)"
   ]
  },
  {
   "cell_type": "code",
   "execution_count": 42,
   "id": "bd15ca52",
   "metadata": {},
   "outputs": [
    {
     "data": {
      "text/plain": [
       "[<h1 class=\"firstHeading mw-first-heading\" id=\"firstHeading\" style=\"display: none\"><span class=\"mw-page-title-main\">Main Page</span></h1>,\n",
       " <h1><span class=\"mw-headline\" id=\"Welcome_to_Wikipedia\">Welcome to <a href=\"/wiki/Wikipedia\" title=\"Wikipedia\">Wikipedia</a></span></h1>,\n",
       " <h2 class=\"mp-h2\" id=\"mp-tfa-h2\"><span id=\"From_today.27s_featured_article\"></span><span class=\"mw-headline\" id=\"From_today's_featured_article\">From today's featured article</span></h2>,\n",
       " <h2 class=\"mp-h2\" id=\"mp-dyk-h2\"><span class=\"mw-headline\" id=\"Did_you_know_...\">Did you know ...</span></h2>,\n",
       " <h2 class=\"mp-h2\" id=\"mp-itn-h2\"><span class=\"mw-headline\" id=\"In_the_news\">In the news</span></h2>,\n",
       " <h2 class=\"mp-h2\" id=\"mp-otd-h2\"><span class=\"mw-headline\" id=\"On_this_day\">On this day</span></h2>,\n",
       " <h2 class=\"mp-h2\" id=\"mp-tfp-h2\"><span id=\"Today.27s_featured_picture\"></span><span class=\"mw-headline\" id=\"Today's_featured_picture\">Today's featured picture</span></h2>,\n",
       " <h2 class=\"mp-h2\" id=\"mp-other\"><span class=\"mw-headline\" id=\"Other_areas_of_Wikipedia\">Other areas of Wikipedia</span></h2>,\n",
       " <h2 class=\"mp-h2\" id=\"mp-sister\"><span id=\"Wikipedia.27s_sister_projects\"></span><span class=\"mw-headline\" id=\"Wikipedia's_sister_projects\">Wikipedia's sister projects</span></h2>,\n",
       " <h2 class=\"mp-h2\" id=\"mp-lang\"><span class=\"mw-headline\" id=\"Wikipedia_languages\">Wikipedia languages</span></h2>]"
      ]
     },
     "execution_count": 42,
     "metadata": {},
     "output_type": "execute_result"
    }
   ],
   "source": [
    "# Find all the header tags (h1 to h6) in the HTML content\n",
    "headers = soup4.find_all([\"h1\", \"h2\", \"h3\", \"h4\", \"h5\", \"h6\"])\n",
    "headers"
   ]
  },
  {
   "cell_type": "code",
   "execution_count": 45,
   "id": "6f5af923",
   "metadata": {},
   "outputs": [
    {
     "data": {
      "text/plain": [
       "['Main Page',\n",
       " 'Welcome to Wikipedia',\n",
       " \"From today's featured article\",\n",
       " 'Did you know\\xa0...',\n",
       " 'In the news',\n",
       " 'On this day',\n",
       " \"Today's featured picture\",\n",
       " 'Other areas of Wikipedia',\n",
       " \"Wikipedia's sister projects\",\n",
       " 'Wikipedia languages']"
      ]
     },
     "execution_count": 45,
     "metadata": {},
     "output_type": "execute_result"
    }
   ],
   "source": [
    "# Extract the text content of each header tag\n",
    "head = []\n",
    "for i in headers:\n",
    "    head.append(i.text)\n",
    "head"
   ]
  },
  {
   "cell_type": "code",
   "execution_count": 46,
   "id": "b136c20c",
   "metadata": {},
   "outputs": [
    {
     "data": {
      "text/html": [
       "<div>\n",
       "<style scoped>\n",
       "    .dataframe tbody tr th:only-of-type {\n",
       "        vertical-align: middle;\n",
       "    }\n",
       "\n",
       "    .dataframe tbody tr th {\n",
       "        vertical-align: top;\n",
       "    }\n",
       "\n",
       "    .dataframe thead th {\n",
       "        text-align: right;\n",
       "    }\n",
       "</style>\n",
       "<table border=\"1\" class=\"dataframe\">\n",
       "  <thead>\n",
       "    <tr style=\"text-align: right;\">\n",
       "      <th></th>\n",
       "      <th>Header</th>\n",
       "    </tr>\n",
       "  </thead>\n",
       "  <tbody>\n",
       "    <tr>\n",
       "      <th>0</th>\n",
       "      <td>Main Page</td>\n",
       "    </tr>\n",
       "    <tr>\n",
       "      <th>1</th>\n",
       "      <td>Welcome to Wikipedia</td>\n",
       "    </tr>\n",
       "    <tr>\n",
       "      <th>2</th>\n",
       "      <td>From today's featured article</td>\n",
       "    </tr>\n",
       "    <tr>\n",
       "      <th>3</th>\n",
       "      <td>Did you know ...</td>\n",
       "    </tr>\n",
       "    <tr>\n",
       "      <th>4</th>\n",
       "      <td>In the news</td>\n",
       "    </tr>\n",
       "    <tr>\n",
       "      <th>5</th>\n",
       "      <td>On this day</td>\n",
       "    </tr>\n",
       "    <tr>\n",
       "      <th>6</th>\n",
       "      <td>Today's featured picture</td>\n",
       "    </tr>\n",
       "    <tr>\n",
       "      <th>7</th>\n",
       "      <td>Other areas of Wikipedia</td>\n",
       "    </tr>\n",
       "    <tr>\n",
       "      <th>8</th>\n",
       "      <td>Wikipedia's sister projects</td>\n",
       "    </tr>\n",
       "    <tr>\n",
       "      <th>9</th>\n",
       "      <td>Wikipedia languages</td>\n",
       "    </tr>\n",
       "  </tbody>\n",
       "</table>\n",
       "</div>"
      ],
      "text/plain": [
       "                          Header\n",
       "0                      Main Page\n",
       "1           Welcome to Wikipedia\n",
       "2  From today's featured article\n",
       "3               Did you know ...\n",
       "4                    In the news\n",
       "5                    On this day\n",
       "6       Today's featured picture\n",
       "7       Other areas of Wikipedia\n",
       "8    Wikipedia's sister projects\n",
       "9            Wikipedia languages"
      ]
     },
     "execution_count": 46,
     "metadata": {},
     "output_type": "execute_result"
    }
   ],
   "source": [
    "# Create a pandas DataFrame to store the header data\n",
    "df = pd.DataFrame(header_text, columns=[\"Header\"])\n",
    "\n",
    "# Display the DataFrame\n",
    "df"
   ]
  },
  {
   "cell_type": "markdown",
   "id": "37d5bafc",
   "metadata": {},
   "source": [
    "### Q2 Write a python program to display IMDB’s Top rated 50 movie's data (i.e. name, rating, year of release) and make data frame"
   ]
  },
  {
   "cell_type": "markdown",
   "id": "3bfe93a1",
   "metadata": {},
   "source": [
    "IMDB rating top 100 decreasing link"
   ]
  },
  {
   "cell_type": "code",
   "execution_count": 47,
   "id": "1bb022d9",
   "metadata": {},
   "outputs": [],
   "source": [
    "imdb=requests.get('https://www.imdb.com/search/title/?groups=top_100&sort=user_rating,desc')"
   ]
  },
  {
   "cell_type": "code",
   "execution_count": 48,
   "id": "2a6ab263",
   "metadata": {},
   "outputs": [
    {
     "data": {
      "text/plain": [
       "<Response [200]>"
      ]
     },
     "execution_count": 48,
     "metadata": {},
     "output_type": "execute_result"
    }
   ],
   "source": [
    "imdb"
   ]
  },
  {
   "cell_type": "code",
   "execution_count": 49,
   "id": "cad66d9e",
   "metadata": {},
   "outputs": [],
   "source": [
    "soap=BeautifulSoup(imdb.content)"
   ]
  },
  {
   "cell_type": "code",
   "execution_count": 64,
   "id": "fdb9e964",
   "metadata": {},
   "outputs": [
    {
     "data": {
      "text/plain": [
       "['The Shawshank Redemption',\n",
       " 'The Godfather',\n",
       " 'The Dark Knight',\n",
       " 'The Lord of the Rings: The Return of the King',\n",
       " \"Schindler's List\",\n",
       " '12 Angry Men',\n",
       " 'The Godfather Part II',\n",
       " 'Pulp Fiction',\n",
       " 'Inception',\n",
       " 'The Lord of the Rings: The Fellowship of the Ring',\n",
       " 'Fight Club',\n",
       " 'Forrest Gump',\n",
       " 'The Lord of the Rings: The Two Towers',\n",
       " 'Il buono, il brutto, il cattivo',\n",
       " 'GoodFellas',\n",
       " 'The Matrix',\n",
       " \"One Flew Over the Cuckoo's Nest\",\n",
       " 'The Empire Strikes Back',\n",
       " 'Interstellar',\n",
       " 'Se7en',\n",
       " 'Star Wars',\n",
       " 'The Silence of the Lambs',\n",
       " 'The Green Mile',\n",
       " 'Sen to Chihiro no kamikakushi',\n",
       " 'Terminator 2: Judgment Day',\n",
       " 'Saving Private Ryan',\n",
       " 'Cidade de Deus',\n",
       " 'La vita è bella',\n",
       " 'Shichinin no samurai',\n",
       " \"It's a Wonderful Life\",\n",
       " 'Seppuku',\n",
       " 'Alien',\n",
       " 'Gladiator',\n",
       " 'Whiplash',\n",
       " 'Gisaengchung',\n",
       " 'The Departed',\n",
       " 'Back to the Future',\n",
       " 'Léon',\n",
       " 'The Prestige',\n",
       " 'Psycho',\n",
       " 'The Lion King',\n",
       " 'Apocalypse Now',\n",
       " 'The Pianist',\n",
       " 'American History X',\n",
       " 'The Usual Suspects',\n",
       " 'Casablanca',\n",
       " 'Once Upon a Time in the West',\n",
       " 'The Intouchables',\n",
       " 'Hotaru no haka',\n",
       " 'Rear Window']"
      ]
     },
     "execution_count": 64,
     "metadata": {},
     "output_type": "execute_result"
    }
   ],
   "source": [
    "name=[]\n",
    "for i in soap.find_all('h3',class_=\"lister-item-header\"):\n",
    "    name.append(i.text.split('\\n')[2])\n",
    "    \n",
    "name"
   ]
  },
  {
   "cell_type": "code",
   "execution_count": 68,
   "id": "96f1d77d",
   "metadata": {},
   "outputs": [
    {
     "data": {
      "text/plain": [
       "['(1994)',\n",
       " '(1972)',\n",
       " '(2008)',\n",
       " '(2003)',\n",
       " '(1993)',\n",
       " '(1957)',\n",
       " '(1974)',\n",
       " '(1994)',\n",
       " '(2010)',\n",
       " '(2001)',\n",
       " '(1999)',\n",
       " '(1994)',\n",
       " '(2002)',\n",
       " '(1966)',\n",
       " '(1990)',\n",
       " '(1999)',\n",
       " '(1975)',\n",
       " '(1980)',\n",
       " '(2014)',\n",
       " '(1995)',\n",
       " '(1977)',\n",
       " '(1991)',\n",
       " '(1999)',\n",
       " '(2001)',\n",
       " '(1991)',\n",
       " '(1998)',\n",
       " '(2002)',\n",
       " '(1997)',\n",
       " '(1954)',\n",
       " '(1946)',\n",
       " '(1962)',\n",
       " '(1979)',\n",
       " '(2000)',\n",
       " '(2014)',\n",
       " '(2019)',\n",
       " '(2006)',\n",
       " '(1985)',\n",
       " '(1994)',\n",
       " '(2006)',\n",
       " '(1960)',\n",
       " '(1994)',\n",
       " '(1979)',\n",
       " '(2002)',\n",
       " '(1998)',\n",
       " '(1995)',\n",
       " '(1942)',\n",
       " '(1968)',\n",
       " '(2011)',\n",
       " '(1988)',\n",
       " '(1954)']"
      ]
     },
     "execution_count": 68,
     "metadata": {},
     "output_type": "execute_result"
    }
   ],
   "source": [
    "year=[]\n",
    "for i in soap.find_all('h3',class_=\"lister-item-header\"):\n",
    "    year.append(i.text.split('\\n')[3])\n",
    "    \n",
    "year"
   ]
  },
  {
   "cell_type": "code",
   "execution_count": 75,
   "id": "a2a3f251",
   "metadata": {},
   "outputs": [
    {
     "data": {
      "text/plain": [
       "['9.3',\n",
       " '9.2',\n",
       " '9.0',\n",
       " '9.0',\n",
       " '9.0',\n",
       " '9.0',\n",
       " '9.0',\n",
       " '8.9',\n",
       " '8.8',\n",
       " '8.8',\n",
       " '8.8',\n",
       " '8.8',\n",
       " '8.8',\n",
       " '8.8',\n",
       " '8.7',\n",
       " '8.7',\n",
       " '8.7',\n",
       " '8.7',\n",
       " '8.6',\n",
       " '8.6',\n",
       " '8.6',\n",
       " '8.6',\n",
       " '8.6',\n",
       " '8.6',\n",
       " '8.6',\n",
       " '8.6',\n",
       " '8.6',\n",
       " '8.6',\n",
       " '8.6',\n",
       " '8.6',\n",
       " '8.6',\n",
       " '8.5',\n",
       " '8.5',\n",
       " '8.5',\n",
       " '8.5',\n",
       " '8.5',\n",
       " '8.5',\n",
       " '8.5',\n",
       " '8.5',\n",
       " '8.5',\n",
       " '8.5',\n",
       " '8.5',\n",
       " '8.5',\n",
       " '8.5',\n",
       " '8.5',\n",
       " '8.5',\n",
       " '8.5',\n",
       " '8.5',\n",
       " '8.5',\n",
       " '8.5']"
      ]
     },
     "execution_count": 75,
     "metadata": {},
     "output_type": "execute_result"
    }
   ],
   "source": [
    "rating=[]\n",
    "\n",
    "for i in soap.find_all('div',class_=\"inline-block ratings-imdb-rating\"):\n",
    "    rating.append(i.text.split('\\n')[2])\n",
    "    \n",
    "rating"
   ]
  },
  {
   "cell_type": "code",
   "execution_count": 76,
   "id": "1097eabe",
   "metadata": {},
   "outputs": [
    {
     "name": "stdout",
     "output_type": "stream",
     "text": [
      "50 50 50\n"
     ]
    }
   ],
   "source": [
    "print(len(name),len(rating),len(year))"
   ]
  },
  {
   "cell_type": "code",
   "execution_count": 77,
   "id": "482ea4ef",
   "metadata": {},
   "outputs": [
    {
     "data": {
      "text/html": [
       "<div>\n",
       "<style scoped>\n",
       "    .dataframe tbody tr th:only-of-type {\n",
       "        vertical-align: middle;\n",
       "    }\n",
       "\n",
       "    .dataframe tbody tr th {\n",
       "        vertical-align: top;\n",
       "    }\n",
       "\n",
       "    .dataframe thead th {\n",
       "        text-align: right;\n",
       "    }\n",
       "</style>\n",
       "<table border=\"1\" class=\"dataframe\">\n",
       "  <thead>\n",
       "    <tr style=\"text-align: right;\">\n",
       "      <th></th>\n",
       "      <th>Name of movie</th>\n",
       "      <th>Rating</th>\n",
       "      <th>Year of Realise</th>\n",
       "    </tr>\n",
       "  </thead>\n",
       "  <tbody>\n",
       "    <tr>\n",
       "      <th>0</th>\n",
       "      <td>The Shawshank Redemption</td>\n",
       "      <td>9.3</td>\n",
       "      <td>(1994)</td>\n",
       "    </tr>\n",
       "    <tr>\n",
       "      <th>1</th>\n",
       "      <td>The Godfather</td>\n",
       "      <td>9.2</td>\n",
       "      <td>(1972)</td>\n",
       "    </tr>\n",
       "    <tr>\n",
       "      <th>2</th>\n",
       "      <td>The Dark Knight</td>\n",
       "      <td>9.0</td>\n",
       "      <td>(2008)</td>\n",
       "    </tr>\n",
       "    <tr>\n",
       "      <th>3</th>\n",
       "      <td>The Lord of the Rings: The Return of the King</td>\n",
       "      <td>9.0</td>\n",
       "      <td>(2003)</td>\n",
       "    </tr>\n",
       "    <tr>\n",
       "      <th>4</th>\n",
       "      <td>Schindler's List</td>\n",
       "      <td>9.0</td>\n",
       "      <td>(1993)</td>\n",
       "    </tr>\n",
       "    <tr>\n",
       "      <th>5</th>\n",
       "      <td>12 Angry Men</td>\n",
       "      <td>9.0</td>\n",
       "      <td>(1957)</td>\n",
       "    </tr>\n",
       "    <tr>\n",
       "      <th>6</th>\n",
       "      <td>The Godfather Part II</td>\n",
       "      <td>9.0</td>\n",
       "      <td>(1974)</td>\n",
       "    </tr>\n",
       "    <tr>\n",
       "      <th>7</th>\n",
       "      <td>Pulp Fiction</td>\n",
       "      <td>8.9</td>\n",
       "      <td>(1994)</td>\n",
       "    </tr>\n",
       "    <tr>\n",
       "      <th>8</th>\n",
       "      <td>Inception</td>\n",
       "      <td>8.8</td>\n",
       "      <td>(2010)</td>\n",
       "    </tr>\n",
       "    <tr>\n",
       "      <th>9</th>\n",
       "      <td>The Lord of the Rings: The Fellowship of the Ring</td>\n",
       "      <td>8.8</td>\n",
       "      <td>(2001)</td>\n",
       "    </tr>\n",
       "    <tr>\n",
       "      <th>10</th>\n",
       "      <td>Fight Club</td>\n",
       "      <td>8.8</td>\n",
       "      <td>(1999)</td>\n",
       "    </tr>\n",
       "    <tr>\n",
       "      <th>11</th>\n",
       "      <td>Forrest Gump</td>\n",
       "      <td>8.8</td>\n",
       "      <td>(1994)</td>\n",
       "    </tr>\n",
       "    <tr>\n",
       "      <th>12</th>\n",
       "      <td>The Lord of the Rings: The Two Towers</td>\n",
       "      <td>8.8</td>\n",
       "      <td>(2002)</td>\n",
       "    </tr>\n",
       "    <tr>\n",
       "      <th>13</th>\n",
       "      <td>Il buono, il brutto, il cattivo</td>\n",
       "      <td>8.8</td>\n",
       "      <td>(1966)</td>\n",
       "    </tr>\n",
       "    <tr>\n",
       "      <th>14</th>\n",
       "      <td>GoodFellas</td>\n",
       "      <td>8.7</td>\n",
       "      <td>(1990)</td>\n",
       "    </tr>\n",
       "    <tr>\n",
       "      <th>15</th>\n",
       "      <td>The Matrix</td>\n",
       "      <td>8.7</td>\n",
       "      <td>(1999)</td>\n",
       "    </tr>\n",
       "    <tr>\n",
       "      <th>16</th>\n",
       "      <td>One Flew Over the Cuckoo's Nest</td>\n",
       "      <td>8.7</td>\n",
       "      <td>(1975)</td>\n",
       "    </tr>\n",
       "    <tr>\n",
       "      <th>17</th>\n",
       "      <td>The Empire Strikes Back</td>\n",
       "      <td>8.7</td>\n",
       "      <td>(1980)</td>\n",
       "    </tr>\n",
       "    <tr>\n",
       "      <th>18</th>\n",
       "      <td>Interstellar</td>\n",
       "      <td>8.6</td>\n",
       "      <td>(2014)</td>\n",
       "    </tr>\n",
       "    <tr>\n",
       "      <th>19</th>\n",
       "      <td>Se7en</td>\n",
       "      <td>8.6</td>\n",
       "      <td>(1995)</td>\n",
       "    </tr>\n",
       "    <tr>\n",
       "      <th>20</th>\n",
       "      <td>Star Wars</td>\n",
       "      <td>8.6</td>\n",
       "      <td>(1977)</td>\n",
       "    </tr>\n",
       "    <tr>\n",
       "      <th>21</th>\n",
       "      <td>The Silence of the Lambs</td>\n",
       "      <td>8.6</td>\n",
       "      <td>(1991)</td>\n",
       "    </tr>\n",
       "    <tr>\n",
       "      <th>22</th>\n",
       "      <td>The Green Mile</td>\n",
       "      <td>8.6</td>\n",
       "      <td>(1999)</td>\n",
       "    </tr>\n",
       "    <tr>\n",
       "      <th>23</th>\n",
       "      <td>Sen to Chihiro no kamikakushi</td>\n",
       "      <td>8.6</td>\n",
       "      <td>(2001)</td>\n",
       "    </tr>\n",
       "    <tr>\n",
       "      <th>24</th>\n",
       "      <td>Terminator 2: Judgment Day</td>\n",
       "      <td>8.6</td>\n",
       "      <td>(1991)</td>\n",
       "    </tr>\n",
       "    <tr>\n",
       "      <th>25</th>\n",
       "      <td>Saving Private Ryan</td>\n",
       "      <td>8.6</td>\n",
       "      <td>(1998)</td>\n",
       "    </tr>\n",
       "    <tr>\n",
       "      <th>26</th>\n",
       "      <td>Cidade de Deus</td>\n",
       "      <td>8.6</td>\n",
       "      <td>(2002)</td>\n",
       "    </tr>\n",
       "    <tr>\n",
       "      <th>27</th>\n",
       "      <td>La vita è bella</td>\n",
       "      <td>8.6</td>\n",
       "      <td>(1997)</td>\n",
       "    </tr>\n",
       "    <tr>\n",
       "      <th>28</th>\n",
       "      <td>Shichinin no samurai</td>\n",
       "      <td>8.6</td>\n",
       "      <td>(1954)</td>\n",
       "    </tr>\n",
       "    <tr>\n",
       "      <th>29</th>\n",
       "      <td>It's a Wonderful Life</td>\n",
       "      <td>8.6</td>\n",
       "      <td>(1946)</td>\n",
       "    </tr>\n",
       "    <tr>\n",
       "      <th>30</th>\n",
       "      <td>Seppuku</td>\n",
       "      <td>8.6</td>\n",
       "      <td>(1962)</td>\n",
       "    </tr>\n",
       "    <tr>\n",
       "      <th>31</th>\n",
       "      <td>Alien</td>\n",
       "      <td>8.5</td>\n",
       "      <td>(1979)</td>\n",
       "    </tr>\n",
       "    <tr>\n",
       "      <th>32</th>\n",
       "      <td>Gladiator</td>\n",
       "      <td>8.5</td>\n",
       "      <td>(2000)</td>\n",
       "    </tr>\n",
       "    <tr>\n",
       "      <th>33</th>\n",
       "      <td>Whiplash</td>\n",
       "      <td>8.5</td>\n",
       "      <td>(2014)</td>\n",
       "    </tr>\n",
       "    <tr>\n",
       "      <th>34</th>\n",
       "      <td>Gisaengchung</td>\n",
       "      <td>8.5</td>\n",
       "      <td>(2019)</td>\n",
       "    </tr>\n",
       "    <tr>\n",
       "      <th>35</th>\n",
       "      <td>The Departed</td>\n",
       "      <td>8.5</td>\n",
       "      <td>(2006)</td>\n",
       "    </tr>\n",
       "    <tr>\n",
       "      <th>36</th>\n",
       "      <td>Back to the Future</td>\n",
       "      <td>8.5</td>\n",
       "      <td>(1985)</td>\n",
       "    </tr>\n",
       "    <tr>\n",
       "      <th>37</th>\n",
       "      <td>Léon</td>\n",
       "      <td>8.5</td>\n",
       "      <td>(1994)</td>\n",
       "    </tr>\n",
       "    <tr>\n",
       "      <th>38</th>\n",
       "      <td>The Prestige</td>\n",
       "      <td>8.5</td>\n",
       "      <td>(2006)</td>\n",
       "    </tr>\n",
       "    <tr>\n",
       "      <th>39</th>\n",
       "      <td>Psycho</td>\n",
       "      <td>8.5</td>\n",
       "      <td>(1960)</td>\n",
       "    </tr>\n",
       "    <tr>\n",
       "      <th>40</th>\n",
       "      <td>The Lion King</td>\n",
       "      <td>8.5</td>\n",
       "      <td>(1994)</td>\n",
       "    </tr>\n",
       "    <tr>\n",
       "      <th>41</th>\n",
       "      <td>Apocalypse Now</td>\n",
       "      <td>8.5</td>\n",
       "      <td>(1979)</td>\n",
       "    </tr>\n",
       "    <tr>\n",
       "      <th>42</th>\n",
       "      <td>The Pianist</td>\n",
       "      <td>8.5</td>\n",
       "      <td>(2002)</td>\n",
       "    </tr>\n",
       "    <tr>\n",
       "      <th>43</th>\n",
       "      <td>American History X</td>\n",
       "      <td>8.5</td>\n",
       "      <td>(1998)</td>\n",
       "    </tr>\n",
       "    <tr>\n",
       "      <th>44</th>\n",
       "      <td>The Usual Suspects</td>\n",
       "      <td>8.5</td>\n",
       "      <td>(1995)</td>\n",
       "    </tr>\n",
       "    <tr>\n",
       "      <th>45</th>\n",
       "      <td>Casablanca</td>\n",
       "      <td>8.5</td>\n",
       "      <td>(1942)</td>\n",
       "    </tr>\n",
       "    <tr>\n",
       "      <th>46</th>\n",
       "      <td>Once Upon a Time in the West</td>\n",
       "      <td>8.5</td>\n",
       "      <td>(1968)</td>\n",
       "    </tr>\n",
       "    <tr>\n",
       "      <th>47</th>\n",
       "      <td>The Intouchables</td>\n",
       "      <td>8.5</td>\n",
       "      <td>(2011)</td>\n",
       "    </tr>\n",
       "    <tr>\n",
       "      <th>48</th>\n",
       "      <td>Hotaru no haka</td>\n",
       "      <td>8.5</td>\n",
       "      <td>(1988)</td>\n",
       "    </tr>\n",
       "    <tr>\n",
       "      <th>49</th>\n",
       "      <td>Rear Window</td>\n",
       "      <td>8.5</td>\n",
       "      <td>(1954)</td>\n",
       "    </tr>\n",
       "  </tbody>\n",
       "</table>\n",
       "</div>"
      ],
      "text/plain": [
       "                                        Name of movie Rating Year of Realise\n",
       "0                            The Shawshank Redemption    9.3          (1994)\n",
       "1                                       The Godfather    9.2          (1972)\n",
       "2                                     The Dark Knight    9.0          (2008)\n",
       "3       The Lord of the Rings: The Return of the King    9.0          (2003)\n",
       "4                                    Schindler's List    9.0          (1993)\n",
       "5                                        12 Angry Men    9.0          (1957)\n",
       "6                               The Godfather Part II    9.0          (1974)\n",
       "7                                        Pulp Fiction    8.9          (1994)\n",
       "8                                           Inception    8.8          (2010)\n",
       "9   The Lord of the Rings: The Fellowship of the Ring    8.8          (2001)\n",
       "10                                         Fight Club    8.8          (1999)\n",
       "11                                       Forrest Gump    8.8          (1994)\n",
       "12              The Lord of the Rings: The Two Towers    8.8          (2002)\n",
       "13                    Il buono, il brutto, il cattivo    8.8          (1966)\n",
       "14                                         GoodFellas    8.7          (1990)\n",
       "15                                         The Matrix    8.7          (1999)\n",
       "16                    One Flew Over the Cuckoo's Nest    8.7          (1975)\n",
       "17                            The Empire Strikes Back    8.7          (1980)\n",
       "18                                       Interstellar    8.6          (2014)\n",
       "19                                              Se7en    8.6          (1995)\n",
       "20                                          Star Wars    8.6          (1977)\n",
       "21                           The Silence of the Lambs    8.6          (1991)\n",
       "22                                     The Green Mile    8.6          (1999)\n",
       "23                      Sen to Chihiro no kamikakushi    8.6          (2001)\n",
       "24                         Terminator 2: Judgment Day    8.6          (1991)\n",
       "25                                Saving Private Ryan    8.6          (1998)\n",
       "26                                     Cidade de Deus    8.6          (2002)\n",
       "27                                    La vita è bella    8.6          (1997)\n",
       "28                               Shichinin no samurai    8.6          (1954)\n",
       "29                              It's a Wonderful Life    8.6          (1946)\n",
       "30                                            Seppuku    8.6          (1962)\n",
       "31                                              Alien    8.5          (1979)\n",
       "32                                          Gladiator    8.5          (2000)\n",
       "33                                           Whiplash    8.5          (2014)\n",
       "34                                       Gisaengchung    8.5          (2019)\n",
       "35                                       The Departed    8.5          (2006)\n",
       "36                                 Back to the Future    8.5          (1985)\n",
       "37                                               Léon    8.5          (1994)\n",
       "38                                       The Prestige    8.5          (2006)\n",
       "39                                             Psycho    8.5          (1960)\n",
       "40                                      The Lion King    8.5          (1994)\n",
       "41                                     Apocalypse Now    8.5          (1979)\n",
       "42                                        The Pianist    8.5          (2002)\n",
       "43                                 American History X    8.5          (1998)\n",
       "44                                 The Usual Suspects    8.5          (1995)\n",
       "45                                         Casablanca    8.5          (1942)\n",
       "46                       Once Upon a Time in the West    8.5          (1968)\n",
       "47                                   The Intouchables    8.5          (2011)\n",
       "48                                     Hotaru no haka    8.5          (1988)\n",
       "49                                        Rear Window    8.5          (1954)"
      ]
     },
     "execution_count": 77,
     "metadata": {},
     "output_type": "execute_result"
    }
   ],
   "source": [
    "df=pd.DataFrame({\"Name of movie\":name,'Rating':rating,'Year of Realise':year})\n",
    "df"
   ]
  },
  {
   "cell_type": "markdown",
   "id": "332b928e",
   "metadata": {},
   "source": [
    "### Q3 Write a python program to display IMDB’s Top rated 50 Indian movies’ data (i.e. name, rating, year of release) and make data frame.\n"
   ]
  },
  {
   "cell_type": "code",
   "execution_count": 368,
   "id": "14ec7a43",
   "metadata": {},
   "outputs": [],
   "source": [
    "imdbi=requests.get(\"https://www.imdb.com/india/top-rated-indian-movies/\")"
   ]
  },
  {
   "cell_type": "code",
   "execution_count": 369,
   "id": "fc6dd874",
   "metadata": {},
   "outputs": [
    {
     "data": {
      "text/plain": [
       "<Response [200]>"
      ]
     },
     "execution_count": 369,
     "metadata": {},
     "output_type": "execute_result"
    }
   ],
   "source": [
    "imdbi"
   ]
  },
  {
   "cell_type": "code",
   "execution_count": 370,
   "id": "7e21fc78",
   "metadata": {},
   "outputs": [],
   "source": [
    "soap1=BeautifulSoup(imdbi.content)"
   ]
  },
  {
   "cell_type": "code",
   "execution_count": 372,
   "id": "e0ee3dc3",
   "metadata": {},
   "outputs": [
    {
     "data": {
      "text/plain": [
       "['      Ramayana: The Legend of Prince Rama',\n",
       " '      Rocketry: The Nambi Effect',\n",
       " '      Nayakan',\n",
       " '      Gol Maal',\n",
       " '      777 Charlie',\n",
       " '      Anbe Sivam',\n",
       " '      Pariyerum Perumal',\n",
       " '      Apur Sansar',\n",
       " '      3 Idiots',\n",
       " '      Manichitrathazhu',\n",
       " '      Jai Bhim',\n",
       " '      #Home',\n",
       " '      Soorarai Pottru',\n",
       " '      Black Friday',\n",
       " '      Kumbalangi Nights',\n",
       " '      C/o Kancharapalem',\n",
       " '      Taare Zameen Par',\n",
       " '      Kireedam',\n",
       " '      Dangal',\n",
       " '      Kaithi',\n",
       " '      Jersey',\n",
       " '      96',\n",
       " '      Maya Bazaar',\n",
       " '      Natsamrat',\n",
       " '      Asuran',\n",
       " '      Drishyam 2',\n",
       " '      Sita Ramam',\n",
       " '      Thevar Magan',\n",
       " '      Visaaranai',\n",
       " '      Sarpatta Parambarai',\n",
       " '      Thalapathi',\n",
       " '      Nadodikkattu',\n",
       " '      Pather Panchali',\n",
       " '      Drishyam',\n",
       " '      Thani Oruvan',\n",
       " '      Jaane Bhi Do Yaaro',\n",
       " '      Vada Chennai',\n",
       " '      Aparajito',\n",
       " '      Khosla Ka Ghosla!',\n",
       " '      Sardar Udham',\n",
       " '      Anniyan',\n",
       " '      Ratsasan',\n",
       " '      Chupke Chupke',\n",
       " '      Gangs of Wasseypur',\n",
       " '      Drishyam',\n",
       " '      Mahanati',\n",
       " '      Peranbu',\n",
       " '      Bangalore Days',\n",
       " '      Premam',\n",
       " '      Satya']"
      ]
     },
     "execution_count": 372,
     "metadata": {},
     "output_type": "execute_result"
    }
   ],
   "source": [
    "name=[]\n",
    "j=1\n",
    "for i in soap1.find_all('td',class_=\"titleColumn\"):\n",
    "    if j <= 50:\n",
    "        name.append(i.text.split('\\n')[2])\n",
    "        j+=1\n",
    "name"
   ]
  },
  {
   "cell_type": "code",
   "execution_count": 91,
   "id": "686e1596",
   "metadata": {},
   "outputs": [
    {
     "data": {
      "text/plain": [
       "['(1993)',\n",
       " '(2022)',\n",
       " '(1987)',\n",
       " '(1979)',\n",
       " '(2022)',\n",
       " '(2003)',\n",
       " '(2018)',\n",
       " '(1959)',\n",
       " '(2009)',\n",
       " '(1993)',\n",
       " '(2021)',\n",
       " '(2021)',\n",
       " '(2020)',\n",
       " '(2004)',\n",
       " '(2019)',\n",
       " '(2018)',\n",
       " '(2007)',\n",
       " '(1989)',\n",
       " '(2016)',\n",
       " '(2019)',\n",
       " '(2019)',\n",
       " '(2018)',\n",
       " '(1957)',\n",
       " '(2016)',\n",
       " '(2019)',\n",
       " '(2021)',\n",
       " '(2022)',\n",
       " '(1992)',\n",
       " '(2015)',\n",
       " '(2021)',\n",
       " '(1991)',\n",
       " '(1987)',\n",
       " '(1955)',\n",
       " '(2013)',\n",
       " '(2015)',\n",
       " '(1983)',\n",
       " '(2018)',\n",
       " '(1956)',\n",
       " '(2006)',\n",
       " '(2021)',\n",
       " '(2005)',\n",
       " '(2018)',\n",
       " '(1975)',\n",
       " '(2012)',\n",
       " '(2015)',\n",
       " '(2018)',\n",
       " '(2018)',\n",
       " '(2014)',\n",
       " '(2015)',\n",
       " '(1998)']"
      ]
     },
     "execution_count": 91,
     "metadata": {},
     "output_type": "execute_result"
    }
   ],
   "source": [
    "year=[]\n",
    "j=1\n",
    "for i in soap1.find_all('td',class_=\"titleColumn\"):\n",
    "    if j <=50:\n",
    "        \n",
    "        year.append(i.text.split('\\n')[3])\n",
    "        j+=1\n",
    "year"
   ]
  },
  {
   "cell_type": "code",
   "execution_count": 94,
   "id": "99fd2974",
   "metadata": {},
   "outputs": [
    {
     "data": {
      "text/plain": [
       "['8.6',\n",
       " '8.4',\n",
       " '8.4',\n",
       " '8.4',\n",
       " '8.4',\n",
       " '8.4',\n",
       " '8.4',\n",
       " '8.4',\n",
       " '8.4',\n",
       " '8.3',\n",
       " '8.3',\n",
       " '8.3',\n",
       " '8.3',\n",
       " '8.3',\n",
       " '8.3',\n",
       " '8.3',\n",
       " '8.3',\n",
       " '8.3',\n",
       " '8.3',\n",
       " '8.3',\n",
       " '8.3',\n",
       " '8.3',\n",
       " '8.2',\n",
       " '8.2',\n",
       " '8.2',\n",
       " '8.2',\n",
       " '8.2',\n",
       " '8.2',\n",
       " '8.2',\n",
       " '8.2',\n",
       " '8.2',\n",
       " '8.2',\n",
       " '8.2',\n",
       " '8.2',\n",
       " '8.2',\n",
       " '8.2',\n",
       " '8.2',\n",
       " '8.2',\n",
       " '8.2',\n",
       " '8.2',\n",
       " '8.2',\n",
       " '8.1',\n",
       " '8.1',\n",
       " '8.1',\n",
       " '8.1',\n",
       " '8.1',\n",
       " '8.1',\n",
       " '8.1',\n",
       " '8.1',\n",
       " '8.1']"
      ]
     },
     "execution_count": 94,
     "metadata": {},
     "output_type": "execute_result"
    }
   ],
   "source": [
    "rating=[]\n",
    "j=1\n",
    "for i in soap1.find_all('td',class_=\"ratingColumn imdbRating\"):\n",
    "    if j<=50:\n",
    "        rating.append(i.text.split('\\n')[1])\n",
    "        j+=1\n",
    "rating"
   ]
  },
  {
   "cell_type": "code",
   "execution_count": 95,
   "id": "d2f05a2b",
   "metadata": {},
   "outputs": [
    {
     "name": "stdout",
     "output_type": "stream",
     "text": [
      "50 50 50\n"
     ]
    }
   ],
   "source": [
    "print(len(name),len(rating),len(year))"
   ]
  },
  {
   "cell_type": "code",
   "execution_count": 96,
   "id": "d990abf4",
   "metadata": {},
   "outputs": [
    {
     "data": {
      "text/html": [
       "<div>\n",
       "<style scoped>\n",
       "    .dataframe tbody tr th:only-of-type {\n",
       "        vertical-align: middle;\n",
       "    }\n",
       "\n",
       "    .dataframe tbody tr th {\n",
       "        vertical-align: top;\n",
       "    }\n",
       "\n",
       "    .dataframe thead th {\n",
       "        text-align: right;\n",
       "    }\n",
       "</style>\n",
       "<table border=\"1\" class=\"dataframe\">\n",
       "  <thead>\n",
       "    <tr style=\"text-align: right;\">\n",
       "      <th></th>\n",
       "      <th>Name of movie</th>\n",
       "      <th>Rating</th>\n",
       "      <th>Year of Realise</th>\n",
       "    </tr>\n",
       "  </thead>\n",
       "  <tbody>\n",
       "    <tr>\n",
       "      <th>0</th>\n",
       "      <td>Ramayana: The Legend of Prince Rama</td>\n",
       "      <td>8.6</td>\n",
       "      <td>(1993)</td>\n",
       "    </tr>\n",
       "    <tr>\n",
       "      <th>1</th>\n",
       "      <td>Rocketry: The Nambi Effect</td>\n",
       "      <td>8.4</td>\n",
       "      <td>(2022)</td>\n",
       "    </tr>\n",
       "    <tr>\n",
       "      <th>2</th>\n",
       "      <td>Nayakan</td>\n",
       "      <td>8.4</td>\n",
       "      <td>(1987)</td>\n",
       "    </tr>\n",
       "    <tr>\n",
       "      <th>3</th>\n",
       "      <td>Gol Maal</td>\n",
       "      <td>8.4</td>\n",
       "      <td>(1979)</td>\n",
       "    </tr>\n",
       "    <tr>\n",
       "      <th>4</th>\n",
       "      <td>777 Charlie</td>\n",
       "      <td>8.4</td>\n",
       "      <td>(2022)</td>\n",
       "    </tr>\n",
       "    <tr>\n",
       "      <th>5</th>\n",
       "      <td>Anbe Sivam</td>\n",
       "      <td>8.4</td>\n",
       "      <td>(2003)</td>\n",
       "    </tr>\n",
       "    <tr>\n",
       "      <th>6</th>\n",
       "      <td>Pariyerum Perumal</td>\n",
       "      <td>8.4</td>\n",
       "      <td>(2018)</td>\n",
       "    </tr>\n",
       "    <tr>\n",
       "      <th>7</th>\n",
       "      <td>Apur Sansar</td>\n",
       "      <td>8.4</td>\n",
       "      <td>(1959)</td>\n",
       "    </tr>\n",
       "    <tr>\n",
       "      <th>8</th>\n",
       "      <td>3 Idiots</td>\n",
       "      <td>8.4</td>\n",
       "      <td>(2009)</td>\n",
       "    </tr>\n",
       "    <tr>\n",
       "      <th>9</th>\n",
       "      <td>Manichitrathazhu</td>\n",
       "      <td>8.3</td>\n",
       "      <td>(1993)</td>\n",
       "    </tr>\n",
       "    <tr>\n",
       "      <th>10</th>\n",
       "      <td>Jai Bhim</td>\n",
       "      <td>8.3</td>\n",
       "      <td>(2021)</td>\n",
       "    </tr>\n",
       "    <tr>\n",
       "      <th>11</th>\n",
       "      <td>#Home</td>\n",
       "      <td>8.3</td>\n",
       "      <td>(2021)</td>\n",
       "    </tr>\n",
       "    <tr>\n",
       "      <th>12</th>\n",
       "      <td>Soorarai Pottru</td>\n",
       "      <td>8.3</td>\n",
       "      <td>(2020)</td>\n",
       "    </tr>\n",
       "    <tr>\n",
       "      <th>13</th>\n",
       "      <td>Black Friday</td>\n",
       "      <td>8.3</td>\n",
       "      <td>(2004)</td>\n",
       "    </tr>\n",
       "    <tr>\n",
       "      <th>14</th>\n",
       "      <td>Kumbalangi Nights</td>\n",
       "      <td>8.3</td>\n",
       "      <td>(2019)</td>\n",
       "    </tr>\n",
       "    <tr>\n",
       "      <th>15</th>\n",
       "      <td>C/o Kancharapalem</td>\n",
       "      <td>8.3</td>\n",
       "      <td>(2018)</td>\n",
       "    </tr>\n",
       "    <tr>\n",
       "      <th>16</th>\n",
       "      <td>Taare Zameen Par</td>\n",
       "      <td>8.3</td>\n",
       "      <td>(2007)</td>\n",
       "    </tr>\n",
       "    <tr>\n",
       "      <th>17</th>\n",
       "      <td>Kireedam</td>\n",
       "      <td>8.3</td>\n",
       "      <td>(1989)</td>\n",
       "    </tr>\n",
       "    <tr>\n",
       "      <th>18</th>\n",
       "      <td>Dangal</td>\n",
       "      <td>8.3</td>\n",
       "      <td>(2016)</td>\n",
       "    </tr>\n",
       "    <tr>\n",
       "      <th>19</th>\n",
       "      <td>Kaithi</td>\n",
       "      <td>8.3</td>\n",
       "      <td>(2019)</td>\n",
       "    </tr>\n",
       "    <tr>\n",
       "      <th>20</th>\n",
       "      <td>Jersey</td>\n",
       "      <td>8.3</td>\n",
       "      <td>(2019)</td>\n",
       "    </tr>\n",
       "    <tr>\n",
       "      <th>21</th>\n",
       "      <td>96</td>\n",
       "      <td>8.3</td>\n",
       "      <td>(2018)</td>\n",
       "    </tr>\n",
       "    <tr>\n",
       "      <th>22</th>\n",
       "      <td>Maya Bazaar</td>\n",
       "      <td>8.2</td>\n",
       "      <td>(1957)</td>\n",
       "    </tr>\n",
       "    <tr>\n",
       "      <th>23</th>\n",
       "      <td>Natsamrat</td>\n",
       "      <td>8.2</td>\n",
       "      <td>(2016)</td>\n",
       "    </tr>\n",
       "    <tr>\n",
       "      <th>24</th>\n",
       "      <td>Asuran</td>\n",
       "      <td>8.2</td>\n",
       "      <td>(2019)</td>\n",
       "    </tr>\n",
       "    <tr>\n",
       "      <th>25</th>\n",
       "      <td>Drishyam 2</td>\n",
       "      <td>8.2</td>\n",
       "      <td>(2021)</td>\n",
       "    </tr>\n",
       "    <tr>\n",
       "      <th>26</th>\n",
       "      <td>Sita Ramam</td>\n",
       "      <td>8.2</td>\n",
       "      <td>(2022)</td>\n",
       "    </tr>\n",
       "    <tr>\n",
       "      <th>27</th>\n",
       "      <td>Thevar Magan</td>\n",
       "      <td>8.2</td>\n",
       "      <td>(1992)</td>\n",
       "    </tr>\n",
       "    <tr>\n",
       "      <th>28</th>\n",
       "      <td>Visaaranai</td>\n",
       "      <td>8.2</td>\n",
       "      <td>(2015)</td>\n",
       "    </tr>\n",
       "    <tr>\n",
       "      <th>29</th>\n",
       "      <td>Sarpatta Parambarai</td>\n",
       "      <td>8.2</td>\n",
       "      <td>(2021)</td>\n",
       "    </tr>\n",
       "    <tr>\n",
       "      <th>30</th>\n",
       "      <td>Thalapathi</td>\n",
       "      <td>8.2</td>\n",
       "      <td>(1991)</td>\n",
       "    </tr>\n",
       "    <tr>\n",
       "      <th>31</th>\n",
       "      <td>Nadodikkattu</td>\n",
       "      <td>8.2</td>\n",
       "      <td>(1987)</td>\n",
       "    </tr>\n",
       "    <tr>\n",
       "      <th>32</th>\n",
       "      <td>Pather Panchali</td>\n",
       "      <td>8.2</td>\n",
       "      <td>(1955)</td>\n",
       "    </tr>\n",
       "    <tr>\n",
       "      <th>33</th>\n",
       "      <td>Drishyam</td>\n",
       "      <td>8.2</td>\n",
       "      <td>(2013)</td>\n",
       "    </tr>\n",
       "    <tr>\n",
       "      <th>34</th>\n",
       "      <td>Thani Oruvan</td>\n",
       "      <td>8.2</td>\n",
       "      <td>(2015)</td>\n",
       "    </tr>\n",
       "    <tr>\n",
       "      <th>35</th>\n",
       "      <td>Jaane Bhi Do Yaaro</td>\n",
       "      <td>8.2</td>\n",
       "      <td>(1983)</td>\n",
       "    </tr>\n",
       "    <tr>\n",
       "      <th>36</th>\n",
       "      <td>Vada Chennai</td>\n",
       "      <td>8.2</td>\n",
       "      <td>(2018)</td>\n",
       "    </tr>\n",
       "    <tr>\n",
       "      <th>37</th>\n",
       "      <td>Aparajito</td>\n",
       "      <td>8.2</td>\n",
       "      <td>(1956)</td>\n",
       "    </tr>\n",
       "    <tr>\n",
       "      <th>38</th>\n",
       "      <td>Khosla Ka Ghosla!</td>\n",
       "      <td>8.2</td>\n",
       "      <td>(2006)</td>\n",
       "    </tr>\n",
       "    <tr>\n",
       "      <th>39</th>\n",
       "      <td>Sardar Udham</td>\n",
       "      <td>8.2</td>\n",
       "      <td>(2021)</td>\n",
       "    </tr>\n",
       "    <tr>\n",
       "      <th>40</th>\n",
       "      <td>Anniyan</td>\n",
       "      <td>8.2</td>\n",
       "      <td>(2005)</td>\n",
       "    </tr>\n",
       "    <tr>\n",
       "      <th>41</th>\n",
       "      <td>Ratsasan</td>\n",
       "      <td>8.1</td>\n",
       "      <td>(2018)</td>\n",
       "    </tr>\n",
       "    <tr>\n",
       "      <th>42</th>\n",
       "      <td>Chupke Chupke</td>\n",
       "      <td>8.1</td>\n",
       "      <td>(1975)</td>\n",
       "    </tr>\n",
       "    <tr>\n",
       "      <th>43</th>\n",
       "      <td>Gangs of Wasseypur</td>\n",
       "      <td>8.1</td>\n",
       "      <td>(2012)</td>\n",
       "    </tr>\n",
       "    <tr>\n",
       "      <th>44</th>\n",
       "      <td>Drishyam</td>\n",
       "      <td>8.1</td>\n",
       "      <td>(2015)</td>\n",
       "    </tr>\n",
       "    <tr>\n",
       "      <th>45</th>\n",
       "      <td>Mahanati</td>\n",
       "      <td>8.1</td>\n",
       "      <td>(2018)</td>\n",
       "    </tr>\n",
       "    <tr>\n",
       "      <th>46</th>\n",
       "      <td>Peranbu</td>\n",
       "      <td>8.1</td>\n",
       "      <td>(2018)</td>\n",
       "    </tr>\n",
       "    <tr>\n",
       "      <th>47</th>\n",
       "      <td>Bangalore Days</td>\n",
       "      <td>8.1</td>\n",
       "      <td>(2014)</td>\n",
       "    </tr>\n",
       "    <tr>\n",
       "      <th>48</th>\n",
       "      <td>Premam</td>\n",
       "      <td>8.1</td>\n",
       "      <td>(2015)</td>\n",
       "    </tr>\n",
       "    <tr>\n",
       "      <th>49</th>\n",
       "      <td>Satya</td>\n",
       "      <td>8.1</td>\n",
       "      <td>(1998)</td>\n",
       "    </tr>\n",
       "  </tbody>\n",
       "</table>\n",
       "</div>"
      ],
      "text/plain": [
       "                                Name of movie Rating Year of Realise\n",
       "0         Ramayana: The Legend of Prince Rama    8.6          (1993)\n",
       "1                  Rocketry: The Nambi Effect    8.4          (2022)\n",
       "2                                     Nayakan    8.4          (1987)\n",
       "3                                    Gol Maal    8.4          (1979)\n",
       "4                                 777 Charlie    8.4          (2022)\n",
       "5                                  Anbe Sivam    8.4          (2003)\n",
       "6                           Pariyerum Perumal    8.4          (2018)\n",
       "7                                 Apur Sansar    8.4          (1959)\n",
       "8                                    3 Idiots    8.4          (2009)\n",
       "9                            Manichitrathazhu    8.3          (1993)\n",
       "10                                   Jai Bhim    8.3          (2021)\n",
       "11                                      #Home    8.3          (2021)\n",
       "12                            Soorarai Pottru    8.3          (2020)\n",
       "13                               Black Friday    8.3          (2004)\n",
       "14                          Kumbalangi Nights    8.3          (2019)\n",
       "15                          C/o Kancharapalem    8.3          (2018)\n",
       "16                           Taare Zameen Par    8.3          (2007)\n",
       "17                                   Kireedam    8.3          (1989)\n",
       "18                                     Dangal    8.3          (2016)\n",
       "19                                     Kaithi    8.3          (2019)\n",
       "20                                     Jersey    8.3          (2019)\n",
       "21                                         96    8.3          (2018)\n",
       "22                                Maya Bazaar    8.2          (1957)\n",
       "23                                  Natsamrat    8.2          (2016)\n",
       "24                                     Asuran    8.2          (2019)\n",
       "25                                 Drishyam 2    8.2          (2021)\n",
       "26                                 Sita Ramam    8.2          (2022)\n",
       "27                               Thevar Magan    8.2          (1992)\n",
       "28                                 Visaaranai    8.2          (2015)\n",
       "29                        Sarpatta Parambarai    8.2          (2021)\n",
       "30                                 Thalapathi    8.2          (1991)\n",
       "31                               Nadodikkattu    8.2          (1987)\n",
       "32                            Pather Panchali    8.2          (1955)\n",
       "33                                   Drishyam    8.2          (2013)\n",
       "34                               Thani Oruvan    8.2          (2015)\n",
       "35                         Jaane Bhi Do Yaaro    8.2          (1983)\n",
       "36                               Vada Chennai    8.2          (2018)\n",
       "37                                  Aparajito    8.2          (1956)\n",
       "38                          Khosla Ka Ghosla!    8.2          (2006)\n",
       "39                               Sardar Udham    8.2          (2021)\n",
       "40                                    Anniyan    8.2          (2005)\n",
       "41                                   Ratsasan    8.1          (2018)\n",
       "42                              Chupke Chupke    8.1          (1975)\n",
       "43                         Gangs of Wasseypur    8.1          (2012)\n",
       "44                                   Drishyam    8.1          (2015)\n",
       "45                                   Mahanati    8.1          (2018)\n",
       "46                                    Peranbu    8.1          (2018)\n",
       "47                             Bangalore Days    8.1          (2014)\n",
       "48                                     Premam    8.1          (2015)\n",
       "49                                      Satya    8.1          (1998)"
      ]
     },
     "execution_count": 96,
     "metadata": {},
     "output_type": "execute_result"
    }
   ],
   "source": [
    "df=pd.DataFrame({\"Name of movie\":name,'Rating':rating,'Year of Realise':year})\n",
    "df"
   ]
  },
  {
   "cell_type": "markdown",
   "id": "a8651b6d",
   "metadata": {},
   "source": [
    "### Q4 Write s python program to display list of respected former presidents of India(i.e. Name , Term ofoffice) from https://presidentofindia.nic.in/former-presidents.htm and make data frame."
   ]
  },
  {
   "cell_type": "code",
   "execution_count": 97,
   "id": "fd9464e9",
   "metadata": {},
   "outputs": [],
   "source": [
    "link=requests.get('https://presidentofindia.nic.in/former-presidents.htm')"
   ]
  },
  {
   "cell_type": "code",
   "execution_count": 98,
   "id": "c5f2f5a2",
   "metadata": {},
   "outputs": [
    {
     "data": {
      "text/plain": [
       "<Response [200]>"
      ]
     },
     "execution_count": 98,
     "metadata": {},
     "output_type": "execute_result"
    }
   ],
   "source": [
    "link"
   ]
  },
  {
   "cell_type": "code",
   "execution_count": 99,
   "id": "f6a64f57",
   "metadata": {},
   "outputs": [],
   "source": [
    "soap2=BeautifulSoup(link.content)"
   ]
  },
  {
   "cell_type": "code",
   "execution_count": 114,
   "id": "7710326e",
   "metadata": {},
   "outputs": [
    {
     "data": {
      "text/plain": [
       "['Shri Ram Nath Kovind ',\n",
       " 'Shri Pranab Mukherjee ',\n",
       " 'Smt Pratibha Devisingh Patil ',\n",
       " 'DR. A.P.J. Abdul Kalam ',\n",
       " 'Shri K. R. Narayanan ',\n",
       " 'Dr Shankar Dayal Sharma ',\n",
       " 'Shri R Venkataraman ',\n",
       " 'Giani Zail Singh ',\n",
       " 'Shri Neelam Sanjiva Reddy ',\n",
       " 'Dr. Fakhruddin Ali Ahmed ',\n",
       " 'Shri Varahagiri Venkata Giri ',\n",
       " 'Dr. Zakir Husain ',\n",
       " 'Dr. Sarvepalli Radhakrishnan ',\n",
       " 'Dr. Rajendra Prasad ']"
      ]
     },
     "execution_count": 114,
     "metadata": {},
     "output_type": "execute_result"
    }
   ],
   "source": [
    "Name=[]\n",
    "for i in soap2.find_all('div',class_='presidentListing'):\n",
    "    Name.append(i.text.split('\\n')[1].split('(')[0])\n",
    "\n",
    "Name\n"
   ]
  },
  {
   "cell_type": "code",
   "execution_count": 107,
   "id": "ad13b38e",
   "metadata": {},
   "outputs": [
    {
     "data": {
      "text/plain": [
       "[' 25 July, 2017 to 25 July, 2022 ',\n",
       " ' 25 July, 2012 to 25 July, 2017 ',\n",
       " ' 25 July, 2007 to 25 July, 2012 ',\n",
       " ' 25 July, 2002 to 25 July, 2007 ',\n",
       " ' 25 July, 1997 to 25 July, 2002 ',\n",
       " ' 25 July, 1992 to 25 July, 1997 ',\n",
       " ' 25 July, 1987 to 25 July, 1992 ',\n",
       " ' 25 July, 1982 to 25 July, 1987 ',\n",
       " ' 25 July, 1977 to 25 July, 1982 ',\n",
       " ' 24 August, 1974 to 11 February, 1977',\n",
       " ' 3 May, 1969 to 20 July, 1969 and 24 August, 1969 to 24 August, 1974',\n",
       " ' 13 May, 1967 to 3 May, 1969',\n",
       " ' 13 May, 1962 to 13 May, 1967',\n",
       " ' 26 January, 1950 to 13 May, 1962']"
      ]
     },
     "execution_count": 107,
     "metadata": {},
     "output_type": "execute_result"
    }
   ],
   "source": [
    "term=[]\n",
    "for i in soap2.find_all('div',class_='presidentListing'):\n",
    "    term.append(i.text.split('\\n')[2].split(':')[1])\n",
    "\n",
    "term\n"
   ]
  },
  {
   "cell_type": "code",
   "execution_count": 115,
   "id": "7f986f71",
   "metadata": {},
   "outputs": [
    {
     "name": "stdout",
     "output_type": "stream",
     "text": [
      "14 14\n"
     ]
    }
   ],
   "source": [
    "print(len(Name),len(term))"
   ]
  },
  {
   "cell_type": "code",
   "execution_count": 116,
   "id": "cf091d00",
   "metadata": {},
   "outputs": [
    {
     "data": {
      "text/html": [
       "<div>\n",
       "<style scoped>\n",
       "    .dataframe tbody tr th:only-of-type {\n",
       "        vertical-align: middle;\n",
       "    }\n",
       "\n",
       "    .dataframe tbody tr th {\n",
       "        vertical-align: top;\n",
       "    }\n",
       "\n",
       "    .dataframe thead th {\n",
       "        text-align: right;\n",
       "    }\n",
       "</style>\n",
       "<table border=\"1\" class=\"dataframe\">\n",
       "  <thead>\n",
       "    <tr style=\"text-align: right;\">\n",
       "      <th></th>\n",
       "      <th>Former President of India</th>\n",
       "      <th>Term of Office</th>\n",
       "    </tr>\n",
       "  </thead>\n",
       "  <tbody>\n",
       "    <tr>\n",
       "      <th>0</th>\n",
       "      <td>Shri Ram Nath Kovind</td>\n",
       "      <td>25 July, 2017 to 25 July, 2022</td>\n",
       "    </tr>\n",
       "    <tr>\n",
       "      <th>1</th>\n",
       "      <td>Shri Pranab Mukherjee</td>\n",
       "      <td>25 July, 2012 to 25 July, 2017</td>\n",
       "    </tr>\n",
       "    <tr>\n",
       "      <th>2</th>\n",
       "      <td>Smt Pratibha Devisingh Patil</td>\n",
       "      <td>25 July, 2007 to 25 July, 2012</td>\n",
       "    </tr>\n",
       "    <tr>\n",
       "      <th>3</th>\n",
       "      <td>DR. A.P.J. Abdul Kalam</td>\n",
       "      <td>25 July, 2002 to 25 July, 2007</td>\n",
       "    </tr>\n",
       "    <tr>\n",
       "      <th>4</th>\n",
       "      <td>Shri K. R. Narayanan</td>\n",
       "      <td>25 July, 1997 to 25 July, 2002</td>\n",
       "    </tr>\n",
       "    <tr>\n",
       "      <th>5</th>\n",
       "      <td>Dr Shankar Dayal Sharma</td>\n",
       "      <td>25 July, 1992 to 25 July, 1997</td>\n",
       "    </tr>\n",
       "    <tr>\n",
       "      <th>6</th>\n",
       "      <td>Shri R Venkataraman</td>\n",
       "      <td>25 July, 1987 to 25 July, 1992</td>\n",
       "    </tr>\n",
       "    <tr>\n",
       "      <th>7</th>\n",
       "      <td>Giani Zail Singh</td>\n",
       "      <td>25 July, 1982 to 25 July, 1987</td>\n",
       "    </tr>\n",
       "    <tr>\n",
       "      <th>8</th>\n",
       "      <td>Shri Neelam Sanjiva Reddy</td>\n",
       "      <td>25 July, 1977 to 25 July, 1982</td>\n",
       "    </tr>\n",
       "    <tr>\n",
       "      <th>9</th>\n",
       "      <td>Dr. Fakhruddin Ali Ahmed</td>\n",
       "      <td>24 August, 1974 to 11 February, 1977</td>\n",
       "    </tr>\n",
       "    <tr>\n",
       "      <th>10</th>\n",
       "      <td>Shri Varahagiri Venkata Giri</td>\n",
       "      <td>3 May, 1969 to 20 July, 1969 and 24 August, 1...</td>\n",
       "    </tr>\n",
       "    <tr>\n",
       "      <th>11</th>\n",
       "      <td>Dr. Zakir Husain</td>\n",
       "      <td>13 May, 1967 to 3 May, 1969</td>\n",
       "    </tr>\n",
       "    <tr>\n",
       "      <th>12</th>\n",
       "      <td>Dr. Sarvepalli Radhakrishnan</td>\n",
       "      <td>13 May, 1962 to 13 May, 1967</td>\n",
       "    </tr>\n",
       "    <tr>\n",
       "      <th>13</th>\n",
       "      <td>Dr. Rajendra Prasad</td>\n",
       "      <td>26 January, 1950 to 13 May, 1962</td>\n",
       "    </tr>\n",
       "  </tbody>\n",
       "</table>\n",
       "</div>"
      ],
      "text/plain": [
       "        Former President of India  \\\n",
       "0           Shri Ram Nath Kovind    \n",
       "1          Shri Pranab Mukherjee    \n",
       "2   Smt Pratibha Devisingh Patil    \n",
       "3         DR. A.P.J. Abdul Kalam    \n",
       "4           Shri K. R. Narayanan    \n",
       "5        Dr Shankar Dayal Sharma    \n",
       "6            Shri R Venkataraman    \n",
       "7               Giani Zail Singh    \n",
       "8      Shri Neelam Sanjiva Reddy    \n",
       "9       Dr. Fakhruddin Ali Ahmed    \n",
       "10  Shri Varahagiri Venkata Giri    \n",
       "11              Dr. Zakir Husain    \n",
       "12  Dr. Sarvepalli Radhakrishnan    \n",
       "13           Dr. Rajendra Prasad    \n",
       "\n",
       "                                       Term of Office  \n",
       "0                     25 July, 2017 to 25 July, 2022   \n",
       "1                     25 July, 2012 to 25 July, 2017   \n",
       "2                     25 July, 2007 to 25 July, 2012   \n",
       "3                     25 July, 2002 to 25 July, 2007   \n",
       "4                     25 July, 1997 to 25 July, 2002   \n",
       "5                     25 July, 1992 to 25 July, 1997   \n",
       "6                     25 July, 1987 to 25 July, 1992   \n",
       "7                     25 July, 1982 to 25 July, 1987   \n",
       "8                     25 July, 1977 to 25 July, 1982   \n",
       "9                24 August, 1974 to 11 February, 1977  \n",
       "10   3 May, 1969 to 20 July, 1969 and 24 August, 1...  \n",
       "11                        13 May, 1967 to 3 May, 1969  \n",
       "12                       13 May, 1962 to 13 May, 1967  \n",
       "13                   26 January, 1950 to 13 May, 1962  "
      ]
     },
     "execution_count": 116,
     "metadata": {},
     "output_type": "execute_result"
    }
   ],
   "source": [
    "df=pd.DataFrame({'Former President of India':Name,'Term of Office':term})\n",
    "df"
   ]
  },
  {
   "cell_type": "markdown",
   "id": "4e0a9116",
   "metadata": {},
   "source": [
    "### Q5 Write a python program to scrape cricket rankings from icc-cricket.com. You have to scrape and make data frame\n",
    "\n",
    "**a) Top 10 ODI teams in men’s cricket along with the records for matches, points and rating.**\n"
   ]
  },
  {
   "cell_type": "code",
   "execution_count": 136,
   "id": "91770284",
   "metadata": {},
   "outputs": [
    {
     "data": {
      "text/plain": [
       "<Response [200]>"
      ]
     },
     "execution_count": 136,
     "metadata": {},
     "output_type": "execute_result"
    }
   ],
   "source": [
    "cricket=requests.get(\"https://www.icc-cricket.com/rankings/mens/team-rankings/odi\")\n",
    "cricket"
   ]
  },
  {
   "cell_type": "code",
   "execution_count": 137,
   "id": "39bd3192",
   "metadata": {},
   "outputs": [],
   "source": [
    "soap=BeautifulSoup(cricket.content)"
   ]
  },
  {
   "cell_type": "code",
   "execution_count": 140,
   "id": "7c7bc9d3",
   "metadata": {},
   "outputs": [
    {
     "data": {
      "text/plain": [
       "['Australia',\n",
       " 'New Zealand',\n",
       " 'India',\n",
       " 'England',\n",
       " 'Pakistan',\n",
       " 'South Africa',\n",
       " 'Bangladesh',\n",
       " 'Sri Lanka',\n",
       " 'West Indies',\n",
       " 'Afghanistan']"
      ]
     },
     "execution_count": 140,
     "metadata": {},
     "output_type": "execute_result"
    }
   ],
   "source": [
    "Team_name=[]\n",
    "j=1\n",
    "for i in soap.find_all('span',class_=\"u-hide-phablet\"):\n",
    "    if j<=10:\n",
    "        Team_name.append(i.text)\n",
    "        j+=1\n",
    "Team_name"
   ]
  },
  {
   "cell_type": "code",
   "execution_count": 153,
   "id": "8afa8fbe",
   "metadata": {},
   "outputs": [
    {
     "data": {
      "text/plain": [
       "['35', '31', '47', '36', '25', '31', '38', '36', '43', '20']"
      ]
     },
     "execution_count": 153,
     "metadata": {},
     "output_type": "execute_result"
    }
   ],
   "source": [
    "Match_played=[]\n",
    "k=soap.find('td',class_=\"rankings-block__banner--matches\")\n",
    "Match_played.append(k.text)\n",
    "\n",
    "\n",
    "j=1\n",
    "for i in soap.find_all('td',class_=\"table-body__cell u-center-text\"):\n",
    "    if j<19:\n",
    "        if j%2!=0:\n",
    "            Match_played.append(i.text)\n",
    "        j+=1\n",
    "Match_played"
   ]
  },
  {
   "cell_type": "code",
   "execution_count": 154,
   "id": "d8c9549f",
   "metadata": {},
   "outputs": [
    {
     "data": {
      "text/plain": [
       "['3,965',\n",
       " '3,504',\n",
       " '5,294',\n",
       " '3,988',\n",
       " '2,649',\n",
       " '3,141',\n",
       " '3,625',\n",
       " '3,099',\n",
       " '3,105',\n",
       " '1,419']"
      ]
     },
     "execution_count": 154,
     "metadata": {},
     "output_type": "execute_result"
    }
   ],
   "source": [
    "points=[]\n",
    "k=soap.find('td',class_=\"rankings-block__banner--points\")\n",
    "points.append(k.text)\n",
    "\n",
    "\n",
    "j=1\n",
    "for i in soap.find_all('td',class_=\"table-body__cell u-center-text\"):\n",
    "    if j<19:\n",
    "        if j%2==0:\n",
    "            points.append(i.text)\n",
    "        j+=1\n",
    "points"
   ]
  },
  {
   "cell_type": "code",
   "execution_count": 363,
   "id": "dc796aaa",
   "metadata": {},
   "outputs": [
    {
     "data": {
      "text/plain": [
       "['172', '119', '119', '104', '102', '94', '76', '75', '62', '44']"
      ]
     },
     "execution_count": 363,
     "metadata": {},
     "output_type": "execute_result"
    }
   ],
   "source": [
    "rating=[]\n",
    "k=soap.find('td',class_=\"rankings-block__banner--rating u-text-right\")\n",
    "rating.append(k.text.split('\\n')[1].strip())\n",
    "\n",
    "\n",
    "j=1\n",
    "for i in soap.find_all('td',class_=\"table-body__cell u-text-right rating\"):\n",
    "    if j<10:\n",
    "        rating.append(i.text)\n",
    "        j+=1\n",
    "rating"
   ]
  },
  {
   "cell_type": "code",
   "execution_count": 164,
   "id": "8645773f",
   "metadata": {},
   "outputs": [
    {
     "name": "stdout",
     "output_type": "stream",
     "text": [
      "10 10 10 10\n"
     ]
    }
   ],
   "source": [
    "print(len(rating),len(points),len(Match_played),len(Team_name))"
   ]
  },
  {
   "cell_type": "code",
   "execution_count": 168,
   "id": "458104fd",
   "metadata": {},
   "outputs": [
    {
     "data": {
      "text/html": [
       "<div>\n",
       "<style scoped>\n",
       "    .dataframe tbody tr th:only-of-type {\n",
       "        vertical-align: middle;\n",
       "    }\n",
       "\n",
       "    .dataframe tbody tr th {\n",
       "        vertical-align: top;\n",
       "    }\n",
       "\n",
       "    .dataframe thead th {\n",
       "        text-align: right;\n",
       "    }\n",
       "</style>\n",
       "<table border=\"1\" class=\"dataframe\">\n",
       "  <thead>\n",
       "    <tr style=\"text-align: right;\">\n",
       "      <th></th>\n",
       "      <th>Team Name</th>\n",
       "      <th>Match Played</th>\n",
       "      <th>Points</th>\n",
       "      <th>Rating</th>\n",
       "    </tr>\n",
       "  </thead>\n",
       "  <tbody>\n",
       "    <tr>\n",
       "      <th>0</th>\n",
       "      <td>Australia</td>\n",
       "      <td>35</td>\n",
       "      <td>3,965</td>\n",
       "      <td>113</td>\n",
       "    </tr>\n",
       "    <tr>\n",
       "      <th>1</th>\n",
       "      <td>New Zealand</td>\n",
       "      <td>31</td>\n",
       "      <td>3,504</td>\n",
       "      <td>113</td>\n",
       "    </tr>\n",
       "    <tr>\n",
       "      <th>2</th>\n",
       "      <td>India</td>\n",
       "      <td>47</td>\n",
       "      <td>5,294</td>\n",
       "      <td>113</td>\n",
       "    </tr>\n",
       "    <tr>\n",
       "      <th>3</th>\n",
       "      <td>England</td>\n",
       "      <td>36</td>\n",
       "      <td>3,988</td>\n",
       "      <td>111</td>\n",
       "    </tr>\n",
       "    <tr>\n",
       "      <th>4</th>\n",
       "      <td>Pakistan</td>\n",
       "      <td>25</td>\n",
       "      <td>2,649</td>\n",
       "      <td>106</td>\n",
       "    </tr>\n",
       "    <tr>\n",
       "      <th>5</th>\n",
       "      <td>South Africa</td>\n",
       "      <td>31</td>\n",
       "      <td>3,141</td>\n",
       "      <td>101</td>\n",
       "    </tr>\n",
       "    <tr>\n",
       "      <th>6</th>\n",
       "      <td>Bangladesh</td>\n",
       "      <td>38</td>\n",
       "      <td>3,625</td>\n",
       "      <td>95</td>\n",
       "    </tr>\n",
       "    <tr>\n",
       "      <th>7</th>\n",
       "      <td>Sri Lanka</td>\n",
       "      <td>36</td>\n",
       "      <td>3,099</td>\n",
       "      <td>86</td>\n",
       "    </tr>\n",
       "    <tr>\n",
       "      <th>8</th>\n",
       "      <td>West Indies</td>\n",
       "      <td>43</td>\n",
       "      <td>3,105</td>\n",
       "      <td>72</td>\n",
       "    </tr>\n",
       "    <tr>\n",
       "      <th>9</th>\n",
       "      <td>Afghanistan</td>\n",
       "      <td>20</td>\n",
       "      <td>1,419</td>\n",
       "      <td>71</td>\n",
       "    </tr>\n",
       "  </tbody>\n",
       "</table>\n",
       "</div>"
      ],
      "text/plain": [
       "      Team Name Match Played Points                           Rating\n",
       "0     Australia           35  3,965                              113\n",
       "1   New Zealand           31  3,504                              113\n",
       "2         India           47  5,294                              113\n",
       "3       England           36  3,988                              111\n",
       "4      Pakistan           25  2,649                              106\n",
       "5  South Africa           31  3,141                              101\n",
       "6    Bangladesh           38  3,625                               95\n",
       "7     Sri Lanka           36  3,099                               86\n",
       "8   West Indies           43  3,105                               72\n",
       "9   Afghanistan           20  1,419                               71"
      ]
     },
     "execution_count": 168,
     "metadata": {},
     "output_type": "execute_result"
    }
   ],
   "source": [
    "df=pd.DataFrame({'Team Name':Team_name,'Match Played':Match_played,'Points':points,'Rating':rating})\n",
    "df"
   ]
  },
  {
   "cell_type": "markdown",
   "id": "7cb730de",
   "metadata": {},
   "source": [
    "**b) Top 10 ODI Batsmen along with the records of their team and rating.**"
   ]
  },
  {
   "cell_type": "code",
   "execution_count": 169,
   "id": "cf408217",
   "metadata": {},
   "outputs": [
    {
     "data": {
      "text/plain": [
       "<Response [200]>"
      ]
     },
     "execution_count": 169,
     "metadata": {},
     "output_type": "execute_result"
    }
   ],
   "source": [
    "link=requests.get('https://www.icc-cricket.com/rankings/mens/player-rankings/odi')\n",
    "link"
   ]
  },
  {
   "cell_type": "code",
   "execution_count": 170,
   "id": "3d011f29",
   "metadata": {},
   "outputs": [],
   "source": [
    "soap=BeautifulSoup(link.content)"
   ]
  },
  {
   "cell_type": "code",
   "execution_count": 175,
   "id": "192f50eb",
   "metadata": {},
   "outputs": [
    {
     "data": {
      "text/plain": [
       "['Babar Azam',\n",
       " 'Rassie van der Dussen',\n",
       " 'Imam-ul-Haq',\n",
       " 'Shubman Gill',\n",
       " 'David Warner',\n",
       " 'Virat Kohli',\n",
       " 'Quinton de Kock',\n",
       " 'Rohit Sharma',\n",
       " 'Steve Smith',\n",
       " 'Fakhar Zaman']"
      ]
     },
     "execution_count": 175,
     "metadata": {},
     "output_type": "execute_result"
    }
   ],
   "source": [
    "name=[]\n",
    "k=soap.find('div',class_=\"rankings-block__banner--name\")\n",
    "name.append(k.text)\n",
    "\n",
    "\n",
    "j=1\n",
    "for i in soap.find_all('td',class_=\"table-body__cell name\"):\n",
    "    if j<10:\n",
    "        name.append(i.text.split('\\n')[1])\n",
    "        j+=1\n",
    "name"
   ]
  },
  {
   "cell_type": "code",
   "execution_count": 179,
   "id": "cae97e09",
   "metadata": {},
   "outputs": [
    {
     "data": {
      "text/plain": [
       "['PAK', 'SA', 'PAK', 'IND', 'AUS', 'IND', 'SA', 'IND', 'AUS', 'PAK']"
      ]
     },
     "execution_count": 179,
     "metadata": {},
     "output_type": "execute_result"
    }
   ],
   "source": [
    "nation=[]\n",
    "k=soap.find('div',class_=\"rankings-block__banner--nationality\")\n",
    "nation.append(k.text.split('\\n')[2])\n",
    "\n",
    "\n",
    "j=1\n",
    "for i in soap.find_all('span',class_=\"table-body__logo-text\"):\n",
    "    if j<10:\n",
    "        nation.append(i.text)\n",
    "        j+=1\n",
    "nation"
   ]
  },
  {
   "cell_type": "code",
   "execution_count": 181,
   "id": "6d8ff9a1",
   "metadata": {},
   "outputs": [
    {
     "data": {
      "text/plain": [
       "['887', '777', '740', '738', '726', '719', '718', '707', '702', '699']"
      ]
     },
     "execution_count": 181,
     "metadata": {},
     "output_type": "execute_result"
    }
   ],
   "source": [
    "rating=[]\n",
    "k=soap.find('div',class_=\"rankings-block__banner--rating\")\n",
    "rating.append(k.text)\n",
    "\n",
    "\n",
    "j=1\n",
    "for i in soap.find_all('td',class_=\"table-body__cell u-text-right rating\"):\n",
    "    if j<10:\n",
    "        rating.append(i.text)\n",
    "        j+=1\n",
    "rating"
   ]
  },
  {
   "cell_type": "code",
   "execution_count": 182,
   "id": "1913fbe9",
   "metadata": {},
   "outputs": [
    {
     "name": "stdout",
     "output_type": "stream",
     "text": [
      "10 10 10\n"
     ]
    }
   ],
   "source": [
    "print(len(name),len(nation),len(rating))"
   ]
  },
  {
   "cell_type": "code",
   "execution_count": 183,
   "id": "3de68537",
   "metadata": {},
   "outputs": [
    {
     "data": {
      "text/html": [
       "<div>\n",
       "<style scoped>\n",
       "    .dataframe tbody tr th:only-of-type {\n",
       "        vertical-align: middle;\n",
       "    }\n",
       "\n",
       "    .dataframe tbody tr th {\n",
       "        vertical-align: top;\n",
       "    }\n",
       "\n",
       "    .dataframe thead th {\n",
       "        text-align: right;\n",
       "    }\n",
       "</style>\n",
       "<table border=\"1\" class=\"dataframe\">\n",
       "  <thead>\n",
       "    <tr style=\"text-align: right;\">\n",
       "      <th></th>\n",
       "      <th>Player</th>\n",
       "      <th>Country</th>\n",
       "      <th>Rating</th>\n",
       "    </tr>\n",
       "  </thead>\n",
       "  <tbody>\n",
       "    <tr>\n",
       "      <th>0</th>\n",
       "      <td>Babar Azam</td>\n",
       "      <td>PAK</td>\n",
       "      <td>887</td>\n",
       "    </tr>\n",
       "    <tr>\n",
       "      <th>1</th>\n",
       "      <td>Rassie van der Dussen</td>\n",
       "      <td>SA</td>\n",
       "      <td>777</td>\n",
       "    </tr>\n",
       "    <tr>\n",
       "      <th>2</th>\n",
       "      <td>Imam-ul-Haq</td>\n",
       "      <td>PAK</td>\n",
       "      <td>740</td>\n",
       "    </tr>\n",
       "    <tr>\n",
       "      <th>3</th>\n",
       "      <td>Shubman Gill</td>\n",
       "      <td>IND</td>\n",
       "      <td>738</td>\n",
       "    </tr>\n",
       "    <tr>\n",
       "      <th>4</th>\n",
       "      <td>David Warner</td>\n",
       "      <td>AUS</td>\n",
       "      <td>726</td>\n",
       "    </tr>\n",
       "    <tr>\n",
       "      <th>5</th>\n",
       "      <td>Virat Kohli</td>\n",
       "      <td>IND</td>\n",
       "      <td>719</td>\n",
       "    </tr>\n",
       "    <tr>\n",
       "      <th>6</th>\n",
       "      <td>Quinton de Kock</td>\n",
       "      <td>SA</td>\n",
       "      <td>718</td>\n",
       "    </tr>\n",
       "    <tr>\n",
       "      <th>7</th>\n",
       "      <td>Rohit Sharma</td>\n",
       "      <td>IND</td>\n",
       "      <td>707</td>\n",
       "    </tr>\n",
       "    <tr>\n",
       "      <th>8</th>\n",
       "      <td>Steve Smith</td>\n",
       "      <td>AUS</td>\n",
       "      <td>702</td>\n",
       "    </tr>\n",
       "    <tr>\n",
       "      <th>9</th>\n",
       "      <td>Fakhar Zaman</td>\n",
       "      <td>PAK</td>\n",
       "      <td>699</td>\n",
       "    </tr>\n",
       "  </tbody>\n",
       "</table>\n",
       "</div>"
      ],
      "text/plain": [
       "                  Player Country Rating\n",
       "0             Babar Azam     PAK    887\n",
       "1  Rassie van der Dussen      SA    777\n",
       "2            Imam-ul-Haq     PAK    740\n",
       "3           Shubman Gill     IND    738\n",
       "4           David Warner     AUS    726\n",
       "5            Virat Kohli     IND    719\n",
       "6        Quinton de Kock      SA    718\n",
       "7           Rohit Sharma     IND    707\n",
       "8            Steve Smith     AUS    702\n",
       "9           Fakhar Zaman     PAK    699"
      ]
     },
     "execution_count": 183,
     "metadata": {},
     "output_type": "execute_result"
    }
   ],
   "source": [
    "df=pd.DataFrame({'Player':name,'Country':nation,'Rating':rating})\n",
    "df"
   ]
  },
  {
   "cell_type": "markdown",
   "id": "d9437d10",
   "metadata": {},
   "source": [
    "**c) Top 10 ODI bowlers along with the records of their team and rating.**"
   ]
  },
  {
   "cell_type": "code",
   "execution_count": 244,
   "id": "65db008a",
   "metadata": {},
   "outputs": [
    {
     "data": {
      "text/plain": [
       "<Response [200]>"
      ]
     },
     "execution_count": 244,
     "metadata": {},
     "output_type": "execute_result"
    }
   ],
   "source": [
    "link=requests.get('https://www.icc-cricket.com/rankings/mens/player-rankings/odi/bowling')\n",
    "link"
   ]
  },
  {
   "cell_type": "code",
   "execution_count": 208,
   "id": "7e7b3c07",
   "metadata": {},
   "outputs": [],
   "source": [
    "soap1=BeautifulSoup(link.content)"
   ]
  },
  {
   "cell_type": "code",
   "execution_count": 224,
   "id": "76c51a40",
   "metadata": {},
   "outputs": [
    {
     "data": {
      "text/plain": [
       "['Josh Hazlewood',\n",
       " 'Trent Boult',\n",
       " 'Mohammed Siraj',\n",
       " 'Mitchell Starc',\n",
       " 'Matt Henry',\n",
       " 'Rashid Khan',\n",
       " 'Adam Zampa',\n",
       " 'Shaheen Afridi',\n",
       " 'Mujeeb Ur Rahman',\n",
       " 'Shakib Al Hasan']"
      ]
     },
     "execution_count": 224,
     "metadata": {},
     "output_type": "execute_result"
    }
   ],
   "source": [
    "name=[]\n",
    "k=soap1.find('div',class_=\"rankings-block__banner--name-large\")\n",
    "name.append(k.text)\n",
    "\n",
    "\n",
    "j=1\n",
    "for i in soap1.find_all('td',class_=\"table-body__cell rankings-table__name name\"):\n",
    "    if j<10:\n",
    "        name.append(i.text.split('\\n')[1])\n",
    "        j+=1\n",
    "name"
   ]
  },
  {
   "cell_type": "code",
   "execution_count": 265,
   "id": "a4ac4cce",
   "metadata": {},
   "outputs": [
    {
     "data": {
      "text/plain": [
       "['AUS', 'NZ', 'IND', 'AUS', 'NZ', 'AFG', 'AUS', 'PAK', 'AFG', 'BAN']"
      ]
     },
     "execution_count": 265,
     "metadata": {},
     "output_type": "execute_result"
    }
   ],
   "source": [
    "nation=[]\n",
    "k=soap.find('div',class_=\"rankings-block__banner--nationality\")\n",
    "nation.append(k.text.split('\\n')[2])\n",
    "\n",
    "\n",
    "j=1\n",
    "for i in soap.find_all('span',class_=\"table-body__logo-text\"):\n",
    "    if j<10:\n",
    "        nation.append(i.text)\n",
    "        j+=1\n",
    "nation"
   ]
  },
  {
   "cell_type": "code",
   "execution_count": 267,
   "id": "15807f68",
   "metadata": {},
   "outputs": [
    {
     "data": {
      "text/plain": [
       "['705', '694', '691', '686', '676', '659', '652', '641', '637', '636']"
      ]
     },
     "execution_count": 267,
     "metadata": {},
     "output_type": "execute_result"
    }
   ],
   "source": [
    "rating=[]\n",
    "k=soap.find('div',class_=\"rankings-block__banner--rating\")\n",
    "rating.append(k.text)\n",
    "\n",
    "\n",
    "j=1\n",
    "for i in soap.find_all('td',class_=\"table-body__cell rating\"):\n",
    "    if j<10:\n",
    "        rating.append(i.text)\n",
    "        j+=1\n",
    "rating"
   ]
  },
  {
   "cell_type": "code",
   "execution_count": 268,
   "id": "6f2a2187",
   "metadata": {},
   "outputs": [
    {
     "name": "stdout",
     "output_type": "stream",
     "text": [
      "10 10 10\n"
     ]
    }
   ],
   "source": [
    "print(len(name),len(nation),len(rating))"
   ]
  },
  {
   "cell_type": "code",
   "execution_count": 269,
   "id": "9e4c3a2e",
   "metadata": {},
   "outputs": [
    {
     "data": {
      "text/html": [
       "<div>\n",
       "<style scoped>\n",
       "    .dataframe tbody tr th:only-of-type {\n",
       "        vertical-align: middle;\n",
       "    }\n",
       "\n",
       "    .dataframe tbody tr th {\n",
       "        vertical-align: top;\n",
       "    }\n",
       "\n",
       "    .dataframe thead th {\n",
       "        text-align: right;\n",
       "    }\n",
       "</style>\n",
       "<table border=\"1\" class=\"dataframe\">\n",
       "  <thead>\n",
       "    <tr style=\"text-align: right;\">\n",
       "      <th></th>\n",
       "      <th>Player</th>\n",
       "      <th>Country</th>\n",
       "      <th>Rating</th>\n",
       "    </tr>\n",
       "  </thead>\n",
       "  <tbody>\n",
       "    <tr>\n",
       "      <th>0</th>\n",
       "      <td>Josh Hazlewood</td>\n",
       "      <td>AUS</td>\n",
       "      <td>705</td>\n",
       "    </tr>\n",
       "    <tr>\n",
       "      <th>1</th>\n",
       "      <td>Trent Boult</td>\n",
       "      <td>NZ</td>\n",
       "      <td>694</td>\n",
       "    </tr>\n",
       "    <tr>\n",
       "      <th>2</th>\n",
       "      <td>Mohammed Siraj</td>\n",
       "      <td>IND</td>\n",
       "      <td>691</td>\n",
       "    </tr>\n",
       "    <tr>\n",
       "      <th>3</th>\n",
       "      <td>Mitchell Starc</td>\n",
       "      <td>AUS</td>\n",
       "      <td>686</td>\n",
       "    </tr>\n",
       "    <tr>\n",
       "      <th>4</th>\n",
       "      <td>Matt Henry</td>\n",
       "      <td>NZ</td>\n",
       "      <td>676</td>\n",
       "    </tr>\n",
       "    <tr>\n",
       "      <th>5</th>\n",
       "      <td>Rashid Khan</td>\n",
       "      <td>AFG</td>\n",
       "      <td>659</td>\n",
       "    </tr>\n",
       "    <tr>\n",
       "      <th>6</th>\n",
       "      <td>Adam Zampa</td>\n",
       "      <td>AUS</td>\n",
       "      <td>652</td>\n",
       "    </tr>\n",
       "    <tr>\n",
       "      <th>7</th>\n",
       "      <td>Shaheen Afridi</td>\n",
       "      <td>PAK</td>\n",
       "      <td>641</td>\n",
       "    </tr>\n",
       "    <tr>\n",
       "      <th>8</th>\n",
       "      <td>Mujeeb Ur Rahman</td>\n",
       "      <td>AFG</td>\n",
       "      <td>637</td>\n",
       "    </tr>\n",
       "    <tr>\n",
       "      <th>9</th>\n",
       "      <td>Shakib Al Hasan</td>\n",
       "      <td>BAN</td>\n",
       "      <td>636</td>\n",
       "    </tr>\n",
       "  </tbody>\n",
       "</table>\n",
       "</div>"
      ],
      "text/plain": [
       "             Player Country Rating\n",
       "0    Josh Hazlewood     AUS    705\n",
       "1       Trent Boult      NZ    694\n",
       "2    Mohammed Siraj     IND    691\n",
       "3    Mitchell Starc     AUS    686\n",
       "4        Matt Henry      NZ    676\n",
       "5       Rashid Khan     AFG    659\n",
       "6        Adam Zampa     AUS    652\n",
       "7    Shaheen Afridi     PAK    641\n",
       "8  Mujeeb Ur Rahman     AFG    637\n",
       "9   Shakib Al Hasan     BAN    636"
      ]
     },
     "execution_count": 269,
     "metadata": {},
     "output_type": "execute_result"
    }
   ],
   "source": [
    "df=pd.DataFrame({'Player':name,'Country':nation,'Rating':rating})\n",
    "df"
   ]
  },
  {
   "cell_type": "markdown",
   "id": "bda53e69",
   "metadata": {},
   "source": [
    "### Q6  Write a python program to scrape cricket rankings from icc-cricket.com. You have to scrape and make data frame\n",
    "**a) Top 10 ODI teams in women’s cricket along with the records for matches, points and rating.**\n"
   ]
  },
  {
   "cell_type": "code",
   "execution_count": 356,
   "id": "ff76cd9c",
   "metadata": {},
   "outputs": [
    {
     "data": {
      "text/plain": [
       "<Response [200]>"
      ]
     },
     "execution_count": 356,
     "metadata": {},
     "output_type": "execute_result"
    }
   ],
   "source": [
    "link=requests.get(\"https://www.icc-cricket.com/rankings/womens/team-rankings/odi\")\n",
    "link"
   ]
  },
  {
   "cell_type": "code",
   "execution_count": 357,
   "id": "3065d54d",
   "metadata": {},
   "outputs": [],
   "source": [
    "soap=BeautifulSoup(link.content)"
   ]
  },
  {
   "cell_type": "code",
   "execution_count": 358,
   "id": "924c8774",
   "metadata": {},
   "outputs": [
    {
     "data": {
      "text/plain": [
       "['Australia',\n",
       " 'England',\n",
       " 'South Africa',\n",
       " 'India',\n",
       " 'New Zealand',\n",
       " 'West Indies',\n",
       " 'Bangladesh',\n",
       " 'Thailand',\n",
       " 'Pakistan',\n",
       " 'Sri Lanka']"
      ]
     },
     "execution_count": 358,
     "metadata": {},
     "output_type": "execute_result"
    }
   ],
   "source": [
    "Team_name=[]\n",
    "j=1\n",
    "for i in soap.find_all('span',class_=\"u-hide-phablet\"):\n",
    "    if j<=10:\n",
    "        Team_name.append(i.text)\n",
    "        j+=1\n",
    "Team_name"
   ]
  },
  {
   "cell_type": "code",
   "execution_count": 359,
   "id": "9dd05a34",
   "metadata": {},
   "outputs": [
    {
     "data": {
      "text/plain": [
       "['21', '28', '26', '27', '25', '27', '13', '11', '27', '8']"
      ]
     },
     "execution_count": 359,
     "metadata": {},
     "output_type": "execute_result"
    }
   ],
   "source": [
    "Match_played=[]\n",
    "k=soap.find('td',class_=\"rankings-block__banner--matches\")\n",
    "Match_played.append(k.text)\n",
    "\n",
    "\n",
    "j=1\n",
    "for i in soap.find_all('td',class_=\"table-body__cell u-center-text\"):\n",
    "    if j<19:\n",
    "        if j%2!=0:\n",
    "            Match_played.append(i.text)\n",
    "        j+=1\n",
    "Match_played"
   ]
  },
  {
   "cell_type": "code",
   "execution_count": 360,
   "id": "662bf8a4",
   "metadata": {},
   "outputs": [
    {
     "data": {
      "text/plain": [
       "['3,603',\n",
       " '3,342',\n",
       " '3,098',\n",
       " '2,820',\n",
       " '2,553',\n",
       " '2,535',\n",
       " '983',\n",
       " '821',\n",
       " '1,678',\n",
       " '353']"
      ]
     },
     "execution_count": 360,
     "metadata": {},
     "output_type": "execute_result"
    }
   ],
   "source": [
    "points=[]\n",
    "k=soap.find('td',class_=\"rankings-block__banner--points\")\n",
    "points.append(k.text)\n",
    "\n",
    "\n",
    "j=1\n",
    "for i in soap.find_all('td',class_=\"table-body__cell u-center-text\"):\n",
    "    if j<19:\n",
    "        if j%2==0:\n",
    "            points.append(i.text)\n",
    "        j+=1\n",
    "points"
   ]
  },
  {
   "cell_type": "code",
   "execution_count": 362,
   "id": "dd76ee64",
   "metadata": {},
   "outputs": [
    {
     "data": {
      "text/plain": [
       "['172', '119', '119', '104', '102', '94', '76', '75', '62', '44']"
      ]
     },
     "execution_count": 362,
     "metadata": {},
     "output_type": "execute_result"
    }
   ],
   "source": [
    "rating=[]\n",
    "k=soap.find('td',class_=\"rankings-block__banner--rating u-text-right\")\n",
    "rating.append(k.text.split('\\n')[1].strip())\n",
    "\n",
    "\n",
    "j=1\n",
    "for i in soap.find_all('td',class_=\"table-body__cell u-text-right rating\"):\n",
    "    if j<10:\n",
    "        rating.append(i.text)\n",
    "        j+=1\n",
    "rating"
   ]
  },
  {
   "cell_type": "code",
   "execution_count": 364,
   "id": "431f7678",
   "metadata": {},
   "outputs": [
    {
     "name": "stdout",
     "output_type": "stream",
     "text": [
      "10 10 10 10\n"
     ]
    }
   ],
   "source": [
    "print(len(rating),len(points),len(Match_played),len(Team_name))"
   ]
  },
  {
   "cell_type": "code",
   "execution_count": 365,
   "id": "78a9c179",
   "metadata": {},
   "outputs": [
    {
     "data": {
      "text/html": [
       "<div>\n",
       "<style scoped>\n",
       "    .dataframe tbody tr th:only-of-type {\n",
       "        vertical-align: middle;\n",
       "    }\n",
       "\n",
       "    .dataframe tbody tr th {\n",
       "        vertical-align: top;\n",
       "    }\n",
       "\n",
       "    .dataframe thead th {\n",
       "        text-align: right;\n",
       "    }\n",
       "</style>\n",
       "<table border=\"1\" class=\"dataframe\">\n",
       "  <thead>\n",
       "    <tr style=\"text-align: right;\">\n",
       "      <th></th>\n",
       "      <th>Team Name</th>\n",
       "      <th>Match Played</th>\n",
       "      <th>Points</th>\n",
       "      <th>Rating</th>\n",
       "    </tr>\n",
       "  </thead>\n",
       "  <tbody>\n",
       "    <tr>\n",
       "      <th>0</th>\n",
       "      <td>Australia</td>\n",
       "      <td>21</td>\n",
       "      <td>3,603</td>\n",
       "      <td>172</td>\n",
       "    </tr>\n",
       "    <tr>\n",
       "      <th>1</th>\n",
       "      <td>England</td>\n",
       "      <td>28</td>\n",
       "      <td>3,342</td>\n",
       "      <td>119</td>\n",
       "    </tr>\n",
       "    <tr>\n",
       "      <th>2</th>\n",
       "      <td>South Africa</td>\n",
       "      <td>26</td>\n",
       "      <td>3,098</td>\n",
       "      <td>119</td>\n",
       "    </tr>\n",
       "    <tr>\n",
       "      <th>3</th>\n",
       "      <td>India</td>\n",
       "      <td>27</td>\n",
       "      <td>2,820</td>\n",
       "      <td>104</td>\n",
       "    </tr>\n",
       "    <tr>\n",
       "      <th>4</th>\n",
       "      <td>New Zealand</td>\n",
       "      <td>25</td>\n",
       "      <td>2,553</td>\n",
       "      <td>102</td>\n",
       "    </tr>\n",
       "    <tr>\n",
       "      <th>5</th>\n",
       "      <td>West Indies</td>\n",
       "      <td>27</td>\n",
       "      <td>2,535</td>\n",
       "      <td>94</td>\n",
       "    </tr>\n",
       "    <tr>\n",
       "      <th>6</th>\n",
       "      <td>Bangladesh</td>\n",
       "      <td>13</td>\n",
       "      <td>983</td>\n",
       "      <td>76</td>\n",
       "    </tr>\n",
       "    <tr>\n",
       "      <th>7</th>\n",
       "      <td>Thailand</td>\n",
       "      <td>11</td>\n",
       "      <td>821</td>\n",
       "      <td>75</td>\n",
       "    </tr>\n",
       "    <tr>\n",
       "      <th>8</th>\n",
       "      <td>Pakistan</td>\n",
       "      <td>27</td>\n",
       "      <td>1,678</td>\n",
       "      <td>62</td>\n",
       "    </tr>\n",
       "    <tr>\n",
       "      <th>9</th>\n",
       "      <td>Sri Lanka</td>\n",
       "      <td>8</td>\n",
       "      <td>353</td>\n",
       "      <td>44</td>\n",
       "    </tr>\n",
       "  </tbody>\n",
       "</table>\n",
       "</div>"
      ],
      "text/plain": [
       "      Team Name Match Played Points Rating\n",
       "0     Australia           21  3,603    172\n",
       "1       England           28  3,342    119\n",
       "2  South Africa           26  3,098    119\n",
       "3         India           27  2,820    104\n",
       "4   New Zealand           25  2,553    102\n",
       "5   West Indies           27  2,535     94\n",
       "6    Bangladesh           13    983     76\n",
       "7      Thailand           11    821     75\n",
       "8      Pakistan           27  1,678     62\n",
       "9     Sri Lanka            8    353     44"
      ]
     },
     "execution_count": 365,
     "metadata": {},
     "output_type": "execute_result"
    }
   ],
   "source": [
    "df=pd.DataFrame({'Team Name':Team_name,'Match Played':Match_played,'Points':points,'Rating':rating})\n",
    "df"
   ]
  },
  {
   "cell_type": "markdown",
   "id": "bed400d9",
   "metadata": {},
   "source": [
    "**b) Top 10 women’s ODI Batting players along with the records of their team and rating.**"
   ]
  },
  {
   "cell_type": "code",
   "execution_count": 274,
   "id": "6c2bdcd9",
   "metadata": {},
   "outputs": [
    {
     "data": {
      "text/plain": [
       "<Response [200]>"
      ]
     },
     "execution_count": 274,
     "metadata": {},
     "output_type": "execute_result"
    }
   ],
   "source": [
    "link=requests.get('https://www.icc-cricket.com/rankings/womens/player-rankings/odi/batting')\n",
    "link"
   ]
  },
  {
   "cell_type": "code",
   "execution_count": 275,
   "id": "57549e1b",
   "metadata": {},
   "outputs": [],
   "source": [
    "soap=BeautifulSoup(link.content)"
   ]
  },
  {
   "cell_type": "code",
   "execution_count": 276,
   "id": "113e85dd",
   "metadata": {},
   "outputs": [
    {
     "data": {
      "text/plain": [
       "['Alyssa Healy',\n",
       " 'Beth Mooney',\n",
       " 'Laura Wolvaardt',\n",
       " 'Natalie Sciver',\n",
       " 'Meg Lanning',\n",
       " 'Harmanpreet Kaur',\n",
       " 'Smriti Mandhana',\n",
       " 'Chamari Athapaththu',\n",
       " 'Amy Satterthwaite',\n",
       " 'Ellyse Perry']"
      ]
     },
     "execution_count": 276,
     "metadata": {},
     "output_type": "execute_result"
    }
   ],
   "source": [
    "name=[]\n",
    "k=soap.find('div',class_=\"rankings-block__banner--name-large\")\n",
    "name.append(k.text)\n",
    "\n",
    "\n",
    "j=1\n",
    "for i in soap.find_all('td',class_=\"table-body__cell rankings-table__name name\"):\n",
    "    if j<10:\n",
    "        name.append(i.text.split('\\n')[1])\n",
    "        j+=1\n",
    "name"
   ]
  },
  {
   "cell_type": "code",
   "execution_count": 277,
   "id": "4721ef87",
   "metadata": {},
   "outputs": [
    {
     "data": {
      "text/plain": [
       "['AUS', 'AUS', 'SA', 'ENG', 'AUS', 'IND', 'IND', 'SL', 'NZ', 'AUS']"
      ]
     },
     "execution_count": 277,
     "metadata": {},
     "output_type": "execute_result"
    }
   ],
   "source": [
    "nation=[]\n",
    "k=soap.find('div',class_=\"rankings-block__banner--nationality\")\n",
    "nation.append(k.text.split('\\n')[2])\n",
    "\n",
    "\n",
    "j=1\n",
    "for i in soap.find_all('span',class_=\"table-body__logo-text\"):\n",
    "    if j<10:\n",
    "        nation.append(i.text)\n",
    "        j+=1\n",
    "nation"
   ]
  },
  {
   "cell_type": "code",
   "execution_count": 278,
   "id": "1617a910",
   "metadata": {},
   "outputs": [
    {
     "data": {
      "text/plain": [
       "['762', '754', '732', '731', '717', '716', '714', '655', '641', '626']"
      ]
     },
     "execution_count": 278,
     "metadata": {},
     "output_type": "execute_result"
    }
   ],
   "source": [
    "rating=[]\n",
    "k=soap.find('div',class_=\"rankings-block__banner--rating\")\n",
    "rating.append(k.text)\n",
    "\n",
    "\n",
    "j=1\n",
    "for i in soap.find_all('td',class_=\"table-body__cell rating\"):\n",
    "    if j<10:\n",
    "        rating.append(i.text)\n",
    "        j+=1\n",
    "rating"
   ]
  },
  {
   "cell_type": "code",
   "execution_count": 280,
   "id": "f012aa7c",
   "metadata": {},
   "outputs": [
    {
     "name": "stdout",
     "output_type": "stream",
     "text": [
      "10 10 10\n"
     ]
    }
   ],
   "source": [
    "print(len(name),len(nation),len(rating))"
   ]
  },
  {
   "cell_type": "code",
   "execution_count": 281,
   "id": "ae7769dc",
   "metadata": {},
   "outputs": [
    {
     "data": {
      "text/html": [
       "<div>\n",
       "<style scoped>\n",
       "    .dataframe tbody tr th:only-of-type {\n",
       "        vertical-align: middle;\n",
       "    }\n",
       "\n",
       "    .dataframe tbody tr th {\n",
       "        vertical-align: top;\n",
       "    }\n",
       "\n",
       "    .dataframe thead th {\n",
       "        text-align: right;\n",
       "    }\n",
       "</style>\n",
       "<table border=\"1\" class=\"dataframe\">\n",
       "  <thead>\n",
       "    <tr style=\"text-align: right;\">\n",
       "      <th></th>\n",
       "      <th>Player</th>\n",
       "      <th>Country</th>\n",
       "      <th>Rating</th>\n",
       "    </tr>\n",
       "  </thead>\n",
       "  <tbody>\n",
       "    <tr>\n",
       "      <th>0</th>\n",
       "      <td>Alyssa Healy</td>\n",
       "      <td>AUS</td>\n",
       "      <td>762</td>\n",
       "    </tr>\n",
       "    <tr>\n",
       "      <th>1</th>\n",
       "      <td>Beth Mooney</td>\n",
       "      <td>AUS</td>\n",
       "      <td>754</td>\n",
       "    </tr>\n",
       "    <tr>\n",
       "      <th>2</th>\n",
       "      <td>Laura Wolvaardt</td>\n",
       "      <td>SA</td>\n",
       "      <td>732</td>\n",
       "    </tr>\n",
       "    <tr>\n",
       "      <th>3</th>\n",
       "      <td>Natalie Sciver</td>\n",
       "      <td>ENG</td>\n",
       "      <td>731</td>\n",
       "    </tr>\n",
       "    <tr>\n",
       "      <th>4</th>\n",
       "      <td>Meg Lanning</td>\n",
       "      <td>AUS</td>\n",
       "      <td>717</td>\n",
       "    </tr>\n",
       "    <tr>\n",
       "      <th>5</th>\n",
       "      <td>Harmanpreet Kaur</td>\n",
       "      <td>IND</td>\n",
       "      <td>716</td>\n",
       "    </tr>\n",
       "    <tr>\n",
       "      <th>6</th>\n",
       "      <td>Smriti Mandhana</td>\n",
       "      <td>IND</td>\n",
       "      <td>714</td>\n",
       "    </tr>\n",
       "    <tr>\n",
       "      <th>7</th>\n",
       "      <td>Chamari Athapaththu</td>\n",
       "      <td>SL</td>\n",
       "      <td>655</td>\n",
       "    </tr>\n",
       "    <tr>\n",
       "      <th>8</th>\n",
       "      <td>Amy Satterthwaite</td>\n",
       "      <td>NZ</td>\n",
       "      <td>641</td>\n",
       "    </tr>\n",
       "    <tr>\n",
       "      <th>9</th>\n",
       "      <td>Ellyse Perry</td>\n",
       "      <td>AUS</td>\n",
       "      <td>626</td>\n",
       "    </tr>\n",
       "  </tbody>\n",
       "</table>\n",
       "</div>"
      ],
      "text/plain": [
       "                Player Country Rating\n",
       "0         Alyssa Healy     AUS    762\n",
       "1          Beth Mooney     AUS    754\n",
       "2      Laura Wolvaardt      SA    732\n",
       "3       Natalie Sciver     ENG    731\n",
       "4          Meg Lanning     AUS    717\n",
       "5     Harmanpreet Kaur     IND    716\n",
       "6      Smriti Mandhana     IND    714\n",
       "7  Chamari Athapaththu      SL    655\n",
       "8    Amy Satterthwaite      NZ    641\n",
       "9         Ellyse Perry     AUS    626"
      ]
     },
     "execution_count": 281,
     "metadata": {},
     "output_type": "execute_result"
    }
   ],
   "source": [
    "df=pd.DataFrame({'Player':name,'Country':nation,'Rating':rating})\n",
    "df"
   ]
  },
  {
   "cell_type": "markdown",
   "id": "a5e378f6",
   "metadata": {},
   "source": [
    "**c) Top 10 women’s ODI all-rounder along with the records of their team and ratin**"
   ]
  },
  {
   "cell_type": "code",
   "execution_count": 282,
   "id": "f7e6b830",
   "metadata": {},
   "outputs": [
    {
     "data": {
      "text/plain": [
       "<Response [200]>"
      ]
     },
     "execution_count": 282,
     "metadata": {},
     "output_type": "execute_result"
    }
   ],
   "source": [
    "link=requests.get('https://www.icc-cricket.com/rankings/womens/player-rankings/odi/all-rounder')\n",
    "link"
   ]
  },
  {
   "cell_type": "code",
   "execution_count": 283,
   "id": "47b8277e",
   "metadata": {},
   "outputs": [],
   "source": [
    "soap=BeautifulSoup(link.content)"
   ]
  },
  {
   "cell_type": "code",
   "execution_count": 284,
   "id": "ab18ec29",
   "metadata": {},
   "outputs": [
    {
     "data": {
      "text/plain": [
       "['Hayley Matthews',\n",
       " 'Natalie Sciver',\n",
       " 'Ellyse Perry',\n",
       " 'Marizanne Kapp',\n",
       " 'Amelia Kerr',\n",
       " 'Deepti Sharma',\n",
       " 'Ashleigh Gardner',\n",
       " 'Jess Jonassen',\n",
       " 'Nida Dar',\n",
       " 'Sophie Ecclestone']"
      ]
     },
     "execution_count": 284,
     "metadata": {},
     "output_type": "execute_result"
    }
   ],
   "source": [
    "name=[]\n",
    "k=soap.find('div',class_=\"rankings-block__banner--name-large\")\n",
    "name.append(k.text)\n",
    "\n",
    "\n",
    "j=1\n",
    "for i in soap.find_all('td',class_=\"table-body__cell rankings-table__name name\"):\n",
    "    if j<10:\n",
    "        name.append(i.text.split('\\n')[1])\n",
    "        j+=1\n",
    "name"
   ]
  },
  {
   "cell_type": "code",
   "execution_count": 285,
   "id": "3281c924",
   "metadata": {},
   "outputs": [
    {
     "data": {
      "text/plain": [
       "['WI', 'ENG', 'AUS', 'SA', 'NZ', 'IND', 'AUS', 'AUS', 'PAK', 'ENG']"
      ]
     },
     "execution_count": 285,
     "metadata": {},
     "output_type": "execute_result"
    }
   ],
   "source": [
    "nation=[]\n",
    "k=soap.find('div',class_=\"rankings-block__banner--nationality\")\n",
    "nation.append(k.text.split('\\n')[2])\n",
    "\n",
    "\n",
    "j=1\n",
    "for i in soap.find_all('span',class_=\"table-body__logo-text\"):\n",
    "    if j<10:\n",
    "        nation.append(i.text)\n",
    "        j+=1\n",
    "nation"
   ]
  },
  {
   "cell_type": "code",
   "execution_count": 286,
   "id": "92bd1660",
   "metadata": {},
   "outputs": [
    {
     "data": {
      "text/plain": [
       "['373', '371', '366', '349', '336', '322', '292', '250', '232', '205']"
      ]
     },
     "execution_count": 286,
     "metadata": {},
     "output_type": "execute_result"
    }
   ],
   "source": [
    "rating=[]\n",
    "k=soap.find('div',class_=\"rankings-block__banner--rating\")\n",
    "rating.append(k.text)\n",
    "\n",
    "\n",
    "j=1\n",
    "for i in soap.find_all('td',class_=\"table-body__cell rating\"):\n",
    "    if j<10:\n",
    "        rating.append(i.text)\n",
    "        j+=1\n",
    "rating"
   ]
  },
  {
   "cell_type": "code",
   "execution_count": 287,
   "id": "f442f882",
   "metadata": {},
   "outputs": [
    {
     "name": "stdout",
     "output_type": "stream",
     "text": [
      "10 10 10\n"
     ]
    }
   ],
   "source": [
    "print(len(name),len(nation),len(rating))"
   ]
  },
  {
   "cell_type": "code",
   "execution_count": 288,
   "id": "9aeb5dae",
   "metadata": {},
   "outputs": [
    {
     "data": {
      "text/html": [
       "<div>\n",
       "<style scoped>\n",
       "    .dataframe tbody tr th:only-of-type {\n",
       "        vertical-align: middle;\n",
       "    }\n",
       "\n",
       "    .dataframe tbody tr th {\n",
       "        vertical-align: top;\n",
       "    }\n",
       "\n",
       "    .dataframe thead th {\n",
       "        text-align: right;\n",
       "    }\n",
       "</style>\n",
       "<table border=\"1\" class=\"dataframe\">\n",
       "  <thead>\n",
       "    <tr style=\"text-align: right;\">\n",
       "      <th></th>\n",
       "      <th>Player</th>\n",
       "      <th>Country</th>\n",
       "      <th>Rating</th>\n",
       "    </tr>\n",
       "  </thead>\n",
       "  <tbody>\n",
       "    <tr>\n",
       "      <th>0</th>\n",
       "      <td>Hayley Matthews</td>\n",
       "      <td>WI</td>\n",
       "      <td>373</td>\n",
       "    </tr>\n",
       "    <tr>\n",
       "      <th>1</th>\n",
       "      <td>Natalie Sciver</td>\n",
       "      <td>ENG</td>\n",
       "      <td>371</td>\n",
       "    </tr>\n",
       "    <tr>\n",
       "      <th>2</th>\n",
       "      <td>Ellyse Perry</td>\n",
       "      <td>AUS</td>\n",
       "      <td>366</td>\n",
       "    </tr>\n",
       "    <tr>\n",
       "      <th>3</th>\n",
       "      <td>Marizanne Kapp</td>\n",
       "      <td>SA</td>\n",
       "      <td>349</td>\n",
       "    </tr>\n",
       "    <tr>\n",
       "      <th>4</th>\n",
       "      <td>Amelia Kerr</td>\n",
       "      <td>NZ</td>\n",
       "      <td>336</td>\n",
       "    </tr>\n",
       "    <tr>\n",
       "      <th>5</th>\n",
       "      <td>Deepti Sharma</td>\n",
       "      <td>IND</td>\n",
       "      <td>322</td>\n",
       "    </tr>\n",
       "    <tr>\n",
       "      <th>6</th>\n",
       "      <td>Ashleigh Gardner</td>\n",
       "      <td>AUS</td>\n",
       "      <td>292</td>\n",
       "    </tr>\n",
       "    <tr>\n",
       "      <th>7</th>\n",
       "      <td>Jess Jonassen</td>\n",
       "      <td>AUS</td>\n",
       "      <td>250</td>\n",
       "    </tr>\n",
       "    <tr>\n",
       "      <th>8</th>\n",
       "      <td>Nida Dar</td>\n",
       "      <td>PAK</td>\n",
       "      <td>232</td>\n",
       "    </tr>\n",
       "    <tr>\n",
       "      <th>9</th>\n",
       "      <td>Sophie Ecclestone</td>\n",
       "      <td>ENG</td>\n",
       "      <td>205</td>\n",
       "    </tr>\n",
       "  </tbody>\n",
       "</table>\n",
       "</div>"
      ],
      "text/plain": [
       "              Player Country Rating\n",
       "0    Hayley Matthews      WI    373\n",
       "1     Natalie Sciver     ENG    371\n",
       "2       Ellyse Perry     AUS    366\n",
       "3     Marizanne Kapp      SA    349\n",
       "4        Amelia Kerr      NZ    336\n",
       "5      Deepti Sharma     IND    322\n",
       "6   Ashleigh Gardner     AUS    292\n",
       "7      Jess Jonassen     AUS    250\n",
       "8           Nida Dar     PAK    232\n",
       "9  Sophie Ecclestone     ENG    205"
      ]
     },
     "execution_count": 288,
     "metadata": {},
     "output_type": "execute_result"
    }
   ],
   "source": [
    "df=pd.DataFrame({'Player':name,'Country':nation,'Rating':rating})\n",
    "df"
   ]
  },
  {
   "cell_type": "markdown",
   "id": "f012bc9c",
   "metadata": {},
   "source": [
    "### Q7 Write a python program to scrape mentioned news details from https://www.cnbc.com/world/?region=world and make data frame\n",
    "\n",
    "**i) Headline**\n"
   ]
  },
  {
   "cell_type": "code",
   "execution_count": 291,
   "id": "e925d46a",
   "metadata": {},
   "outputs": [
    {
     "data": {
      "text/plain": [
       "<Response [200]>"
      ]
     },
     "execution_count": 291,
     "metadata": {},
     "output_type": "execute_result"
    }
   ],
   "source": [
    "link=requests.get(\"https://www.cnbc.com/world/?region=world\")\n",
    "link"
   ]
  },
  {
   "cell_type": "code",
   "execution_count": 292,
   "id": "1573b8f6",
   "metadata": {},
   "outputs": [],
   "source": [
    "soap=BeautifulSoup(link.content)"
   ]
  },
  {
   "cell_type": "code",
   "execution_count": 318,
   "id": "d893281d",
   "metadata": {},
   "outputs": [
    {
     "data": {
      "text/plain": [
       "['Europe stocks markets set for higher open as earnings boost sentiment',\n",
       " \"IMF warns of 'disorderly' house price corrections in Europe as interest rates move higher\",\n",
       " 'CNBC Daily Open: Markets had their best day in three months',\n",
       " \"Microsoft's big bet on cloud gaming is what tripped up Activision takeover\",\n",
       " 'Wall Street predicted a big surge for oil this year. But prices are now lower',\n",
       " 'Obesity drug industry could be worth $200 billion in next decade, Barclays says',\n",
       " 'Swiss National Bank to face Credit Suisse and climate protests at fraught AGM',\n",
       " 'Bank of Japan sticks to negative rates while announcing policy review',\n",
       " \"China's SMIC will 'struggle' to make cutting-edge chips competitively\",\n",
       " \"China just called Ukraine. The timing wasn't accidental, analysts say\",\n",
       " \"This weight-loss drug maker's stock is up 20% this year — and Barclays sees it going higher\",\n",
       " 'Goldman and Morgan Stanley say these chip stocks have more upside ahead of them',\n",
       " 'CNBC Daily Open: Markets had their best day in months',\n",
       " 'Amazon must do more to rein in costs to grow in 2023 ',\n",
       " 'Asia markets rise as Japan keeps monetary policy unchanged, yen weakens',\n",
       " \"Thursday's rally showed the power of stock picking, Jim Cramer says\",\n",
       " 'Stock futures fall slightly as investors digest Amazon, Intel earnings ',\n",
       " 'Stocks making the biggest moves after hours: Amazon, Intel, Snap, Pinterest and more',\n",
       " 'Cloudflare stock plunges more than 20% after revising guidance down',\n",
       " \"Meta pops on 1Q earnings results and guidance. Here's how the pros are playing it\",\n",
       " \"Amazon's 18% cloud revenue growth impresses even as margin narrows\",\n",
       " 'Snap plunges on first-quarter revenue miss',\n",
       " 'Intel reports largest quarterly loss in company history',\n",
       " 'Here’s a full recap of CNBC’s 2023 Stock Draft',\n",
       " \"Powell duped by Russian pranksters claiming to be Ukraine's Volodymyr Zelenskyy\",\n",
       " 'Analysts are raising earnings estimates on these companies reporting next week',\n",
       " \"Here's why the stock market had such a massive rally Thursday \",\n",
       " \"Paramount wants to get moviegoers back to theaters. Here's what it has on deck\",\n",
       " \"Caterpillar, two other Club names report strong Q1. Here's where we stand on each\",\n",
       " \"Wall Street experts still see a recession coming. Here's what they're saying \"]"
      ]
     },
     "execution_count": 318,
     "metadata": {},
     "output_type": "execute_result"
    }
   ],
   "source": [
    "headline=[]\n",
    "for i in soap.find_all('a',class_=\"LatestNews-headline\"):\n",
    "    headline.append(i.text)\n",
    "headline"
   ]
  },
  {
   "cell_type": "code",
   "execution_count": 299,
   "id": "e44b3910",
   "metadata": {},
   "outputs": [
    {
     "data": {
      "text/plain": [
       "30"
      ]
     },
     "execution_count": 299,
     "metadata": {},
     "output_type": "execute_result"
    }
   ],
   "source": [
    "len(headline)"
   ]
  },
  {
   "cell_type": "markdown",
   "id": "3a7a0732",
   "metadata": {},
   "source": [
    "**ii) Time**"
   ]
  },
  {
   "cell_type": "code",
   "execution_count": 297,
   "id": "c77cf260",
   "metadata": {},
   "outputs": [
    {
     "data": {
      "text/plain": [
       "['18 Min Ago',\n",
       " '33 Min Ago',\n",
       " '41 Min Ago',\n",
       " '1 Hour Ago',\n",
       " '1 Hour Ago',\n",
       " '1 Hour Ago',\n",
       " '1 Hour Ago',\n",
       " '2 Hours Ago',\n",
       " '5 Hours Ago',\n",
       " '6 Hours Ago',\n",
       " '6 Hours Ago',\n",
       " '6 Hours Ago',\n",
       " '6 Hours Ago',\n",
       " '7 Hours Ago',\n",
       " '7 Hours Ago',\n",
       " '8 Hours Ago',\n",
       " '8 Hours Ago',\n",
       " '9 Hours Ago',\n",
       " '9 Hours Ago',\n",
       " '10 Hours Ago',\n",
       " '10 Hours Ago',\n",
       " '10 Hours Ago',\n",
       " '10 Hours Ago',\n",
       " '11 Hours Ago',\n",
       " '11 Hours Ago',\n",
       " '11 Hours Ago',\n",
       " '11 Hours Ago',\n",
       " '11 Hours Ago',\n",
       " '11 Hours Ago',\n",
       " '11 Hours Ago']"
      ]
     },
     "execution_count": 297,
     "metadata": {},
     "output_type": "execute_result"
    }
   ],
   "source": [
    "time=[]\n",
    "for i in soap.find_all('time',class_=\"LatestNews-timestamp\"):\n",
    "    time.append(i.text)\n",
    "time"
   ]
  },
  {
   "cell_type": "code",
   "execution_count": 298,
   "id": "2a26aefa",
   "metadata": {},
   "outputs": [
    {
     "data": {
      "text/plain": [
       "30"
      ]
     },
     "execution_count": 298,
     "metadata": {},
     "output_type": "execute_result"
    }
   ],
   "source": [
    "len(time)"
   ]
  },
  {
   "cell_type": "markdown",
   "id": "6c150c4a",
   "metadata": {},
   "source": [
    "\n",
    "**iii) News Link**"
   ]
  },
  {
   "cell_type": "code",
   "execution_count": 317,
   "id": "84bcd8db",
   "metadata": {},
   "outputs": [
    {
     "data": {
      "text/plain": [
       "['https://www.cnbc.com/2023/04/28/european-markets-open-to-close-earnings-data-and-news.html',\n",
       " 'https://www.cnbc.com/2023/04/28/imf-warns-of-disorderly-house-price-corrections-in-europe-amid-high-rates.html',\n",
       " 'https://www.cnbc.com/2023/04/28/stock-markets-markets-had-their-best-day-in-three-months.html',\n",
       " 'https://www.cnbc.com/2023/04/28/microsofts-big-bet-on-cloud-gaming-is-what-tripped-up-activision-deal.html',\n",
       " 'https://www.cnbc.com/2023/04/28/wall-street-predicted-a-big-surge-for-oil-this-year-but-prices-are-now-lower.html',\n",
       " 'https://www.cnbc.com/2023/04/28/obesity-drugs-to-be-worth-200-billion-in-next-10-years-barclays-says.html',\n",
       " 'https://www.cnbc.com/2023/04/28/swiss-national-bank-to-face-credit-suisse-and-climate-protests-at-fraught-agm.html',\n",
       " 'https://www.cnbc.com/2023/04/28/bank-of-japan-policy-decision-kazuo-ueda-first-meeting.html',\n",
       " 'https://www.cnbc.com/2023/04/28/chinas-smic-may-struggle-to-make-cutting-edge-chips-competitively.html',\n",
       " 'https://www.cnbc.com/2023/04/28/why-did-china-just-call-ukraine-analysts-share-their-theories.html',\n",
       " 'https://www.cnbc.com/2023/04/28/this-weight-loss-drug-makers-stock-is-up-20percent-this-year-and-barclays-sees-it-going-higher.html',\n",
       " 'https://www.cnbc.com/2023/04/28/semiconductor-goldman-morgan-stanley-name-chip-stocks-with-upside.html',\n",
       " 'https://www.cnbc.com/2023/04/28/stock-markets-markets-had-their-best-day-in-months.html',\n",
       " 'https://www.cnbc.com/2023/04/27/amazon-must-do-more-to-rein-in-costs-to-keep-growing-in-2023-.html',\n",
       " 'https://www.cnbc.com/2023/04/28/asia-markets-to-rise-as-wall-street-rallies-investors-look-ahead-to-bank-of-japan-policy-meeting.html',\n",
       " 'https://www.cnbc.com/2023/04/27/thursdays-rally-showed-the-power-of-stock-picking-jim-cramer-says.html',\n",
       " 'https://www.cnbc.com/2023/04/27/stock-market-today-live-updates.html',\n",
       " 'https://www.cnbc.com/2023/04/27/stocks-making-the-biggest-moves-after-hours-amazon-intel-snap-pinterest-and-more.html',\n",
       " 'https://www.cnbc.com/2023/04/27/cloudflare-net-q1-earnings-report.html',\n",
       " 'https://www.cnbc.com/2023/04/27/meta-pops-on-guidance-heres-how-the-pros-are-playing-it.html',\n",
       " 'https://www.cnbc.com/2023/04/27/aws-q1-earnings-report-2023.html',\n",
       " 'https://www.cnbc.com/2023/04/27/snap-q1-earnings-report-2023.html',\n",
       " 'https://www.cnbc.com/2023/04/27/intel-intc-earnings-report-q1-2023.html',\n",
       " 'https://www.cnbc.com/2023/04/27/cnbcs-2023-stock-draft-recap-flair-likes-nvidia-mosley-picks-pg.html',\n",
       " 'https://www.cnbc.com/2023/04/27/powell-duped-by-russian-pranksters-claiming-to-be-ukraines-zelenskyy-.html',\n",
       " 'https://www.cnbc.com/2023/04/27/analysts-are-raising-earnings-estimates-on-these-companies.html',\n",
       " 'https://www.cnbc.com/2023/04/27/heres-why-the-stock-market-is-having-such-a-massive-rally-today.html',\n",
       " 'https://www.cnbc.com/2023/04/27/paramount-film-slate-studio-hopes-to-draw-back-moviegoers.html',\n",
       " 'https://www.cnbc.com/2023/04/27/caterpillar-honeywell-linde-report-strong-quarters-heres-our-analysis.html',\n",
       " 'https://www.cnbc.com/2023/04/27/welcome-to-the-recession-most-of-wall-street-still-sees-trouble-ahead-for-the-us-economy.html']"
      ]
     },
     "execution_count": 317,
     "metadata": {},
     "output_type": "execute_result"
    }
   ],
   "source": [
    "News_link=[]\n",
    "for i in soap.find_all('a',class_=\"LatestNews-headline\"):\n",
    "    News_link.append(i.get('href'))\n",
    "News_link"
   ]
  },
  {
   "cell_type": "code",
   "execution_count": 319,
   "id": "7a6b6b05",
   "metadata": {},
   "outputs": [
    {
     "data": {
      "text/plain": [
       "30"
      ]
     },
     "execution_count": 319,
     "metadata": {},
     "output_type": "execute_result"
    }
   ],
   "source": [
    "len(News_link)"
   ]
  },
  {
   "cell_type": "code",
   "execution_count": 320,
   "id": "1a7cfdc1",
   "metadata": {},
   "outputs": [
    {
     "data": {
      "text/html": [
       "<div>\n",
       "<style scoped>\n",
       "    .dataframe tbody tr th:only-of-type {\n",
       "        vertical-align: middle;\n",
       "    }\n",
       "\n",
       "    .dataframe tbody tr th {\n",
       "        vertical-align: top;\n",
       "    }\n",
       "\n",
       "    .dataframe thead th {\n",
       "        text-align: right;\n",
       "    }\n",
       "</style>\n",
       "<table border=\"1\" class=\"dataframe\">\n",
       "  <thead>\n",
       "    <tr style=\"text-align: right;\">\n",
       "      <th></th>\n",
       "      <th>Headlines</th>\n",
       "      <th>Time</th>\n",
       "      <th>New Link</th>\n",
       "    </tr>\n",
       "  </thead>\n",
       "  <tbody>\n",
       "    <tr>\n",
       "      <th>0</th>\n",
       "      <td>Europe stocks markets set for higher open as e...</td>\n",
       "      <td>[18 Min Ago]</td>\n",
       "      <td>https://www.cnbc.com/2023/04/28/european-marke...</td>\n",
       "    </tr>\n",
       "    <tr>\n",
       "      <th>1</th>\n",
       "      <td>IMF warns of 'disorderly' house price correcti...</td>\n",
       "      <td>[33 Min Ago]</td>\n",
       "      <td>https://www.cnbc.com/2023/04/28/imf-warns-of-d...</td>\n",
       "    </tr>\n",
       "    <tr>\n",
       "      <th>2</th>\n",
       "      <td>CNBC Daily Open: Markets had their best day in...</td>\n",
       "      <td>[41 Min Ago]</td>\n",
       "      <td>https://www.cnbc.com/2023/04/28/stock-markets-...</td>\n",
       "    </tr>\n",
       "    <tr>\n",
       "      <th>3</th>\n",
       "      <td>Microsoft's big bet on cloud gaming is what tr...</td>\n",
       "      <td>[1 Hour Ago]</td>\n",
       "      <td>https://www.cnbc.com/2023/04/28/microsofts-big...</td>\n",
       "    </tr>\n",
       "    <tr>\n",
       "      <th>4</th>\n",
       "      <td>Wall Street predicted a big surge for oil this...</td>\n",
       "      <td>[1 Hour Ago]</td>\n",
       "      <td>https://www.cnbc.com/2023/04/28/wall-street-pr...</td>\n",
       "    </tr>\n",
       "    <tr>\n",
       "      <th>5</th>\n",
       "      <td>Obesity drug industry could be worth $200 bill...</td>\n",
       "      <td>[1 Hour Ago]</td>\n",
       "      <td>https://www.cnbc.com/2023/04/28/obesity-drugs-...</td>\n",
       "    </tr>\n",
       "    <tr>\n",
       "      <th>6</th>\n",
       "      <td>Swiss National Bank to face Credit Suisse and ...</td>\n",
       "      <td>[1 Hour Ago]</td>\n",
       "      <td>https://www.cnbc.com/2023/04/28/swiss-national...</td>\n",
       "    </tr>\n",
       "    <tr>\n",
       "      <th>7</th>\n",
       "      <td>Bank of Japan sticks to negative rates while a...</td>\n",
       "      <td>[2 Hours Ago]</td>\n",
       "      <td>https://www.cnbc.com/2023/04/28/bank-of-japan-...</td>\n",
       "    </tr>\n",
       "    <tr>\n",
       "      <th>8</th>\n",
       "      <td>China's SMIC will 'struggle' to make cutting-e...</td>\n",
       "      <td>[5 Hours Ago]</td>\n",
       "      <td>https://www.cnbc.com/2023/04/28/chinas-smic-ma...</td>\n",
       "    </tr>\n",
       "    <tr>\n",
       "      <th>9</th>\n",
       "      <td>China just called Ukraine. The timing wasn't a...</td>\n",
       "      <td>[6 Hours Ago]</td>\n",
       "      <td>https://www.cnbc.com/2023/04/28/why-did-china-...</td>\n",
       "    </tr>\n",
       "    <tr>\n",
       "      <th>10</th>\n",
       "      <td>This weight-loss drug maker's stock is up 20% ...</td>\n",
       "      <td>[6 Hours Ago]</td>\n",
       "      <td>https://www.cnbc.com/2023/04/28/this-weight-lo...</td>\n",
       "    </tr>\n",
       "    <tr>\n",
       "      <th>11</th>\n",
       "      <td>Goldman and Morgan Stanley say these chip stoc...</td>\n",
       "      <td>[6 Hours Ago]</td>\n",
       "      <td>https://www.cnbc.com/2023/04/28/semiconductor-...</td>\n",
       "    </tr>\n",
       "    <tr>\n",
       "      <th>12</th>\n",
       "      <td>CNBC Daily Open: Markets had their best day in...</td>\n",
       "      <td>[6 Hours Ago]</td>\n",
       "      <td>https://www.cnbc.com/2023/04/28/stock-markets-...</td>\n",
       "    </tr>\n",
       "    <tr>\n",
       "      <th>13</th>\n",
       "      <td>Amazon must do more to rein in costs to grow i...</td>\n",
       "      <td>[7 Hours Ago]</td>\n",
       "      <td>https://www.cnbc.com/2023/04/27/amazon-must-do...</td>\n",
       "    </tr>\n",
       "    <tr>\n",
       "      <th>14</th>\n",
       "      <td>Asia markets rise as Japan keeps monetary poli...</td>\n",
       "      <td>[7 Hours Ago]</td>\n",
       "      <td>https://www.cnbc.com/2023/04/28/asia-markets-t...</td>\n",
       "    </tr>\n",
       "    <tr>\n",
       "      <th>15</th>\n",
       "      <td>Thursday's rally showed the power of stock pic...</td>\n",
       "      <td>[8 Hours Ago]</td>\n",
       "      <td>https://www.cnbc.com/2023/04/27/thursdays-rall...</td>\n",
       "    </tr>\n",
       "    <tr>\n",
       "      <th>16</th>\n",
       "      <td>Stock futures fall slightly as investors diges...</td>\n",
       "      <td>[8 Hours Ago]</td>\n",
       "      <td>https://www.cnbc.com/2023/04/27/stock-market-t...</td>\n",
       "    </tr>\n",
       "    <tr>\n",
       "      <th>17</th>\n",
       "      <td>Stocks making the biggest moves after hours: A...</td>\n",
       "      <td>[9 Hours Ago]</td>\n",
       "      <td>https://www.cnbc.com/2023/04/27/stocks-making-...</td>\n",
       "    </tr>\n",
       "    <tr>\n",
       "      <th>18</th>\n",
       "      <td>Cloudflare stock plunges more than 20% after r...</td>\n",
       "      <td>[9 Hours Ago]</td>\n",
       "      <td>https://www.cnbc.com/2023/04/27/cloudflare-net...</td>\n",
       "    </tr>\n",
       "    <tr>\n",
       "      <th>19</th>\n",
       "      <td>Meta pops on 1Q earnings results and guidance....</td>\n",
       "      <td>[10 Hours Ago]</td>\n",
       "      <td>https://www.cnbc.com/2023/04/27/meta-pops-on-g...</td>\n",
       "    </tr>\n",
       "    <tr>\n",
       "      <th>20</th>\n",
       "      <td>Amazon's 18% cloud revenue growth impresses ev...</td>\n",
       "      <td>[10 Hours Ago]</td>\n",
       "      <td>https://www.cnbc.com/2023/04/27/aws-q1-earning...</td>\n",
       "    </tr>\n",
       "    <tr>\n",
       "      <th>21</th>\n",
       "      <td>Snap plunges on first-quarter revenue miss</td>\n",
       "      <td>[10 Hours Ago]</td>\n",
       "      <td>https://www.cnbc.com/2023/04/27/snap-q1-earnin...</td>\n",
       "    </tr>\n",
       "    <tr>\n",
       "      <th>22</th>\n",
       "      <td>Intel reports largest quarterly loss in compan...</td>\n",
       "      <td>[10 Hours Ago]</td>\n",
       "      <td>https://www.cnbc.com/2023/04/27/intel-intc-ear...</td>\n",
       "    </tr>\n",
       "    <tr>\n",
       "      <th>23</th>\n",
       "      <td>Here’s a full recap of CNBC’s 2023 Stock Draft</td>\n",
       "      <td>[11 Hours Ago]</td>\n",
       "      <td>https://www.cnbc.com/2023/04/27/cnbcs-2023-sto...</td>\n",
       "    </tr>\n",
       "    <tr>\n",
       "      <th>24</th>\n",
       "      <td>Powell duped by Russian pranksters claiming to...</td>\n",
       "      <td>[11 Hours Ago]</td>\n",
       "      <td>https://www.cnbc.com/2023/04/27/powell-duped-b...</td>\n",
       "    </tr>\n",
       "    <tr>\n",
       "      <th>25</th>\n",
       "      <td>Analysts are raising earnings estimates on the...</td>\n",
       "      <td>[11 Hours Ago]</td>\n",
       "      <td>https://www.cnbc.com/2023/04/27/analysts-are-r...</td>\n",
       "    </tr>\n",
       "    <tr>\n",
       "      <th>26</th>\n",
       "      <td>Here's why the stock market had such a massive...</td>\n",
       "      <td>[11 Hours Ago]</td>\n",
       "      <td>https://www.cnbc.com/2023/04/27/heres-why-the-...</td>\n",
       "    </tr>\n",
       "    <tr>\n",
       "      <th>27</th>\n",
       "      <td>Paramount wants to get moviegoers back to thea...</td>\n",
       "      <td>[11 Hours Ago]</td>\n",
       "      <td>https://www.cnbc.com/2023/04/27/paramount-film...</td>\n",
       "    </tr>\n",
       "    <tr>\n",
       "      <th>28</th>\n",
       "      <td>Caterpillar, two other Club names report stron...</td>\n",
       "      <td>[11 Hours Ago]</td>\n",
       "      <td>https://www.cnbc.com/2023/04/27/caterpillar-ho...</td>\n",
       "    </tr>\n",
       "    <tr>\n",
       "      <th>29</th>\n",
       "      <td>Wall Street experts still see a recession comi...</td>\n",
       "      <td>[11 Hours Ago]</td>\n",
       "      <td>https://www.cnbc.com/2023/04/27/welcome-to-the...</td>\n",
       "    </tr>\n",
       "  </tbody>\n",
       "</table>\n",
       "</div>"
      ],
      "text/plain": [
       "                                            Headlines            Time  \\\n",
       "0   Europe stocks markets set for higher open as e...    [18 Min Ago]   \n",
       "1   IMF warns of 'disorderly' house price correcti...    [33 Min Ago]   \n",
       "2   CNBC Daily Open: Markets had their best day in...    [41 Min Ago]   \n",
       "3   Microsoft's big bet on cloud gaming is what tr...    [1 Hour Ago]   \n",
       "4   Wall Street predicted a big surge for oil this...    [1 Hour Ago]   \n",
       "5   Obesity drug industry could be worth $200 bill...    [1 Hour Ago]   \n",
       "6   Swiss National Bank to face Credit Suisse and ...    [1 Hour Ago]   \n",
       "7   Bank of Japan sticks to negative rates while a...   [2 Hours Ago]   \n",
       "8   China's SMIC will 'struggle' to make cutting-e...   [5 Hours Ago]   \n",
       "9   China just called Ukraine. The timing wasn't a...   [6 Hours Ago]   \n",
       "10  This weight-loss drug maker's stock is up 20% ...   [6 Hours Ago]   \n",
       "11  Goldman and Morgan Stanley say these chip stoc...   [6 Hours Ago]   \n",
       "12  CNBC Daily Open: Markets had their best day in...   [6 Hours Ago]   \n",
       "13  Amazon must do more to rein in costs to grow i...   [7 Hours Ago]   \n",
       "14  Asia markets rise as Japan keeps monetary poli...   [7 Hours Ago]   \n",
       "15  Thursday's rally showed the power of stock pic...   [8 Hours Ago]   \n",
       "16  Stock futures fall slightly as investors diges...   [8 Hours Ago]   \n",
       "17  Stocks making the biggest moves after hours: A...   [9 Hours Ago]   \n",
       "18  Cloudflare stock plunges more than 20% after r...   [9 Hours Ago]   \n",
       "19  Meta pops on 1Q earnings results and guidance....  [10 Hours Ago]   \n",
       "20  Amazon's 18% cloud revenue growth impresses ev...  [10 Hours Ago]   \n",
       "21         Snap plunges on first-quarter revenue miss  [10 Hours Ago]   \n",
       "22  Intel reports largest quarterly loss in compan...  [10 Hours Ago]   \n",
       "23     Here’s a full recap of CNBC’s 2023 Stock Draft  [11 Hours Ago]   \n",
       "24  Powell duped by Russian pranksters claiming to...  [11 Hours Ago]   \n",
       "25  Analysts are raising earnings estimates on the...  [11 Hours Ago]   \n",
       "26  Here's why the stock market had such a massive...  [11 Hours Ago]   \n",
       "27  Paramount wants to get moviegoers back to thea...  [11 Hours Ago]   \n",
       "28  Caterpillar, two other Club names report stron...  [11 Hours Ago]   \n",
       "29  Wall Street experts still see a recession comi...  [11 Hours Ago]   \n",
       "\n",
       "                                             New Link  \n",
       "0   https://www.cnbc.com/2023/04/28/european-marke...  \n",
       "1   https://www.cnbc.com/2023/04/28/imf-warns-of-d...  \n",
       "2   https://www.cnbc.com/2023/04/28/stock-markets-...  \n",
       "3   https://www.cnbc.com/2023/04/28/microsofts-big...  \n",
       "4   https://www.cnbc.com/2023/04/28/wall-street-pr...  \n",
       "5   https://www.cnbc.com/2023/04/28/obesity-drugs-...  \n",
       "6   https://www.cnbc.com/2023/04/28/swiss-national...  \n",
       "7   https://www.cnbc.com/2023/04/28/bank-of-japan-...  \n",
       "8   https://www.cnbc.com/2023/04/28/chinas-smic-ma...  \n",
       "9   https://www.cnbc.com/2023/04/28/why-did-china-...  \n",
       "10  https://www.cnbc.com/2023/04/28/this-weight-lo...  \n",
       "11  https://www.cnbc.com/2023/04/28/semiconductor-...  \n",
       "12  https://www.cnbc.com/2023/04/28/stock-markets-...  \n",
       "13  https://www.cnbc.com/2023/04/27/amazon-must-do...  \n",
       "14  https://www.cnbc.com/2023/04/28/asia-markets-t...  \n",
       "15  https://www.cnbc.com/2023/04/27/thursdays-rall...  \n",
       "16  https://www.cnbc.com/2023/04/27/stock-market-t...  \n",
       "17  https://www.cnbc.com/2023/04/27/stocks-making-...  \n",
       "18  https://www.cnbc.com/2023/04/27/cloudflare-net...  \n",
       "19  https://www.cnbc.com/2023/04/27/meta-pops-on-g...  \n",
       "20  https://www.cnbc.com/2023/04/27/aws-q1-earning...  \n",
       "21  https://www.cnbc.com/2023/04/27/snap-q1-earnin...  \n",
       "22  https://www.cnbc.com/2023/04/27/intel-intc-ear...  \n",
       "23  https://www.cnbc.com/2023/04/27/cnbcs-2023-sto...  \n",
       "24  https://www.cnbc.com/2023/04/27/powell-duped-b...  \n",
       "25  https://www.cnbc.com/2023/04/27/analysts-are-r...  \n",
       "26  https://www.cnbc.com/2023/04/27/heres-why-the-...  \n",
       "27  https://www.cnbc.com/2023/04/27/paramount-film...  \n",
       "28  https://www.cnbc.com/2023/04/27/caterpillar-ho...  \n",
       "29  https://www.cnbc.com/2023/04/27/welcome-to-the...  "
      ]
     },
     "execution_count": 320,
     "metadata": {},
     "output_type": "execute_result"
    }
   ],
   "source": [
    "df=pd.DataFrame({'Headlines':headline,'Time':time,'New Link':News_link})\n",
    "df"
   ]
  },
  {
   "cell_type": "markdown",
   "id": "8624af01",
   "metadata": {},
   "source": [
    "### Q8 Write a python program to scrape the details of most downloaded articles from AI in last  90days.https://www.journals.elsevier.com/artificial-intelligence/most-downloaded-articles Scrape below mentioned details and make data frame\n"
   ]
  },
  {
   "cell_type": "code",
   "execution_count": 321,
   "id": "050dc252",
   "metadata": {},
   "outputs": [
    {
     "data": {
      "text/plain": [
       "<Response [200]>"
      ]
     },
     "execution_count": 321,
     "metadata": {},
     "output_type": "execute_result"
    }
   ],
   "source": [
    "link=requests.get(\"https://www.journals.elsevier.com/artificial-intelligence/most-downloaded-articles\")\n",
    "link"
   ]
  },
  {
   "cell_type": "code",
   "execution_count": 322,
   "id": "81c2f87c",
   "metadata": {},
   "outputs": [],
   "source": [
    "soap=BeautifulSoup(link.content)"
   ]
  },
  {
   "cell_type": "markdown",
   "id": "adc28043",
   "metadata": {},
   "source": [
    "**i) Paper Title**\n"
   ]
  },
  {
   "cell_type": "code",
   "execution_count": 337,
   "id": "1f4f0142",
   "metadata": {},
   "outputs": [
    {
     "data": {
      "text/plain": [
       "['Reward is enough',\n",
       " 'Making sense of raw input',\n",
       " 'Law and logic: A review from an argumentation perspective',\n",
       " 'Creativity and artificial intelligence',\n",
       " 'Artificial cognition for social human–robot interaction: An implementation',\n",
       " 'Explanation in artificial intelligence: Insights from the social sciences',\n",
       " 'Making sense of sensory input',\n",
       " 'Conflict-based search for optimal multi-agent pathfinding',\n",
       " 'Between MDPs and semi-MDPs: A framework for temporal abstraction in reinforcement learning',\n",
       " 'The Hanabi challenge: A new frontier for AI research',\n",
       " 'Evaluating XAI: A comparison of rule-based and example-based explanations',\n",
       " 'Argumentation in artificial intelligence',\n",
       " 'Algorithms for computing strategies in two-player simultaneous move games',\n",
       " 'Multiple object tracking: A literature review',\n",
       " 'Selection of relevant features and examples in machine learning',\n",
       " 'A survey of inverse reinforcement learning: Challenges, methods and progress',\n",
       " 'Explaining individual predictions when features are dependent: More accurate approximations to Shapley values',\n",
       " 'A review of possible effects of cognitive biases on interpretation of rule-based machine learning models',\n",
       " 'Integrating social power into the decision-making of cognitive agents',\n",
       " \"“That's (not) the output I expected!” On the role of end user expectations in creating explanations of AI systems\",\n",
       " 'Explaining black-box classifiers using post-hoc explanations-by-example: The effect of explanations and error-rates in XAI user studies',\n",
       " 'Algorithm runtime prediction: Methods & evaluation',\n",
       " 'Wrappers for feature subset selection',\n",
       " 'Commonsense visual sensemaking for autonomous driving – On generalised neurosymbolic online abduction integrating vision and semantics',\n",
       " 'Quantum computation, quantum theory and AI']"
      ]
     },
     "execution_count": 337,
     "metadata": {},
     "output_type": "execute_result"
    }
   ],
   "source": [
    "Title=[]\n",
    "for i in soap.find_all('h2',class_=\"sc-1qrq3sd-1 gRGSUS sc-1nmom32-0 sc-1nmom32-1 btcbYu goSKRg\"):\n",
    "    Title.append(i.text)\n",
    "Title"
   ]
  },
  {
   "cell_type": "code",
   "execution_count": 324,
   "id": "5c0ef55f",
   "metadata": {},
   "outputs": [
    {
     "data": {
      "text/plain": [
       "25"
      ]
     },
     "execution_count": 324,
     "metadata": {},
     "output_type": "execute_result"
    }
   ],
   "source": [
    "len(Title)"
   ]
  },
  {
   "cell_type": "markdown",
   "id": "e96bfcd6",
   "metadata": {},
   "source": [
    "**ii) Authors**\n"
   ]
  },
  {
   "cell_type": "code",
   "execution_count": 325,
   "id": "2ea6925b",
   "metadata": {},
   "outputs": [
    {
     "data": {
      "text/plain": [
       "['Silver, David, Singh, Satinder, Precup, Doina, Sutton, Richard S. ',\n",
       " 'Evans, Richard, Bošnjak, Matko and 5 more',\n",
       " 'Prakken, Henry, Sartor, Giovanni ',\n",
       " 'Boden, Margaret A. ',\n",
       " 'Lemaignan, Séverin, Warnier, Mathieu and 3 more',\n",
       " 'Miller, Tim ',\n",
       " 'Evans, Richard, Hernández-Orallo, José and 3 more',\n",
       " 'Sharon, Guni, Stern, Roni, Felner, Ariel, Sturtevant, Nathan R. ',\n",
       " 'Sutton, Richard S., Precup, Doina, Singh, Satinder ',\n",
       " 'Bard, Nolan, Foerster, Jakob N. and 13 more',\n",
       " 'van der Waa, Jasper, Nieuwburg, Elisabeth, Cremers, Anita, Neerincx, Mark ',\n",
       " 'Bench-Capon, T.J.M., Dunne, Paul E. ',\n",
       " 'Bošanský, Branislav, Lisý, Viliam and 3 more',\n",
       " 'Luo, Wenhan, Xing, Junliang and 4 more',\n",
       " 'Blum, Avrim L., Langley, Pat ',\n",
       " 'Arora, Saurabh, Doshi, Prashant ',\n",
       " 'Aas, Kjersti, Jullum, Martin, Løland, Anders ',\n",
       " 'Kliegr, Tomáš, Bahník, Štěpán, Fürnkranz, Johannes ',\n",
       " 'Pereira, Gonçalo, Prada, Rui, Santos, Pedro A. ',\n",
       " 'Riveiro, Maria, Thill, Serge ',\n",
       " 'Kenny, Eoin M., Ford, Courtney, Quinn, Molly, Keane, Mark T. ',\n",
       " 'Hutter, Frank, Xu, Lin, Hoos, Holger H., Leyton-Brown, Kevin ',\n",
       " 'Kohavi, Ron, John, George H. ',\n",
       " 'Suchan, Jakob, Bhatt, Mehul, Varadarajan, Srikrishna ',\n",
       " 'Ying, Mingsheng ']"
      ]
     },
     "execution_count": 325,
     "metadata": {},
     "output_type": "execute_result"
    }
   ],
   "source": [
    "Author=[]\n",
    "for i in soap.find_all('span',class_=\"sc-1w3fpd7-0 dnCnAO\"):\n",
    "    Author.append(i.text)\n",
    "Author"
   ]
  },
  {
   "cell_type": "code",
   "execution_count": 326,
   "id": "4f74dffb",
   "metadata": {},
   "outputs": [
    {
     "data": {
      "text/plain": [
       "25"
      ]
     },
     "execution_count": 326,
     "metadata": {},
     "output_type": "execute_result"
    }
   ],
   "source": [
    "len(Author)"
   ]
  },
  {
   "cell_type": "markdown",
   "id": "7246ccae",
   "metadata": {},
   "source": [
    "**iii) Published Date**\n"
   ]
  },
  {
   "cell_type": "code",
   "execution_count": 327,
   "id": "ee019912",
   "metadata": {},
   "outputs": [
    {
     "data": {
      "text/plain": [
       "['October 2021',\n",
       " 'October 2021',\n",
       " 'October 2015',\n",
       " 'August 1998',\n",
       " 'June 2017',\n",
       " 'February 2019',\n",
       " 'April 2021',\n",
       " 'February 2015',\n",
       " 'August 1999',\n",
       " 'March 2020',\n",
       " 'February 2021',\n",
       " 'October 2007',\n",
       " 'August 2016',\n",
       " 'April 2021',\n",
       " 'December 1997',\n",
       " 'August 2021',\n",
       " 'September 2021',\n",
       " 'June 2021',\n",
       " 'December 2016',\n",
       " 'September 2021',\n",
       " 'May 2021',\n",
       " 'January 2014',\n",
       " 'December 1997',\n",
       " 'October 2021',\n",
       " 'February 2010']"
      ]
     },
     "execution_count": 327,
     "metadata": {},
     "output_type": "execute_result"
    }
   ],
   "source": [
    "Publish_Date=[]\n",
    "for i in soap.find_all('span',class_=\"sc-1thf9ly-2 dvggWt\"):\n",
    "    Publish_Date.append(i.text)\n",
    "Publish_Date"
   ]
  },
  {
   "cell_type": "code",
   "execution_count": 328,
   "id": "11750c3f",
   "metadata": {},
   "outputs": [
    {
     "data": {
      "text/plain": [
       "25"
      ]
     },
     "execution_count": 328,
     "metadata": {},
     "output_type": "execute_result"
    }
   ],
   "source": [
    "len(Publish_Date)"
   ]
  },
  {
   "cell_type": "markdown",
   "id": "58909673",
   "metadata": {},
   "source": [
    "**iv) Paper URL**"
   ]
  },
  {
   "cell_type": "code",
   "execution_count": 334,
   "id": "96d4a504",
   "metadata": {},
   "outputs": [
    {
     "data": {
      "text/plain": [
       "['https://www.sciencedirect.com/science/article/pii/S0004370221000862',\n",
       " 'https://www.sciencedirect.com/science/article/pii/S0004370221000722',\n",
       " 'https://www.sciencedirect.com/science/article/pii/S0004370215000910',\n",
       " 'https://www.sciencedirect.com/science/article/pii/S0004370298000551',\n",
       " 'https://www.sciencedirect.com/science/article/pii/S0004370216300790',\n",
       " 'https://www.sciencedirect.com/science/article/pii/S0004370218305988',\n",
       " 'https://www.sciencedirect.com/science/article/pii/S0004370220301855',\n",
       " 'https://www.sciencedirect.com/science/article/pii/S0004370214001386',\n",
       " 'https://www.sciencedirect.com/science/article/pii/S0004370299000521',\n",
       " 'https://www.sciencedirect.com/science/article/pii/S0004370219300116',\n",
       " 'https://www.sciencedirect.com/science/article/pii/S0004370220301533',\n",
       " 'https://www.sciencedirect.com/science/article/pii/S0004370207000793',\n",
       " 'https://www.sciencedirect.com/science/article/pii/S0004370216300285',\n",
       " 'https://www.sciencedirect.com/science/article/pii/S0004370220301958',\n",
       " 'https://www.sciencedirect.com/science/article/pii/S0004370297000635',\n",
       " 'https://www.sciencedirect.com/science/article/pii/S0004370221000515',\n",
       " 'https://www.sciencedirect.com/science/article/pii/S0004370221000539',\n",
       " 'https://www.sciencedirect.com/science/article/pii/S0004370221000096',\n",
       " 'https://www.sciencedirect.com/science/article/pii/S0004370216300868',\n",
       " 'https://www.sciencedirect.com/science/article/pii/S0004370221000588',\n",
       " 'https://www.sciencedirect.com/science/article/pii/S0004370221000102',\n",
       " 'https://www.sciencedirect.com/science/article/pii/S0004370213001082',\n",
       " 'https://www.sciencedirect.com/science/article/pii/S000437029700043X',\n",
       " 'https://www.sciencedirect.com/science/article/pii/S0004370221000734',\n",
       " 'https://www.sciencedirect.com/science/article/pii/S0004370209001398']"
      ]
     },
     "execution_count": 334,
     "metadata": {},
     "output_type": "execute_result"
    }
   ],
   "source": [
    "Url=[]\n",
    "for i in soap.find_all('a',class_=\"sc-5smygv-0 fIXTHm\"):\n",
    "    Url.append(i.get('href'))\n",
    "Url"
   ]
  },
  {
   "cell_type": "code",
   "execution_count": 333,
   "id": "874bff66",
   "metadata": {},
   "outputs": [
    {
     "data": {
      "text/plain": [
       "25"
      ]
     },
     "execution_count": 333,
     "metadata": {},
     "output_type": "execute_result"
    }
   ],
   "source": [
    "len(URL)"
   ]
  },
  {
   "cell_type": "code",
   "execution_count": 338,
   "id": "ed151ea9",
   "metadata": {},
   "outputs": [
    {
     "data": {
      "text/html": [
       "<div>\n",
       "<style scoped>\n",
       "    .dataframe tbody tr th:only-of-type {\n",
       "        vertical-align: middle;\n",
       "    }\n",
       "\n",
       "    .dataframe tbody tr th {\n",
       "        vertical-align: top;\n",
       "    }\n",
       "\n",
       "    .dataframe thead th {\n",
       "        text-align: right;\n",
       "    }\n",
       "</style>\n",
       "<table border=\"1\" class=\"dataframe\">\n",
       "  <thead>\n",
       "    <tr style=\"text-align: right;\">\n",
       "      <th></th>\n",
       "      <th>Paper Title</th>\n",
       "      <th>Authors</th>\n",
       "      <th>Publised Date</th>\n",
       "      <th>Paper URL</th>\n",
       "    </tr>\n",
       "  </thead>\n",
       "  <tbody>\n",
       "    <tr>\n",
       "      <th>0</th>\n",
       "      <td>Reward is enough</td>\n",
       "      <td>Silver, David, Singh, Satinder, Precup, Doina,...</td>\n",
       "      <td>October 2021</td>\n",
       "      <td>https://www.sciencedirect.com/science/article/...</td>\n",
       "    </tr>\n",
       "    <tr>\n",
       "      <th>1</th>\n",
       "      <td>Making sense of raw input</td>\n",
       "      <td>Evans, Richard, Bošnjak, Matko and 5 more</td>\n",
       "      <td>October 2021</td>\n",
       "      <td>https://www.sciencedirect.com/science/article/...</td>\n",
       "    </tr>\n",
       "    <tr>\n",
       "      <th>2</th>\n",
       "      <td>Law and logic: A review from an argumentation ...</td>\n",
       "      <td>Prakken, Henry, Sartor, Giovanni</td>\n",
       "      <td>October 2015</td>\n",
       "      <td>https://www.sciencedirect.com/science/article/...</td>\n",
       "    </tr>\n",
       "    <tr>\n",
       "      <th>3</th>\n",
       "      <td>Creativity and artificial intelligence</td>\n",
       "      <td>Boden, Margaret A.</td>\n",
       "      <td>August 1998</td>\n",
       "      <td>https://www.sciencedirect.com/science/article/...</td>\n",
       "    </tr>\n",
       "    <tr>\n",
       "      <th>4</th>\n",
       "      <td>Artificial cognition for social human–robot in...</td>\n",
       "      <td>Lemaignan, Séverin, Warnier, Mathieu and 3 more</td>\n",
       "      <td>June 2017</td>\n",
       "      <td>https://www.sciencedirect.com/science/article/...</td>\n",
       "    </tr>\n",
       "    <tr>\n",
       "      <th>5</th>\n",
       "      <td>Explanation in artificial intelligence: Insigh...</td>\n",
       "      <td>Miller, Tim</td>\n",
       "      <td>February 2019</td>\n",
       "      <td>https://www.sciencedirect.com/science/article/...</td>\n",
       "    </tr>\n",
       "    <tr>\n",
       "      <th>6</th>\n",
       "      <td>Making sense of sensory input</td>\n",
       "      <td>Evans, Richard, Hernández-Orallo, José and 3 more</td>\n",
       "      <td>April 2021</td>\n",
       "      <td>https://www.sciencedirect.com/science/article/...</td>\n",
       "    </tr>\n",
       "    <tr>\n",
       "      <th>7</th>\n",
       "      <td>Conflict-based search for optimal multi-agent ...</td>\n",
       "      <td>Sharon, Guni, Stern, Roni, Felner, Ariel, Stur...</td>\n",
       "      <td>February 2015</td>\n",
       "      <td>https://www.sciencedirect.com/science/article/...</td>\n",
       "    </tr>\n",
       "    <tr>\n",
       "      <th>8</th>\n",
       "      <td>Between MDPs and semi-MDPs: A framework for te...</td>\n",
       "      <td>Sutton, Richard S., Precup, Doina, Singh, Sati...</td>\n",
       "      <td>August 1999</td>\n",
       "      <td>https://www.sciencedirect.com/science/article/...</td>\n",
       "    </tr>\n",
       "    <tr>\n",
       "      <th>9</th>\n",
       "      <td>The Hanabi challenge: A new frontier for AI re...</td>\n",
       "      <td>Bard, Nolan, Foerster, Jakob N. and 13 more</td>\n",
       "      <td>March 2020</td>\n",
       "      <td>https://www.sciencedirect.com/science/article/...</td>\n",
       "    </tr>\n",
       "    <tr>\n",
       "      <th>10</th>\n",
       "      <td>Evaluating XAI: A comparison of rule-based and...</td>\n",
       "      <td>van der Waa, Jasper, Nieuwburg, Elisabeth, Cre...</td>\n",
       "      <td>February 2021</td>\n",
       "      <td>https://www.sciencedirect.com/science/article/...</td>\n",
       "    </tr>\n",
       "    <tr>\n",
       "      <th>11</th>\n",
       "      <td>Argumentation in artificial intelligence</td>\n",
       "      <td>Bench-Capon, T.J.M., Dunne, Paul E.</td>\n",
       "      <td>October 2007</td>\n",
       "      <td>https://www.sciencedirect.com/science/article/...</td>\n",
       "    </tr>\n",
       "    <tr>\n",
       "      <th>12</th>\n",
       "      <td>Algorithms for computing strategies in two-pla...</td>\n",
       "      <td>Bošanský, Branislav, Lisý, Viliam and 3 more</td>\n",
       "      <td>August 2016</td>\n",
       "      <td>https://www.sciencedirect.com/science/article/...</td>\n",
       "    </tr>\n",
       "    <tr>\n",
       "      <th>13</th>\n",
       "      <td>Multiple object tracking: A literature review</td>\n",
       "      <td>Luo, Wenhan, Xing, Junliang and 4 more</td>\n",
       "      <td>April 2021</td>\n",
       "      <td>https://www.sciencedirect.com/science/article/...</td>\n",
       "    </tr>\n",
       "    <tr>\n",
       "      <th>14</th>\n",
       "      <td>Selection of relevant features and examples in...</td>\n",
       "      <td>Blum, Avrim L., Langley, Pat</td>\n",
       "      <td>December 1997</td>\n",
       "      <td>https://www.sciencedirect.com/science/article/...</td>\n",
       "    </tr>\n",
       "    <tr>\n",
       "      <th>15</th>\n",
       "      <td>A survey of inverse reinforcement learning: Ch...</td>\n",
       "      <td>Arora, Saurabh, Doshi, Prashant</td>\n",
       "      <td>August 2021</td>\n",
       "      <td>https://www.sciencedirect.com/science/article/...</td>\n",
       "    </tr>\n",
       "    <tr>\n",
       "      <th>16</th>\n",
       "      <td>Explaining individual predictions when feature...</td>\n",
       "      <td>Aas, Kjersti, Jullum, Martin, Løland, Anders</td>\n",
       "      <td>September 2021</td>\n",
       "      <td>https://www.sciencedirect.com/science/article/...</td>\n",
       "    </tr>\n",
       "    <tr>\n",
       "      <th>17</th>\n",
       "      <td>A review of possible effects of cognitive bias...</td>\n",
       "      <td>Kliegr, Tomáš, Bahník, Štěpán, Fürnkranz, Joha...</td>\n",
       "      <td>June 2021</td>\n",
       "      <td>https://www.sciencedirect.com/science/article/...</td>\n",
       "    </tr>\n",
       "    <tr>\n",
       "      <th>18</th>\n",
       "      <td>Integrating social power into the decision-mak...</td>\n",
       "      <td>Pereira, Gonçalo, Prada, Rui, Santos, Pedro A.</td>\n",
       "      <td>December 2016</td>\n",
       "      <td>https://www.sciencedirect.com/science/article/...</td>\n",
       "    </tr>\n",
       "    <tr>\n",
       "      <th>19</th>\n",
       "      <td>“That's (not) the output I expected!” On the r...</td>\n",
       "      <td>Riveiro, Maria, Thill, Serge</td>\n",
       "      <td>September 2021</td>\n",
       "      <td>https://www.sciencedirect.com/science/article/...</td>\n",
       "    </tr>\n",
       "    <tr>\n",
       "      <th>20</th>\n",
       "      <td>Explaining black-box classifiers using post-ho...</td>\n",
       "      <td>Kenny, Eoin M., Ford, Courtney, Quinn, Molly, ...</td>\n",
       "      <td>May 2021</td>\n",
       "      <td>https://www.sciencedirect.com/science/article/...</td>\n",
       "    </tr>\n",
       "    <tr>\n",
       "      <th>21</th>\n",
       "      <td>Algorithm runtime prediction: Methods &amp; evalua...</td>\n",
       "      <td>Hutter, Frank, Xu, Lin, Hoos, Holger H., Leyto...</td>\n",
       "      <td>January 2014</td>\n",
       "      <td>https://www.sciencedirect.com/science/article/...</td>\n",
       "    </tr>\n",
       "    <tr>\n",
       "      <th>22</th>\n",
       "      <td>Wrappers for feature subset selection</td>\n",
       "      <td>Kohavi, Ron, John, George H.</td>\n",
       "      <td>December 1997</td>\n",
       "      <td>https://www.sciencedirect.com/science/article/...</td>\n",
       "    </tr>\n",
       "    <tr>\n",
       "      <th>23</th>\n",
       "      <td>Commonsense visual sensemaking for autonomous ...</td>\n",
       "      <td>Suchan, Jakob, Bhatt, Mehul, Varadarajan, Srik...</td>\n",
       "      <td>October 2021</td>\n",
       "      <td>https://www.sciencedirect.com/science/article/...</td>\n",
       "    </tr>\n",
       "    <tr>\n",
       "      <th>24</th>\n",
       "      <td>Quantum computation, quantum theory and AI</td>\n",
       "      <td>Ying, Mingsheng</td>\n",
       "      <td>February 2010</td>\n",
       "      <td>https://www.sciencedirect.com/science/article/...</td>\n",
       "    </tr>\n",
       "  </tbody>\n",
       "</table>\n",
       "</div>"
      ],
      "text/plain": [
       "                                          Paper Title  \\\n",
       "0                                    Reward is enough   \n",
       "1                           Making sense of raw input   \n",
       "2   Law and logic: A review from an argumentation ...   \n",
       "3              Creativity and artificial intelligence   \n",
       "4   Artificial cognition for social human–robot in...   \n",
       "5   Explanation in artificial intelligence: Insigh...   \n",
       "6                       Making sense of sensory input   \n",
       "7   Conflict-based search for optimal multi-agent ...   \n",
       "8   Between MDPs and semi-MDPs: A framework for te...   \n",
       "9   The Hanabi challenge: A new frontier for AI re...   \n",
       "10  Evaluating XAI: A comparison of rule-based and...   \n",
       "11           Argumentation in artificial intelligence   \n",
       "12  Algorithms for computing strategies in two-pla...   \n",
       "13      Multiple object tracking: A literature review   \n",
       "14  Selection of relevant features and examples in...   \n",
       "15  A survey of inverse reinforcement learning: Ch...   \n",
       "16  Explaining individual predictions when feature...   \n",
       "17  A review of possible effects of cognitive bias...   \n",
       "18  Integrating social power into the decision-mak...   \n",
       "19  “That's (not) the output I expected!” On the r...   \n",
       "20  Explaining black-box classifiers using post-ho...   \n",
       "21  Algorithm runtime prediction: Methods & evalua...   \n",
       "22              Wrappers for feature subset selection   \n",
       "23  Commonsense visual sensemaking for autonomous ...   \n",
       "24         Quantum computation, quantum theory and AI   \n",
       "\n",
       "                                              Authors   Publised Date  \\\n",
       "0   Silver, David, Singh, Satinder, Precup, Doina,...    October 2021   \n",
       "1           Evans, Richard, Bošnjak, Matko and 5 more    October 2021   \n",
       "2                   Prakken, Henry, Sartor, Giovanni     October 2015   \n",
       "3                                 Boden, Margaret A.      August 1998   \n",
       "4     Lemaignan, Séverin, Warnier, Mathieu and 3 more       June 2017   \n",
       "5                                        Miller, Tim    February 2019   \n",
       "6   Evans, Richard, Hernández-Orallo, José and 3 more      April 2021   \n",
       "7   Sharon, Guni, Stern, Roni, Felner, Ariel, Stur...   February 2015   \n",
       "8   Sutton, Richard S., Precup, Doina, Singh, Sati...     August 1999   \n",
       "9         Bard, Nolan, Foerster, Jakob N. and 13 more      March 2020   \n",
       "10  van der Waa, Jasper, Nieuwburg, Elisabeth, Cre...   February 2021   \n",
       "11               Bench-Capon, T.J.M., Dunne, Paul E.     October 2007   \n",
       "12       Bošanský, Branislav, Lisý, Viliam and 3 more     August 2016   \n",
       "13             Luo, Wenhan, Xing, Junliang and 4 more      April 2021   \n",
       "14                      Blum, Avrim L., Langley, Pat    December 1997   \n",
       "15                   Arora, Saurabh, Doshi, Prashant      August 2021   \n",
       "16      Aas, Kjersti, Jullum, Martin, Løland, Anders   September 2021   \n",
       "17  Kliegr, Tomáš, Bahník, Štěpán, Fürnkranz, Joha...       June 2021   \n",
       "18    Pereira, Gonçalo, Prada, Rui, Santos, Pedro A.    December 2016   \n",
       "19                      Riveiro, Maria, Thill, Serge   September 2021   \n",
       "20  Kenny, Eoin M., Ford, Courtney, Quinn, Molly, ...        May 2021   \n",
       "21  Hutter, Frank, Xu, Lin, Hoos, Holger H., Leyto...    January 2014   \n",
       "22                      Kohavi, Ron, John, George H.    December 1997   \n",
       "23  Suchan, Jakob, Bhatt, Mehul, Varadarajan, Srik...    October 2021   \n",
       "24                                   Ying, Mingsheng    February 2010   \n",
       "\n",
       "                                            Paper URL  \n",
       "0   https://www.sciencedirect.com/science/article/...  \n",
       "1   https://www.sciencedirect.com/science/article/...  \n",
       "2   https://www.sciencedirect.com/science/article/...  \n",
       "3   https://www.sciencedirect.com/science/article/...  \n",
       "4   https://www.sciencedirect.com/science/article/...  \n",
       "5   https://www.sciencedirect.com/science/article/...  \n",
       "6   https://www.sciencedirect.com/science/article/...  \n",
       "7   https://www.sciencedirect.com/science/article/...  \n",
       "8   https://www.sciencedirect.com/science/article/...  \n",
       "9   https://www.sciencedirect.com/science/article/...  \n",
       "10  https://www.sciencedirect.com/science/article/...  \n",
       "11  https://www.sciencedirect.com/science/article/...  \n",
       "12  https://www.sciencedirect.com/science/article/...  \n",
       "13  https://www.sciencedirect.com/science/article/...  \n",
       "14  https://www.sciencedirect.com/science/article/...  \n",
       "15  https://www.sciencedirect.com/science/article/...  \n",
       "16  https://www.sciencedirect.com/science/article/...  \n",
       "17  https://www.sciencedirect.com/science/article/...  \n",
       "18  https://www.sciencedirect.com/science/article/...  \n",
       "19  https://www.sciencedirect.com/science/article/...  \n",
       "20  https://www.sciencedirect.com/science/article/...  \n",
       "21  https://www.sciencedirect.com/science/article/...  \n",
       "22  https://www.sciencedirect.com/science/article/...  \n",
       "23  https://www.sciencedirect.com/science/article/...  \n",
       "24  https://www.sciencedirect.com/science/article/...  "
      ]
     },
     "execution_count": 338,
     "metadata": {},
     "output_type": "execute_result"
    }
   ],
   "source": [
    "df=pd.DataFrame({\"Paper Title\":Title,'Authors':Author,'Publised Date':Publish_Date,'Paper URL':Url})\n",
    "df"
   ]
  },
  {
   "cell_type": "markdown",
   "id": "778c6ac1",
   "metadata": {},
   "source": [
    "### Q9 Write a python program to scrape mentioned details from dineout.co.in and make data frame\n"
   ]
  },
  {
   "cell_type": "code",
   "execution_count": 339,
   "id": "e2b9b9cf",
   "metadata": {},
   "outputs": [
    {
     "data": {
      "text/plain": [
       "<Response [200]>"
      ]
     },
     "execution_count": 339,
     "metadata": {},
     "output_type": "execute_result"
    }
   ],
   "source": [
    "link=requests.get('https://www.dineout.co.in/delhi-restaurants/buffet-special')\n",
    "link"
   ]
  },
  {
   "cell_type": "code",
   "execution_count": 340,
   "id": "e580f213",
   "metadata": {},
   "outputs": [],
   "source": [
    "soap=BeautifulSoup(link.content)"
   ]
  },
  {
   "cell_type": "markdown",
   "id": "ca7f1aa7",
   "metadata": {},
   "source": [
    "**i) Restaurant name**\n"
   ]
  },
  {
   "cell_type": "code",
   "execution_count": 342,
   "id": "b2a2909a",
   "metadata": {},
   "outputs": [
    {
     "data": {
      "text/plain": [
       "['Castle Barbeque',\n",
       " 'Jungle Jamboree',\n",
       " 'Cafe Knosh',\n",
       " 'Castle Barbeque',\n",
       " 'The Barbeque Company',\n",
       " 'India Grill',\n",
       " 'Delhi Barbeque',\n",
       " 'The Monarch - Bar Be Que Village',\n",
       " 'Indian Grill Room']"
      ]
     },
     "execution_count": 342,
     "metadata": {},
     "output_type": "execute_result"
    }
   ],
   "source": [
    "Restaurant_name=[]\n",
    "for i in soap.find_all('a',class_=\"restnt-name ellipsis\"):\n",
    "    Restaurant_name.append(i.text)\n",
    "Restaurant_name"
   ]
  },
  {
   "cell_type": "code",
   "execution_count": 343,
   "id": "2f7af4f0",
   "metadata": {},
   "outputs": [
    {
     "data": {
      "text/plain": [
       "9"
      ]
     },
     "execution_count": 343,
     "metadata": {},
     "output_type": "execute_result"
    }
   ],
   "source": [
    "len(Restaurant_name)"
   ]
  },
  {
   "cell_type": "markdown",
   "id": "01a0d457",
   "metadata": {},
   "source": [
    "**ii) Cuisine**"
   ]
  },
  {
   "cell_type": "code",
   "execution_count": 344,
   "id": "215f00fa",
   "metadata": {},
   "outputs": [
    {
     "data": {
      "text/plain": [
       "[' Chinese, North Indian',\n",
       " ' North Indian, Asian, Italian',\n",
       " ' Italian, Continental1 deal available',\n",
       " ' Chinese, North Indian',\n",
       " ' North Indian, Chinese',\n",
       " ' North Indian, Italian',\n",
       " ' North Indian',\n",
       " ' North Indian',\n",
       " ' North Indian, Mughlai']"
      ]
     },
     "execution_count": 344,
     "metadata": {},
     "output_type": "execute_result"
    }
   ],
   "source": [
    "Cuisine=[]\n",
    "for i in soap.find_all('div',class_=\"detail-info\"):\n",
    "    Cuisine.append(i.text.split('|')[1])\n",
    "Cuisine"
   ]
  },
  {
   "cell_type": "code",
   "execution_count": 345,
   "id": "b419bd13",
   "metadata": {},
   "outputs": [
    {
     "data": {
      "text/plain": [
       "9"
      ]
     },
     "execution_count": 345,
     "metadata": {},
     "output_type": "execute_result"
    }
   ],
   "source": [
    "len(Cuisine)"
   ]
  },
  {
   "cell_type": "markdown",
   "id": "00e2330b",
   "metadata": {},
   "source": [
    "**iii) Location**"
   ]
  },
  {
   "cell_type": "code",
   "execution_count": 346,
   "id": "4ebeada4",
   "metadata": {},
   "outputs": [
    {
     "data": {
      "text/plain": [
       "['Connaught Place, Central Delhi',\n",
       " '3CS Mall,Lajpat Nagar - 3, South Delhi',\n",
       " 'The Leela Ambience Convention Hotel,Shahdara, East Delhi',\n",
       " 'Pacific Mall,Tagore Garden, West Delhi',\n",
       " 'Gardens Galleria,Sector 38A, Noida',\n",
       " 'Hilton Garden Inn,Saket, South Delhi',\n",
       " 'Taurus Sarovar Portico,Mahipalpur, South Delhi',\n",
       " 'Indirapuram Habitat Centre,Indirapuram, Ghaziabad',\n",
       " 'Suncity Business Tower,Golf Course Road, Gurgaon']"
      ]
     },
     "execution_count": 346,
     "metadata": {},
     "output_type": "execute_result"
    }
   ],
   "source": [
    "Location=[]\n",
    "for i in soap.find_all('div',class_=\"restnt-loc ellipsis\"):\n",
    "    Location.append(i.text)\n",
    "Location"
   ]
  },
  {
   "cell_type": "code",
   "execution_count": 348,
   "id": "90059464",
   "metadata": {},
   "outputs": [
    {
     "data": {
      "text/plain": [
       "9"
      ]
     },
     "execution_count": 348,
     "metadata": {},
     "output_type": "execute_result"
    }
   ],
   "source": [
    "len(Location)"
   ]
  },
  {
   "cell_type": "markdown",
   "id": "a13db7d4",
   "metadata": {},
   "source": [
    "**iv) Ratings**"
   ]
  },
  {
   "cell_type": "code",
   "execution_count": 349,
   "id": "c90d0d87",
   "metadata": {},
   "outputs": [
    {
     "data": {
      "text/plain": [
       "['4', '3.9', '4.3', '3.9', '3.9', '3.9', '3.7', '3.8', '4.3']"
      ]
     },
     "execution_count": 349,
     "metadata": {},
     "output_type": "execute_result"
    }
   ],
   "source": [
    "Rating=[]\n",
    "for i in soap.find_all('div',class_=\"restnt-rating rating-4\"):\n",
    "    Rating.append(i.text)\n",
    "Rating"
   ]
  },
  {
   "cell_type": "code",
   "execution_count": 350,
   "id": "c37ef4b5",
   "metadata": {},
   "outputs": [
    {
     "data": {
      "text/plain": [
       "9"
      ]
     },
     "execution_count": 350,
     "metadata": {},
     "output_type": "execute_result"
    }
   ],
   "source": [
    "len(Rating)"
   ]
  },
  {
   "cell_type": "markdown",
   "id": "12d0e80d",
   "metadata": {},
   "source": [
    "**v) Image URL**"
   ]
  },
  {
   "cell_type": "code",
   "execution_count": 352,
   "id": "f5111050",
   "metadata": {},
   "outputs": [
    {
     "data": {
      "text/plain": [
       "['https://im1.dineout.co.in/images/uploads/restaurant/sharpen/8/k/b/p86792-16062953735fbe1f4d3fb7e.jpg?tr=tr:n-medium',\n",
       " 'https://im1.dineout.co.in/images/uploads/restaurant/sharpen/5/p/m/p59633-166088382462ff137009010.jpg?tr=tr:n-medium',\n",
       " 'https://im1.dineout.co.in/images/uploads/restaurant/sharpen/4/p/m/p406-15438184745c04ccea491bc.jpg?tr=tr:n-medium',\n",
       " 'https://im1.dineout.co.in/images/uploads/restaurant/sharpen/3/j/o/p38113-15959192065f1fcb666130c.jpg?tr=tr:n-medium',\n",
       " 'https://im1.dineout.co.in/images/uploads/restaurant/sharpen/7/p/k/p79307-16051787755fad1597f2bf9.jpg?tr=tr:n-medium',\n",
       " 'https://im1.dineout.co.in/images/uploads/restaurant/sharpen/2/v/t/p2687-1482477169585cce712b90f.jpg?tr=tr:n-medium',\n",
       " 'https://im1.dineout.co.in/images/uploads/restaurant/sharpen/5/d/i/p52501-1661855212630de5eceb6d2.jpg?tr=tr:n-medium',\n",
       " 'https://im1.dineout.co.in/images/uploads/restaurant/sharpen/3/n/o/p34822-15599107305cfa594a13c24.jpg?tr=tr:n-medium',\n",
       " 'https://im1.dineout.co.in/images/uploads/restaurant/sharpen/5/y/f/p549-165000147262590640c0afc.jpg?tr=tr:n-medium']"
      ]
     },
     "execution_count": 352,
     "metadata": {},
     "output_type": "execute_result"
    }
   ],
   "source": [
    "Image_url=[]\n",
    "for i in soap.find_all('img',class_=\"no-img\"):\n",
    "    Image_url.append(i.get('data-src'))\n",
    "Image_url"
   ]
  },
  {
   "cell_type": "code",
   "execution_count": 353,
   "id": "bd2e59d1",
   "metadata": {},
   "outputs": [
    {
     "data": {
      "text/plain": [
       "9"
      ]
     },
     "execution_count": 353,
     "metadata": {},
     "output_type": "execute_result"
    }
   ],
   "source": [
    "len(Image_url)"
   ]
  },
  {
   "cell_type": "code",
   "execution_count": 355,
   "id": "957970a3",
   "metadata": {},
   "outputs": [
    {
     "data": {
      "text/html": [
       "<div>\n",
       "<style scoped>\n",
       "    .dataframe tbody tr th:only-of-type {\n",
       "        vertical-align: middle;\n",
       "    }\n",
       "\n",
       "    .dataframe tbody tr th {\n",
       "        vertical-align: top;\n",
       "    }\n",
       "\n",
       "    .dataframe thead th {\n",
       "        text-align: right;\n",
       "    }\n",
       "</style>\n",
       "<table border=\"1\" class=\"dataframe\">\n",
       "  <thead>\n",
       "    <tr style=\"text-align: right;\">\n",
       "      <th></th>\n",
       "      <th>Restaurant Name</th>\n",
       "      <th>Cuisine</th>\n",
       "      <th>Location</th>\n",
       "      <th>Rating</th>\n",
       "      <th>Image URL</th>\n",
       "    </tr>\n",
       "  </thead>\n",
       "  <tbody>\n",
       "    <tr>\n",
       "      <th>0</th>\n",
       "      <td>Castle Barbeque</td>\n",
       "      <td>Chinese, North Indian</td>\n",
       "      <td>Connaught Place, Central Delhi</td>\n",
       "      <td>4</td>\n",
       "      <td>https://im1.dineout.co.in/images/uploads/resta...</td>\n",
       "    </tr>\n",
       "    <tr>\n",
       "      <th>1</th>\n",
       "      <td>Jungle Jamboree</td>\n",
       "      <td>North Indian, Asian, Italian</td>\n",
       "      <td>3CS Mall,Lajpat Nagar - 3, South Delhi</td>\n",
       "      <td>3.9</td>\n",
       "      <td>https://im1.dineout.co.in/images/uploads/resta...</td>\n",
       "    </tr>\n",
       "    <tr>\n",
       "      <th>2</th>\n",
       "      <td>Cafe Knosh</td>\n",
       "      <td>Italian, Continental1 deal available</td>\n",
       "      <td>The Leela Ambience Convention Hotel,Shahdara, ...</td>\n",
       "      <td>4.3</td>\n",
       "      <td>https://im1.dineout.co.in/images/uploads/resta...</td>\n",
       "    </tr>\n",
       "    <tr>\n",
       "      <th>3</th>\n",
       "      <td>Castle Barbeque</td>\n",
       "      <td>Chinese, North Indian</td>\n",
       "      <td>Pacific Mall,Tagore Garden, West Delhi</td>\n",
       "      <td>3.9</td>\n",
       "      <td>https://im1.dineout.co.in/images/uploads/resta...</td>\n",
       "    </tr>\n",
       "    <tr>\n",
       "      <th>4</th>\n",
       "      <td>The Barbeque Company</td>\n",
       "      <td>North Indian, Chinese</td>\n",
       "      <td>Gardens Galleria,Sector 38A, Noida</td>\n",
       "      <td>3.9</td>\n",
       "      <td>https://im1.dineout.co.in/images/uploads/resta...</td>\n",
       "    </tr>\n",
       "    <tr>\n",
       "      <th>5</th>\n",
       "      <td>India Grill</td>\n",
       "      <td>North Indian, Italian</td>\n",
       "      <td>Hilton Garden Inn,Saket, South Delhi</td>\n",
       "      <td>3.9</td>\n",
       "      <td>https://im1.dineout.co.in/images/uploads/resta...</td>\n",
       "    </tr>\n",
       "    <tr>\n",
       "      <th>6</th>\n",
       "      <td>Delhi Barbeque</td>\n",
       "      <td>North Indian</td>\n",
       "      <td>Taurus Sarovar Portico,Mahipalpur, South Delhi</td>\n",
       "      <td>3.7</td>\n",
       "      <td>https://im1.dineout.co.in/images/uploads/resta...</td>\n",
       "    </tr>\n",
       "    <tr>\n",
       "      <th>7</th>\n",
       "      <td>The Monarch - Bar Be Que Village</td>\n",
       "      <td>North Indian</td>\n",
       "      <td>Indirapuram Habitat Centre,Indirapuram, Ghaziabad</td>\n",
       "      <td>3.8</td>\n",
       "      <td>https://im1.dineout.co.in/images/uploads/resta...</td>\n",
       "    </tr>\n",
       "    <tr>\n",
       "      <th>8</th>\n",
       "      <td>Indian Grill Room</td>\n",
       "      <td>North Indian, Mughlai</td>\n",
       "      <td>Suncity Business Tower,Golf Course Road, Gurgaon</td>\n",
       "      <td>4.3</td>\n",
       "      <td>https://im1.dineout.co.in/images/uploads/resta...</td>\n",
       "    </tr>\n",
       "  </tbody>\n",
       "</table>\n",
       "</div>"
      ],
      "text/plain": [
       "                    Restaurant Name                                Cuisine  \\\n",
       "0                   Castle Barbeque                  Chinese, North Indian   \n",
       "1                   Jungle Jamboree           North Indian, Asian, Italian   \n",
       "2                        Cafe Knosh   Italian, Continental1 deal available   \n",
       "3                   Castle Barbeque                  Chinese, North Indian   \n",
       "4              The Barbeque Company                  North Indian, Chinese   \n",
       "5                       India Grill                  North Indian, Italian   \n",
       "6                    Delhi Barbeque                           North Indian   \n",
       "7  The Monarch - Bar Be Que Village                           North Indian   \n",
       "8                 Indian Grill Room                  North Indian, Mughlai   \n",
       "\n",
       "                                            Location Rating  \\\n",
       "0                     Connaught Place, Central Delhi      4   \n",
       "1             3CS Mall,Lajpat Nagar - 3, South Delhi    3.9   \n",
       "2  The Leela Ambience Convention Hotel,Shahdara, ...    4.3   \n",
       "3             Pacific Mall,Tagore Garden, West Delhi    3.9   \n",
       "4                 Gardens Galleria,Sector 38A, Noida    3.9   \n",
       "5               Hilton Garden Inn,Saket, South Delhi    3.9   \n",
       "6     Taurus Sarovar Portico,Mahipalpur, South Delhi    3.7   \n",
       "7  Indirapuram Habitat Centre,Indirapuram, Ghaziabad    3.8   \n",
       "8   Suncity Business Tower,Golf Course Road, Gurgaon    4.3   \n",
       "\n",
       "                                           Image URL  \n",
       "0  https://im1.dineout.co.in/images/uploads/resta...  \n",
       "1  https://im1.dineout.co.in/images/uploads/resta...  \n",
       "2  https://im1.dineout.co.in/images/uploads/resta...  \n",
       "3  https://im1.dineout.co.in/images/uploads/resta...  \n",
       "4  https://im1.dineout.co.in/images/uploads/resta...  \n",
       "5  https://im1.dineout.co.in/images/uploads/resta...  \n",
       "6  https://im1.dineout.co.in/images/uploads/resta...  \n",
       "7  https://im1.dineout.co.in/images/uploads/resta...  \n",
       "8  https://im1.dineout.co.in/images/uploads/resta...  "
      ]
     },
     "execution_count": 355,
     "metadata": {},
     "output_type": "execute_result"
    }
   ],
   "source": [
    "df=pd.DataFrame({'Restaurant Name':Restaurant_name,'Cuisine':Cuisine,'Location':Location,'Rating':Rating,'Image URL':Image_url})\n",
    "df"
   ]
  },
  {
   "cell_type": "code",
   "execution_count": null,
   "id": "c6a42687",
   "metadata": {},
   "outputs": [],
   "source": []
  }
 ],
 "metadata": {
  "kernelspec": {
   "display_name": "Python 3 (ipykernel)",
   "language": "python",
   "name": "python3"
  },
  "language_info": {
   "codemirror_mode": {
    "name": "ipython",
    "version": 3
   },
   "file_extension": ".py",
   "mimetype": "text/x-python",
   "name": "python",
   "nbconvert_exporter": "python",
   "pygments_lexer": "ipython3",
   "version": "3.9.12"
  },
  "toc": {
   "base_numbering": 1,
   "nav_menu": {},
   "number_sections": true,
   "sideBar": true,
   "skip_h1_title": false,
   "title_cell": "Table of Contents",
   "title_sidebar": "Contents",
   "toc_cell": false,
   "toc_position": {},
   "toc_section_display": true,
   "toc_window_display": false
  }
 },
 "nbformat": 4,
 "nbformat_minor": 5
}
